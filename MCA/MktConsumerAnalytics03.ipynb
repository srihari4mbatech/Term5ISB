{
 "cells": [
  {
   "attachments": {},
   "cell_type": "markdown",
   "id": "fdf4ade7-ec61-4bb4-9b1c-b35e4668ebe3",
   "metadata": {},
   "source": [
    "### Paid Search Bid Optimization \n",
    "\n",
    "Question on Paid Search Bid Optimization(There are 4 parts )\n",
    "\n",
    "A travel services firm has a paid search campaign. Among the many keywords in its campaign, we have data on four keywords, denoted by kw8322228, kw8322392, kw8322393 and kw8322445. These are generic, non-branded keywords, where the prospect's query does not indicate that he/she is leaning toward a specific brand. For each keyword, the firm tried several bid values and recorded the corresponding number of clicks that it received!\n",
    "\n",
    "_**Note: Alpha should be between 70 and 76, beta should between 0.03 and 0.06, with a residual-sum-of-squares of about 230.**_\n",
    "\n",
    "Step1: Estimate the alpha and beta for a keyword - you need to nonlinear regression. Curve fitting through scipy.optimize.curve_fit.\n",
    "\n",
    "Step2:"
   ]
  },
  {
   "cell_type": "code",
   "execution_count": 1,
   "id": "7e064d98-ff5f-4f2c-81dd-8786bffc7396",
   "metadata": {},
   "outputs": [
    {
     "name": "stderr",
     "output_type": "stream",
     "text": [
      "WARNING:2025-04-18 07:25:25,494:jax._src.xla_bridge:1018: Platform 'METAL' is experimental and not all JAX functionality may be correctly supported!\n"
     ]
    },
    {
     "name": "stdout",
     "output_type": "stream",
     "text": [
      "Metal device set to: Apple M3 Pro\n",
      "\n",
      "systemMemory: 18.00 GB\n",
      "maxCacheSize: 6.00 GB\n",
      "\n"
     ]
    },
    {
     "name": "stderr",
     "output_type": "stream",
     "text": [
      "WARNING: All log messages before absl::InitializeLog() is called are written to STDERR\n",
      "W0000 00:00:1744941325.495566  328620 mps_client.cc:510] WARNING: JAX Apple GPU support is experimental and not all JAX functionality is correctly supported!\n",
      "I0000 00:00:1744941325.508341  328620 service.cc:145] XLA service 0x136564d10 initialized for platform METAL (this does not guarantee that XLA will be used). Devices:\n",
      "I0000 00:00:1744941325.508360  328620 service.cc:153]   StreamExecutor device (0): Metal, <undefined>\n",
      "I0000 00:00:1744941325.510032  328620 mps_client.cc:406] Using Simple allocator.\n",
      "I0000 00:00:1744941325.510039  328620 mps_client.cc:384] XLA backend will use up to 12884443136 bytes on device 0 for SimpleAllocator.\n"
     ]
    }
   ],
   "source": [
    "import pandas as pd\n",
    "import jax\n",
    "import jax.numpy as jnp\n",
    "import matplotlib.pyplot as plt\n",
    "import optax\n",
    "from flax import linen as nn\n",
    "from functools import partial\n",
    "from jax import value_and_grad\n",
    "from sklearn.metrics import root_mean_squared_error\n",
    "ClStreamD01pd=pd.read_csv(\"./Data/clicksdata.kw8322228.csv\")\n",
    "ClStreamD02pd=pd.read_csv(\"./Data/clicksdata.kw8322392.csv\")\n",
    "ClStreamD03pd=pd.read_csv(\"./Data/clicksdata.kw8322393.csv\")\n",
    "ClStreamD04pd=pd.read_csv(\"./Data/clicksdata.kw8322445.csv\")\n",
    "alphSeries = jnp.linspace(90,100,20)\n",
    "betaeries = jnp.linspace(0,0.5,100)"
   ]
  },
  {
   "cell_type": "code",
   "execution_count": 2,
   "id": "1e6ed257-73a3-4e7e-b64d-6eb3b53bd41b",
   "metadata": {},
   "outputs": [
    {
     "data": {
      "text/plain": [
       "(Array([[ 5.58, 15.  ],\n",
       "        [ 8.04, 24.  ],\n",
       "        [10.77, 25.  ],\n",
       "        [13.83, 30.  ],\n",
       "        [17.33, 46.  ],\n",
       "        [21.39, 38.  ],\n",
       "        [26.25, 40.  ],\n",
       "        [32.27, 50.  ],\n",
       "        [40.24, 65.  ]], dtype=float32),\n",
       " Array([[  1.44,  30.  ],\n",
       "        [  2.07,  45.  ],\n",
       "        [  2.78,  60.  ],\n",
       "        [  3.57,  75.  ],\n",
       "        [  4.47,  66.  ],\n",
       "        [  5.52,  83.  ],\n",
       "        [  6.77,  98.  ],\n",
       "        [  8.33, 106.  ],\n",
       "        [ 10.38, 131.  ]], dtype=float32),\n",
       " Array([[ 3.28, 17.  ],\n",
       "        [ 4.73, 33.  ],\n",
       "        [ 6.34, 42.  ],\n",
       "        [ 8.14, 57.  ],\n",
       "        [10.19, 51.  ],\n",
       "        [12.58, 68.  ],\n",
       "        [15.44, 81.  ],\n",
       "        [18.99, 78.  ],\n",
       "        [23.67, 88.  ]], dtype=float32))"
      ]
     },
     "execution_count": 2,
     "metadata": {},
     "output_type": "execute_result"
    }
   ],
   "source": [
    "# ClStreamD01.head(10)\n",
    "ClStreamD01=jnp.array(ClStreamD01pd)\n",
    "ClStreamD01=ClStreamD01[:,1:3]\n",
    "ClStreamD02=jnp.array(ClStreamD02pd)\n",
    "ClStreamD02=ClStreamD02[:,1:3]\n",
    "ClStreamD03=jnp.array(ClStreamD03pd)\n",
    "ClStreamD03=ClStreamD03[:,1:3]\n",
    "ClStreamD01,ClStreamD02,ClStreamD03"
   ]
  },
  {
   "cell_type": "code",
   "execution_count": 4,
   "id": "866adc5a",
   "metadata": {},
   "outputs": [
    {
     "data": {
      "text/plain": [
       "(Array([ 5.58,  8.04, 10.77, 13.83, 17.33, 21.39, 26.25, 32.27, 40.24],      dtype=float32),\n",
       " Array([15., 24., 25., 30., 46., 38., 40., 50., 65.], dtype=float32))"
      ]
     },
     "execution_count": 4,
     "metadata": {},
     "output_type": "execute_result"
    }
   ],
   "source": [
    "ClStreamD01[:,0], ClStreamD01[:,1]"
   ]
  },
  {
   "cell_type": "code",
   "execution_count": 5,
   "id": "d3ca173e-6190-4f8f-bad2-c6ebc9980c32",
   "metadata": {},
   "outputs": [
    {
     "name": "stdout",
     "output_type": "stream",
     "text": [
      "[15. 24. 25. 30. 46. 38. 40. 50. 65.]\n",
      "Epoch 0, Loss: 27.8426, alpha: 99.00, beta: 0.0070\n",
      "Epoch 10, Loss: 12.6971, alpha: 99.01, beta: 0.0168\n",
      "Epoch 20, Loss: 5.4459, alpha: 99.02, beta: 0.0254\n",
      "Epoch 30, Loss: 6.3533, alpha: 99.02, beta: 0.0283\n",
      "Epoch 40, Loss: 5.6199, alpha: 99.02, beta: 0.0263\n",
      "Epoch 50, Loss: 5.4980, alpha: 99.01, beta: 0.0243\n",
      "Epoch 60, Loss: 5.4431, alpha: 99.01, beta: 0.0248\n",
      "Epoch 70, Loss: 5.4329, alpha: 99.01, beta: 0.0256\n",
      "Epoch 80, Loss: 5.4196, alpha: 99.01, beta: 0.0252\n",
      "Epoch 90, Loss: 5.4210, alpha: 99.01, beta: 0.0250\n",
      "Epoch 100, Loss: 5.4183, alpha: 99.01, beta: 0.0252\n",
      "Epoch 110, Loss: 5.4186, alpha: 99.00, beta: 0.0252\n",
      "Epoch 120, Loss: 5.4183, alpha: 99.00, beta: 0.0252\n",
      "Epoch 130, Loss: 5.4182, alpha: 99.00, beta: 0.0252\n",
      "Epoch 140, Loss: 5.4182, alpha: 99.00, beta: 0.0252\n",
      "Epoch 150, Loss: 5.4182, alpha: 99.00, beta: 0.0252\n",
      "Epoch 160, Loss: 5.4181, alpha: 98.99, beta: 0.0252\n",
      "Epoch 170, Loss: 5.4181, alpha: 98.99, beta: 0.0252\n",
      "Epoch 180, Loss: 5.4181, alpha: 98.99, beta: 0.0252\n",
      "Epoch 190, Loss: 5.4180, alpha: 98.99, beta: 0.0252\n",
      "Epoch 200, Loss: 5.4180, alpha: 98.99, beta: 0.0252\n",
      "Epoch 210, Loss: 5.4179, alpha: 98.98, beta: 0.0252\n",
      "Epoch 220, Loss: 5.4179, alpha: 98.98, beta: 0.0252\n",
      "Epoch 230, Loss: 5.4178, alpha: 98.98, beta: 0.0252\n",
      "Epoch 240, Loss: 5.4178, alpha: 98.98, beta: 0.0252\n",
      "Epoch 250, Loss: 5.4177, alpha: 98.98, beta: 0.0252\n",
      "Epoch 260, Loss: 5.4177, alpha: 98.97, beta: 0.0252\n",
      "Epoch 270, Loss: 5.4177, alpha: 98.97, beta: 0.0252\n",
      "Epoch 280, Loss: 5.4176, alpha: 98.97, beta: 0.0252\n",
      "Epoch 290, Loss: 5.4176, alpha: 98.97, beta: 0.0252\n",
      "Epoch 300, Loss: 5.4175, alpha: 98.96, beta: 0.0252\n",
      "Epoch 310, Loss: 5.4175, alpha: 98.96, beta: 0.0252\n",
      "Epoch 320, Loss: 5.4174, alpha: 98.96, beta: 0.0252\n",
      "Epoch 330, Loss: 5.4173, alpha: 98.95, beta: 0.0252\n",
      "Epoch 340, Loss: 5.4173, alpha: 98.95, beta: 0.0252\n",
      "Epoch 350, Loss: 5.4172, alpha: 98.95, beta: 0.0252\n",
      "Epoch 360, Loss: 5.4172, alpha: 98.95, beta: 0.0252\n",
      "Epoch 370, Loss: 5.4171, alpha: 98.94, beta: 0.0252\n",
      "Epoch 380, Loss: 5.4171, alpha: 98.94, beta: 0.0252\n",
      "Epoch 390, Loss: 5.4170, alpha: 98.94, beta: 0.0252\n",
      "Epoch 400, Loss: 5.4170, alpha: 98.93, beta: 0.0252\n",
      "Epoch 410, Loss: 5.4169, alpha: 98.93, beta: 0.0252\n",
      "Epoch 420, Loss: 5.4168, alpha: 98.93, beta: 0.0252\n",
      "Epoch 430, Loss: 5.4168, alpha: 98.92, beta: 0.0252\n",
      "Epoch 440, Loss: 5.4167, alpha: 98.92, beta: 0.0252\n",
      "Epoch 450, Loss: 5.4166, alpha: 98.92, beta: 0.0252\n",
      "Epoch 460, Loss: 5.4166, alpha: 98.91, beta: 0.0252\n",
      "Epoch 470, Loss: 5.4165, alpha: 98.91, beta: 0.0252\n",
      "Epoch 480, Loss: 5.4164, alpha: 98.91, beta: 0.0252\n",
      "Epoch 490, Loss: 5.4164, alpha: 98.90, beta: 0.0252\n",
      "Epoch 500, Loss: 5.4163, alpha: 98.90, beta: 0.0252\n",
      "Epoch 510, Loss: 5.4162, alpha: 98.90, beta: 0.0252\n",
      "Epoch 520, Loss: 5.4162, alpha: 98.89, beta: 0.0252\n",
      "Epoch 530, Loss: 5.4161, alpha: 98.89, beta: 0.0252\n",
      "Epoch 540, Loss: 5.4160, alpha: 98.89, beta: 0.0252\n",
      "Epoch 550, Loss: 5.4160, alpha: 98.88, beta: 0.0252\n",
      "Epoch 560, Loss: 5.4159, alpha: 98.88, beta: 0.0252\n",
      "Epoch 570, Loss: 5.4158, alpha: 98.87, beta: 0.0252\n",
      "Epoch 580, Loss: 5.4158, alpha: 98.87, beta: 0.0252\n",
      "Epoch 590, Loss: 5.4157, alpha: 98.87, beta: 0.0252\n",
      "Epoch 600, Loss: 5.4156, alpha: 98.86, beta: 0.0252\n",
      "Epoch 610, Loss: 5.4155, alpha: 98.86, beta: 0.0252\n",
      "Epoch 620, Loss: 5.4155, alpha: 98.85, beta: 0.0252\n",
      "Epoch 630, Loss: 5.4154, alpha: 98.85, beta: 0.0252\n",
      "Epoch 640, Loss: 5.4153, alpha: 98.85, beta: 0.0252\n",
      "Epoch 650, Loss: 5.4152, alpha: 98.84, beta: 0.0252\n",
      "Epoch 660, Loss: 5.4151, alpha: 98.84, beta: 0.0252\n",
      "Epoch 670, Loss: 5.4151, alpha: 98.83, beta: 0.0252\n",
      "Epoch 680, Loss: 5.4150, alpha: 98.83, beta: 0.0253\n",
      "Epoch 690, Loss: 5.4149, alpha: 98.83, beta: 0.0253\n",
      "Epoch 700, Loss: 5.4148, alpha: 98.82, beta: 0.0253\n",
      "Epoch 710, Loss: 5.4147, alpha: 98.82, beta: 0.0253\n",
      "Epoch 720, Loss: 5.4147, alpha: 98.81, beta: 0.0253\n",
      "Epoch 730, Loss: 5.4146, alpha: 98.81, beta: 0.0253\n",
      "Epoch 740, Loss: 5.4145, alpha: 98.80, beta: 0.0253\n",
      "Epoch 750, Loss: 5.4144, alpha: 98.80, beta: 0.0253\n",
      "Epoch 760, Loss: 5.4143, alpha: 98.80, beta: 0.0253\n",
      "Epoch 770, Loss: 5.4142, alpha: 98.79, beta: 0.0253\n",
      "Epoch 780, Loss: 5.4141, alpha: 98.79, beta: 0.0253\n",
      "Epoch 790, Loss: 5.4141, alpha: 98.78, beta: 0.0253\n",
      "Epoch 800, Loss: 5.4140, alpha: 98.78, beta: 0.0253\n",
      "Epoch 810, Loss: 5.4139, alpha: 98.77, beta: 0.0253\n",
      "Epoch 820, Loss: 5.4138, alpha: 98.77, beta: 0.0253\n",
      "Epoch 830, Loss: 5.4137, alpha: 98.76, beta: 0.0253\n",
      "Epoch 840, Loss: 5.4136, alpha: 98.76, beta: 0.0253\n",
      "Epoch 850, Loss: 5.4135, alpha: 98.75, beta: 0.0253\n",
      "Epoch 860, Loss: 5.4134, alpha: 98.75, beta: 0.0253\n",
      "Epoch 870, Loss: 5.4133, alpha: 98.74, beta: 0.0253\n",
      "Epoch 880, Loss: 5.4132, alpha: 98.74, beta: 0.0253\n",
      "Epoch 890, Loss: 5.4132, alpha: 98.73, beta: 0.0253\n",
      "Epoch 900, Loss: 5.4131, alpha: 98.73, beta: 0.0253\n",
      "Epoch 910, Loss: 5.4130, alpha: 98.72, beta: 0.0253\n",
      "Epoch 920, Loss: 5.4129, alpha: 98.72, beta: 0.0253\n",
      "Epoch 930, Loss: 5.4128, alpha: 98.71, beta: 0.0253\n",
      "Epoch 940, Loss: 5.4127, alpha: 98.71, beta: 0.0253\n",
      "Epoch 950, Loss: 5.4126, alpha: 98.70, beta: 0.0253\n",
      "Epoch 960, Loss: 5.4125, alpha: 98.70, beta: 0.0253\n",
      "Epoch 970, Loss: 5.4124, alpha: 98.69, beta: 0.0253\n",
      "Epoch 980, Loss: 5.4123, alpha: 98.69, beta: 0.0253\n",
      "Epoch 990, Loss: 5.4122, alpha: 98.68, beta: 0.0253\n",
      "Epoch 1000, Loss: 5.4121, alpha: 98.68, beta: 0.0253\n",
      "Epoch 1010, Loss: 5.4120, alpha: 98.67, beta: 0.0253\n",
      "Epoch 1020, Loss: 5.4119, alpha: 98.67, beta: 0.0253\n",
      "Epoch 1030, Loss: 5.4118, alpha: 98.66, beta: 0.0253\n",
      "Epoch 1040, Loss: 5.4117, alpha: 98.66, beta: 0.0253\n",
      "Epoch 1050, Loss: 5.4116, alpha: 98.65, beta: 0.0253\n",
      "Epoch 1060, Loss: 5.4115, alpha: 98.65, beta: 0.0253\n",
      "Epoch 1070, Loss: 5.4114, alpha: 98.64, beta: 0.0253\n",
      "Epoch 1080, Loss: 5.4113, alpha: 98.64, beta: 0.0253\n",
      "Epoch 1090, Loss: 5.4112, alpha: 98.63, beta: 0.0253\n",
      "Epoch 1100, Loss: 5.4111, alpha: 98.63, beta: 0.0253\n",
      "Epoch 1110, Loss: 5.4109, alpha: 98.62, beta: 0.0253\n",
      "Epoch 1120, Loss: 5.4108, alpha: 98.61, beta: 0.0253\n",
      "Epoch 1130, Loss: 5.4107, alpha: 98.61, beta: 0.0253\n",
      "Epoch 1140, Loss: 5.4106, alpha: 98.60, beta: 0.0253\n",
      "Epoch 1150, Loss: 5.4105, alpha: 98.60, beta: 0.0253\n",
      "Epoch 1160, Loss: 5.4104, alpha: 98.59, beta: 0.0253\n",
      "Epoch 1170, Loss: 5.4103, alpha: 98.59, beta: 0.0253\n",
      "Epoch 1180, Loss: 5.4102, alpha: 98.58, beta: 0.0253\n",
      "Epoch 1190, Loss: 5.4101, alpha: 98.57, beta: 0.0253\n",
      "Epoch 1200, Loss: 5.4100, alpha: 98.57, beta: 0.0253\n",
      "Epoch 1210, Loss: 5.4099, alpha: 98.56, beta: 0.0253\n",
      "Epoch 1220, Loss: 5.4097, alpha: 98.56, beta: 0.0254\n",
      "Epoch 1230, Loss: 5.4096, alpha: 98.55, beta: 0.0254\n",
      "Epoch 1240, Loss: 5.4095, alpha: 98.54, beta: 0.0254\n",
      "Epoch 1250, Loss: 5.4094, alpha: 98.54, beta: 0.0254\n",
      "Epoch 1260, Loss: 5.4093, alpha: 98.53, beta: 0.0254\n",
      "Epoch 1270, Loss: 5.4092, alpha: 98.53, beta: 0.0254\n",
      "Epoch 1280, Loss: 5.4091, alpha: 98.52, beta: 0.0254\n",
      "Epoch 1290, Loss: 5.4089, alpha: 98.51, beta: 0.0254\n",
      "Epoch 1300, Loss: 5.4088, alpha: 98.51, beta: 0.0254\n",
      "Epoch 1310, Loss: 5.4087, alpha: 98.50, beta: 0.0254\n",
      "Epoch 1320, Loss: 5.4086, alpha: 98.50, beta: 0.0254\n",
      "Epoch 1330, Loss: 5.4085, alpha: 98.49, beta: 0.0254\n",
      "Epoch 1340, Loss: 5.4084, alpha: 98.48, beta: 0.0254\n",
      "Epoch 1350, Loss: 5.4082, alpha: 98.48, beta: 0.0254\n",
      "Epoch 1360, Loss: 5.4081, alpha: 98.47, beta: 0.0254\n",
      "Epoch 1370, Loss: 5.4080, alpha: 98.47, beta: 0.0254\n",
      "Epoch 1380, Loss: 5.4079, alpha: 98.46, beta: 0.0254\n",
      "Epoch 1390, Loss: 5.4078, alpha: 98.45, beta: 0.0254\n",
      "Epoch 1400, Loss: 5.4076, alpha: 98.45, beta: 0.0254\n",
      "Epoch 1410, Loss: 5.4075, alpha: 98.44, beta: 0.0254\n",
      "Epoch 1420, Loss: 5.4074, alpha: 98.43, beta: 0.0254\n",
      "Epoch 1430, Loss: 5.4073, alpha: 98.43, beta: 0.0254\n",
      "Epoch 1440, Loss: 5.4071, alpha: 98.42, beta: 0.0254\n",
      "Epoch 1450, Loss: 5.4070, alpha: 98.41, beta: 0.0254\n",
      "Epoch 1460, Loss: 5.4069, alpha: 98.41, beta: 0.0254\n",
      "Epoch 1470, Loss: 5.4068, alpha: 98.40, beta: 0.0254\n",
      "Epoch 1480, Loss: 5.4067, alpha: 98.40, beta: 0.0254\n",
      "Epoch 1490, Loss: 5.4065, alpha: 98.39, beta: 0.0254\n",
      "Epoch 1500, Loss: 5.4064, alpha: 98.38, beta: 0.0254\n",
      "Epoch 1510, Loss: 5.4063, alpha: 98.38, beta: 0.0254\n",
      "Epoch 1520, Loss: 5.4061, alpha: 98.37, beta: 0.0254\n",
      "Epoch 1530, Loss: 5.4060, alpha: 98.36, beta: 0.0254\n",
      "Epoch 1540, Loss: 5.4059, alpha: 98.36, beta: 0.0254\n",
      "Epoch 1550, Loss: 5.4058, alpha: 98.35, beta: 0.0254\n",
      "Epoch 1560, Loss: 5.4056, alpha: 98.34, beta: 0.0254\n",
      "Epoch 1570, Loss: 5.4055, alpha: 98.34, beta: 0.0254\n",
      "Epoch 1580, Loss: 5.4054, alpha: 98.33, beta: 0.0254\n",
      "Epoch 1590, Loss: 5.4052, alpha: 98.32, beta: 0.0254\n",
      "Epoch 1600, Loss: 5.4051, alpha: 98.32, beta: 0.0254\n",
      "Epoch 1610, Loss: 5.4050, alpha: 98.31, beta: 0.0254\n",
      "Epoch 1620, Loss: 5.4049, alpha: 98.30, beta: 0.0254\n",
      "Epoch 1630, Loss: 5.4047, alpha: 98.29, beta: 0.0254\n",
      "Epoch 1640, Loss: 5.4046, alpha: 98.29, beta: 0.0255\n",
      "Epoch 1650, Loss: 5.4045, alpha: 98.28, beta: 0.0255\n",
      "Epoch 1660, Loss: 5.4043, alpha: 98.27, beta: 0.0255\n",
      "Epoch 1670, Loss: 5.4042, alpha: 98.27, beta: 0.0255\n",
      "Epoch 1680, Loss: 5.4041, alpha: 98.26, beta: 0.0255\n",
      "Epoch 1690, Loss: 5.4039, alpha: 98.25, beta: 0.0255\n",
      "Epoch 1700, Loss: 5.4038, alpha: 98.25, beta: 0.0255\n",
      "Epoch 1710, Loss: 5.4037, alpha: 98.24, beta: 0.0255\n",
      "Epoch 1720, Loss: 5.4035, alpha: 98.23, beta: 0.0255\n",
      "Epoch 1730, Loss: 5.4034, alpha: 98.22, beta: 0.0255\n",
      "Epoch 1740, Loss: 5.4032, alpha: 98.22, beta: 0.0255\n",
      "Epoch 1750, Loss: 5.4031, alpha: 98.21, beta: 0.0255\n",
      "Epoch 1760, Loss: 5.4030, alpha: 98.20, beta: 0.0255\n",
      "Epoch 1770, Loss: 5.4028, alpha: 98.20, beta: 0.0255\n",
      "Epoch 1780, Loss: 5.4027, alpha: 98.19, beta: 0.0255\n",
      "Epoch 1790, Loss: 5.4026, alpha: 98.18, beta: 0.0255\n",
      "Epoch 1800, Loss: 5.4024, alpha: 98.17, beta: 0.0255\n",
      "Epoch 1810, Loss: 5.4023, alpha: 98.17, beta: 0.0255\n",
      "Epoch 1820, Loss: 5.4021, alpha: 98.16, beta: 0.0255\n",
      "Epoch 1830, Loss: 5.4020, alpha: 98.15, beta: 0.0255\n",
      "Epoch 1840, Loss: 5.4019, alpha: 98.14, beta: 0.0255\n",
      "Epoch 1850, Loss: 5.4017, alpha: 98.14, beta: 0.0255\n",
      "Epoch 1860, Loss: 5.4016, alpha: 98.13, beta: 0.0255\n",
      "Epoch 1870, Loss: 5.4014, alpha: 98.12, beta: 0.0255\n",
      "Epoch 1880, Loss: 5.4013, alpha: 98.12, beta: 0.0255\n",
      "Epoch 1890, Loss: 5.4011, alpha: 98.11, beta: 0.0255\n",
      "Epoch 1900, Loss: 5.4010, alpha: 98.10, beta: 0.0255\n",
      "Epoch 1910, Loss: 5.4009, alpha: 98.09, beta: 0.0255\n",
      "Epoch 1920, Loss: 5.4007, alpha: 98.09, beta: 0.0255\n",
      "Epoch 1930, Loss: 5.4006, alpha: 98.08, beta: 0.0255\n",
      "Epoch 1940, Loss: 5.4004, alpha: 98.07, beta: 0.0255\n",
      "Epoch 1950, Loss: 5.4003, alpha: 98.06, beta: 0.0255\n",
      "Epoch 1960, Loss: 5.4001, alpha: 98.06, beta: 0.0255\n",
      "Epoch 1970, Loss: 5.4000, alpha: 98.05, beta: 0.0255\n",
      "Epoch 1980, Loss: 5.3998, alpha: 98.04, beta: 0.0255\n",
      "Epoch 1990, Loss: 5.3997, alpha: 98.03, beta: 0.0255\n",
      "Epoch 2000, Loss: 5.3996, alpha: 98.02, beta: 0.0256\n",
      "Epoch 2010, Loss: 5.3994, alpha: 98.02, beta: 0.0256\n",
      "Epoch 2020, Loss: 5.3993, alpha: 98.01, beta: 0.0256\n",
      "Epoch 2030, Loss: 5.3991, alpha: 98.00, beta: 0.0256\n",
      "Epoch 2040, Loss: 5.3990, alpha: 97.99, beta: 0.0256\n",
      "Epoch 2050, Loss: 5.3988, alpha: 97.99, beta: 0.0256\n",
      "Epoch 2060, Loss: 5.3987, alpha: 97.98, beta: 0.0256\n",
      "Epoch 2070, Loss: 5.3985, alpha: 97.97, beta: 0.0256\n",
      "Epoch 2080, Loss: 5.3984, alpha: 97.96, beta: 0.0256\n",
      "Epoch 2090, Loss: 5.3982, alpha: 97.96, beta: 0.0256\n",
      "Epoch 2100, Loss: 5.3981, alpha: 97.95, beta: 0.0256\n",
      "Epoch 2110, Loss: 5.3979, alpha: 97.94, beta: 0.0256\n",
      "Epoch 2120, Loss: 5.3978, alpha: 97.93, beta: 0.0256\n",
      "Epoch 2130, Loss: 5.3976, alpha: 97.92, beta: 0.0256\n",
      "Epoch 2140, Loss: 5.3975, alpha: 97.92, beta: 0.0256\n",
      "Epoch 2150, Loss: 5.3973, alpha: 97.91, beta: 0.0256\n",
      "Epoch 2160, Loss: 5.3972, alpha: 97.90, beta: 0.0256\n",
      "Epoch 2170, Loss: 5.3970, alpha: 97.89, beta: 0.0256\n",
      "Epoch 2180, Loss: 5.3969, alpha: 97.88, beta: 0.0256\n",
      "Epoch 2190, Loss: 5.3967, alpha: 97.88, beta: 0.0256\n",
      "Epoch 2200, Loss: 5.3965, alpha: 97.87, beta: 0.0256\n",
      "Epoch 2210, Loss: 5.3964, alpha: 97.86, beta: 0.0256\n",
      "Epoch 2220, Loss: 5.3962, alpha: 97.85, beta: 0.0256\n",
      "Epoch 2230, Loss: 5.3961, alpha: 97.84, beta: 0.0256\n",
      "Epoch 2240, Loss: 5.3959, alpha: 97.84, beta: 0.0256\n",
      "Epoch 2250, Loss: 5.3958, alpha: 97.83, beta: 0.0256\n",
      "Epoch 2260, Loss: 5.3956, alpha: 97.82, beta: 0.0256\n",
      "Epoch 2270, Loss: 5.3955, alpha: 97.81, beta: 0.0256\n",
      "Epoch 2280, Loss: 5.3953, alpha: 97.80, beta: 0.0256\n",
      "Epoch 2290, Loss: 5.3952, alpha: 97.80, beta: 0.0256\n",
      "Epoch 2300, Loss: 5.3950, alpha: 97.79, beta: 0.0256\n",
      "Epoch 2310, Loss: 5.3948, alpha: 97.78, beta: 0.0256\n",
      "Epoch 2320, Loss: 5.3947, alpha: 97.77, beta: 0.0256\n",
      "Epoch 2330, Loss: 5.3945, alpha: 97.76, beta: 0.0257\n",
      "Epoch 2340, Loss: 5.3944, alpha: 97.75, beta: 0.0257\n",
      "Epoch 2350, Loss: 5.3942, alpha: 97.75, beta: 0.0257\n",
      "Epoch 2360, Loss: 5.3941, alpha: 97.74, beta: 0.0257\n",
      "Epoch 2370, Loss: 5.3939, alpha: 97.73, beta: 0.0257\n",
      "Epoch 2380, Loss: 5.3937, alpha: 97.72, beta: 0.0257\n",
      "Epoch 2390, Loss: 5.3936, alpha: 97.71, beta: 0.0257\n",
      "Epoch 2400, Loss: 5.3934, alpha: 97.71, beta: 0.0257\n",
      "Epoch 2410, Loss: 5.3933, alpha: 97.70, beta: 0.0257\n",
      "Epoch 2420, Loss: 5.3931, alpha: 97.69, beta: 0.0257\n",
      "Epoch 2430, Loss: 5.3929, alpha: 97.68, beta: 0.0257\n",
      "Epoch 2440, Loss: 5.3928, alpha: 97.67, beta: 0.0257\n",
      "Epoch 2450, Loss: 5.3926, alpha: 97.66, beta: 0.0257\n",
      "Epoch 2460, Loss: 5.3925, alpha: 97.66, beta: 0.0257\n",
      "Epoch 2470, Loss: 5.3923, alpha: 97.65, beta: 0.0257\n",
      "Epoch 2480, Loss: 5.3921, alpha: 97.64, beta: 0.0257\n",
      "Epoch 2490, Loss: 5.3920, alpha: 97.63, beta: 0.0257\n",
      "Epoch 2500, Loss: 5.3918, alpha: 97.62, beta: 0.0257\n",
      "Epoch 2510, Loss: 5.3917, alpha: 97.61, beta: 0.0257\n",
      "Epoch 2520, Loss: 5.3915, alpha: 97.60, beta: 0.0257\n",
      "Epoch 2530, Loss: 5.3913, alpha: 97.60, beta: 0.0257\n",
      "Epoch 2540, Loss: 5.3912, alpha: 97.59, beta: 0.0257\n",
      "Epoch 2550, Loss: 5.3910, alpha: 97.58, beta: 0.0257\n",
      "Epoch 2560, Loss: 5.3908, alpha: 97.57, beta: 0.0257\n",
      "Epoch 2570, Loss: 5.3907, alpha: 97.56, beta: 0.0257\n",
      "Epoch 2580, Loss: 5.3905, alpha: 97.55, beta: 0.0257\n",
      "Epoch 2590, Loss: 5.3903, alpha: 97.55, beta: 0.0257\n",
      "Epoch 2600, Loss: 5.3902, alpha: 97.54, beta: 0.0257\n",
      "Epoch 2610, Loss: 5.3900, alpha: 97.53, beta: 0.0257\n",
      "Epoch 2620, Loss: 5.3899, alpha: 97.52, beta: 0.0257\n",
      "Epoch 2630, Loss: 5.3897, alpha: 97.51, beta: 0.0257\n",
      "Epoch 2640, Loss: 5.3895, alpha: 97.50, beta: 0.0258\n",
      "Epoch 2650, Loss: 5.3894, alpha: 97.49, beta: 0.0258\n",
      "Epoch 2660, Loss: 5.3892, alpha: 97.48, beta: 0.0258\n",
      "Epoch 2670, Loss: 5.3890, alpha: 97.48, beta: 0.0258\n",
      "Epoch 2680, Loss: 5.3889, alpha: 97.47, beta: 0.0258\n",
      "Epoch 2690, Loss: 5.3887, alpha: 97.46, beta: 0.0258\n",
      "Epoch 2700, Loss: 5.3885, alpha: 97.45, beta: 0.0258\n",
      "Epoch 2710, Loss: 5.3884, alpha: 97.44, beta: 0.0258\n",
      "Epoch 2720, Loss: 5.3882, alpha: 97.43, beta: 0.0258\n",
      "Epoch 2730, Loss: 5.3880, alpha: 97.42, beta: 0.0258\n",
      "Epoch 2740, Loss: 5.3879, alpha: 97.42, beta: 0.0258\n",
      "Epoch 2750, Loss: 5.3877, alpha: 97.41, beta: 0.0258\n",
      "Epoch 2760, Loss: 5.3875, alpha: 97.40, beta: 0.0258\n",
      "Epoch 2770, Loss: 5.3874, alpha: 97.39, beta: 0.0258\n",
      "Epoch 2780, Loss: 5.3872, alpha: 97.38, beta: 0.0258\n",
      "Epoch 2790, Loss: 5.3870, alpha: 97.37, beta: 0.0258\n",
      "Epoch 2800, Loss: 5.3868, alpha: 97.36, beta: 0.0258\n",
      "Epoch 2810, Loss: 5.3867, alpha: 97.35, beta: 0.0258\n",
      "Epoch 2820, Loss: 5.3865, alpha: 97.35, beta: 0.0258\n",
      "Epoch 2830, Loss: 5.3863, alpha: 97.34, beta: 0.0258\n",
      "Epoch 2840, Loss: 5.3862, alpha: 97.33, beta: 0.0258\n",
      "Epoch 2850, Loss: 5.3860, alpha: 97.32, beta: 0.0258\n",
      "Epoch 2860, Loss: 5.3858, alpha: 97.31, beta: 0.0258\n",
      "Epoch 2870, Loss: 5.3857, alpha: 97.30, beta: 0.0258\n",
      "Epoch 2880, Loss: 5.3855, alpha: 97.29, beta: 0.0258\n",
      "Epoch 2890, Loss: 5.3853, alpha: 97.28, beta: 0.0258\n",
      "Epoch 2900, Loss: 5.3852, alpha: 97.27, beta: 0.0258\n",
      "Epoch 2910, Loss: 5.3850, alpha: 97.27, beta: 0.0258\n",
      "Epoch 2920, Loss: 5.3848, alpha: 97.26, beta: 0.0258\n",
      "Epoch 2930, Loss: 5.3846, alpha: 97.25, beta: 0.0258\n",
      "Epoch 2940, Loss: 5.3845, alpha: 97.24, beta: 0.0259\n",
      "Epoch 2950, Loss: 5.3843, alpha: 97.23, beta: 0.0259\n",
      "Epoch 2960, Loss: 5.3841, alpha: 97.22, beta: 0.0259\n",
      "Epoch 2970, Loss: 5.3839, alpha: 97.21, beta: 0.0259\n",
      "Epoch 2980, Loss: 5.3838, alpha: 97.20, beta: 0.0259\n",
      "Epoch 2990, Loss: 5.3836, alpha: 97.19, beta: 0.0259\n",
      "Epoch 3000, Loss: 5.3834, alpha: 97.18, beta: 0.0259\n",
      "Epoch 3010, Loss: 5.3833, alpha: 97.18, beta: 0.0259\n",
      "Epoch 3020, Loss: 5.3831, alpha: 97.17, beta: 0.0259\n",
      "Epoch 3030, Loss: 5.3829, alpha: 97.16, beta: 0.0259\n",
      "Epoch 3040, Loss: 5.3827, alpha: 97.15, beta: 0.0259\n",
      "Epoch 3050, Loss: 5.3826, alpha: 97.14, beta: 0.0259\n",
      "Epoch 3060, Loss: 5.3824, alpha: 97.13, beta: 0.0259\n",
      "Epoch 3070, Loss: 5.3822, alpha: 97.12, beta: 0.0259\n",
      "Epoch 3080, Loss: 5.3820, alpha: 97.11, beta: 0.0259\n",
      "Epoch 3090, Loss: 5.3819, alpha: 97.10, beta: 0.0259\n",
      "Epoch 3100, Loss: 5.3817, alpha: 97.09, beta: 0.0259\n",
      "Epoch 3110, Loss: 5.3815, alpha: 97.09, beta: 0.0259\n",
      "Epoch 3120, Loss: 5.3813, alpha: 97.08, beta: 0.0259\n",
      "Epoch 3130, Loss: 5.3812, alpha: 97.07, beta: 0.0259\n",
      "Epoch 3140, Loss: 5.3810, alpha: 97.06, beta: 0.0259\n",
      "Epoch 3150, Loss: 5.3808, alpha: 97.05, beta: 0.0259\n",
      "Epoch 3160, Loss: 5.3806, alpha: 97.04, beta: 0.0259\n",
      "Epoch 3170, Loss: 5.3805, alpha: 97.03, beta: 0.0259\n",
      "Epoch 3180, Loss: 5.3803, alpha: 97.02, beta: 0.0259\n",
      "Epoch 3190, Loss: 5.3801, alpha: 97.01, beta: 0.0259\n",
      "Epoch 3200, Loss: 5.3799, alpha: 97.00, beta: 0.0259\n",
      "Epoch 3210, Loss: 5.3798, alpha: 96.99, beta: 0.0259\n",
      "Epoch 3220, Loss: 5.3796, alpha: 96.98, beta: 0.0260\n",
      "Epoch 3230, Loss: 5.3794, alpha: 96.98, beta: 0.0260\n",
      "Epoch 3240, Loss: 5.3792, alpha: 96.97, beta: 0.0260\n",
      "Epoch 3250, Loss: 5.3791, alpha: 96.96, beta: 0.0260\n",
      "Epoch 3260, Loss: 5.3789, alpha: 96.95, beta: 0.0260\n",
      "Epoch 3270, Loss: 5.3787, alpha: 96.94, beta: 0.0260\n",
      "Epoch 3280, Loss: 5.3785, alpha: 96.93, beta: 0.0260\n",
      "Epoch 3290, Loss: 5.3784, alpha: 96.92, beta: 0.0260\n",
      "Epoch 3300, Loss: 5.3782, alpha: 96.91, beta: 0.0260\n",
      "Epoch 3310, Loss: 5.3780, alpha: 96.90, beta: 0.0260\n",
      "Epoch 3320, Loss: 5.3778, alpha: 96.89, beta: 0.0260\n",
      "Epoch 3330, Loss: 5.3776, alpha: 96.88, beta: 0.0260\n",
      "Epoch 3340, Loss: 5.3775, alpha: 96.87, beta: 0.0260\n",
      "Epoch 3350, Loss: 5.3773, alpha: 96.86, beta: 0.0260\n",
      "Epoch 3360, Loss: 5.3771, alpha: 96.86, beta: 0.0260\n",
      "Epoch 3370, Loss: 5.3769, alpha: 96.85, beta: 0.0260\n",
      "Epoch 3380, Loss: 5.3768, alpha: 96.84, beta: 0.0260\n",
      "Epoch 3390, Loss: 5.3766, alpha: 96.83, beta: 0.0260\n",
      "Epoch 3400, Loss: 5.3764, alpha: 96.82, beta: 0.0260\n",
      "Epoch 3410, Loss: 5.3762, alpha: 96.81, beta: 0.0260\n",
      "Epoch 3420, Loss: 5.3760, alpha: 96.80, beta: 0.0260\n",
      "Epoch 3430, Loss: 5.3759, alpha: 96.79, beta: 0.0260\n",
      "Epoch 3440, Loss: 5.3757, alpha: 96.78, beta: 0.0260\n",
      "Epoch 3450, Loss: 5.3755, alpha: 96.77, beta: 0.0260\n",
      "Epoch 3460, Loss: 5.3753, alpha: 96.76, beta: 0.0260\n",
      "Epoch 3470, Loss: 5.3751, alpha: 96.75, beta: 0.0260\n",
      "Epoch 3480, Loss: 5.3750, alpha: 96.74, beta: 0.0260\n",
      "Epoch 3490, Loss: 5.3748, alpha: 96.73, beta: 0.0260\n",
      "Epoch 3500, Loss: 5.3746, alpha: 96.73, beta: 0.0261\n",
      "Epoch 3510, Loss: 5.3744, alpha: 96.72, beta: 0.0261\n",
      "Epoch 3520, Loss: 5.3742, alpha: 96.71, beta: 0.0261\n",
      "Epoch 3530, Loss: 5.3741, alpha: 96.70, beta: 0.0261\n",
      "Epoch 3540, Loss: 5.3739, alpha: 96.69, beta: 0.0261\n",
      "Epoch 3550, Loss: 5.3737, alpha: 96.68, beta: 0.0261\n",
      "Epoch 3560, Loss: 5.3735, alpha: 96.67, beta: 0.0261\n",
      "Epoch 3570, Loss: 5.3733, alpha: 96.66, beta: 0.0261\n",
      "Epoch 3580, Loss: 5.3732, alpha: 96.65, beta: 0.0261\n",
      "Epoch 3590, Loss: 5.3730, alpha: 96.64, beta: 0.0261\n",
      "Epoch 3600, Loss: 5.3728, alpha: 96.63, beta: 0.0261\n",
      "Epoch 3610, Loss: 5.3726, alpha: 96.62, beta: 0.0261\n",
      "Epoch 3620, Loss: 5.3724, alpha: 96.61, beta: 0.0261\n",
      "Epoch 3630, Loss: 5.3723, alpha: 96.60, beta: 0.0261\n",
      "Epoch 3640, Loss: 5.3721, alpha: 96.59, beta: 0.0261\n",
      "Epoch 3650, Loss: 5.3719, alpha: 96.58, beta: 0.0261\n",
      "Epoch 3660, Loss: 5.3717, alpha: 96.57, beta: 0.0261\n",
      "Epoch 3670, Loss: 5.3715, alpha: 96.56, beta: 0.0261\n",
      "Epoch 3680, Loss: 5.3714, alpha: 96.56, beta: 0.0261\n",
      "Epoch 3690, Loss: 5.3712, alpha: 96.55, beta: 0.0261\n",
      "Epoch 3700, Loss: 5.3710, alpha: 96.54, beta: 0.0261\n",
      "Epoch 3710, Loss: 5.3708, alpha: 96.53, beta: 0.0261\n",
      "Epoch 3720, Loss: 5.3706, alpha: 96.52, beta: 0.0261\n",
      "Epoch 3730, Loss: 5.3704, alpha: 96.51, beta: 0.0261\n",
      "Epoch 3740, Loss: 5.3703, alpha: 96.50, beta: 0.0261\n",
      "Epoch 3750, Loss: 5.3701, alpha: 96.49, beta: 0.0261\n",
      "Epoch 3760, Loss: 5.3699, alpha: 96.48, beta: 0.0261\n",
      "Epoch 3770, Loss: 5.3697, alpha: 96.47, beta: 0.0262\n",
      "Epoch 3780, Loss: 5.3695, alpha: 96.46, beta: 0.0262\n",
      "Epoch 3790, Loss: 5.3693, alpha: 96.45, beta: 0.0262\n",
      "Epoch 3800, Loss: 5.3692, alpha: 96.44, beta: 0.0262\n",
      "Epoch 3810, Loss: 5.3690, alpha: 96.43, beta: 0.0262\n",
      "Epoch 3820, Loss: 5.3688, alpha: 96.42, beta: 0.0262\n",
      "Epoch 3830, Loss: 5.3686, alpha: 96.41, beta: 0.0262\n",
      "Epoch 3840, Loss: 5.3684, alpha: 96.40, beta: 0.0262\n",
      "Epoch 3850, Loss: 5.3683, alpha: 96.39, beta: 0.0262\n",
      "Epoch 3860, Loss: 5.3681, alpha: 96.38, beta: 0.0262\n",
      "Epoch 3870, Loss: 5.3679, alpha: 96.37, beta: 0.0262\n",
      "Epoch 3880, Loss: 5.3677, alpha: 96.37, beta: 0.0262\n",
      "Epoch 3890, Loss: 5.3675, alpha: 96.36, beta: 0.0262\n",
      "Epoch 3900, Loss: 5.3673, alpha: 96.35, beta: 0.0262\n",
      "Epoch 3910, Loss: 5.3672, alpha: 96.34, beta: 0.0262\n",
      "Epoch 3920, Loss: 5.3670, alpha: 96.33, beta: 0.0262\n",
      "Epoch 3930, Loss: 5.3668, alpha: 96.32, beta: 0.0262\n",
      "Epoch 3940, Loss: 5.3666, alpha: 96.31, beta: 0.0262\n",
      "Epoch 3950, Loss: 5.3664, alpha: 96.30, beta: 0.0262\n",
      "Epoch 3960, Loss: 5.3662, alpha: 96.29, beta: 0.0262\n",
      "Epoch 3970, Loss: 5.3660, alpha: 96.28, beta: 0.0262\n",
      "Epoch 3980, Loss: 5.3659, alpha: 96.27, beta: 0.0262\n",
      "Epoch 3990, Loss: 5.3657, alpha: 96.26, beta: 0.0262\n",
      "Epoch 4000, Loss: 5.3655, alpha: 96.25, beta: 0.0262\n",
      "Epoch 4010, Loss: 5.3653, alpha: 96.24, beta: 0.0262\n",
      "Epoch 4020, Loss: 5.3651, alpha: 96.23, beta: 0.0262\n",
      "Epoch 4030, Loss: 5.3649, alpha: 96.22, beta: 0.0263\n",
      "Epoch 4040, Loss: 5.3648, alpha: 96.21, beta: 0.0263\n",
      "Epoch 4050, Loss: 5.3646, alpha: 96.20, beta: 0.0263\n",
      "Epoch 4060, Loss: 5.3644, alpha: 96.19, beta: 0.0263\n",
      "Epoch 4070, Loss: 5.3642, alpha: 96.18, beta: 0.0263\n",
      "Epoch 4080, Loss: 5.3640, alpha: 96.17, beta: 0.0263\n",
      "Epoch 4090, Loss: 5.3638, alpha: 96.16, beta: 0.0263\n",
      "Epoch 4100, Loss: 5.3636, alpha: 96.15, beta: 0.0263\n",
      "Epoch 4110, Loss: 5.3635, alpha: 96.14, beta: 0.0263\n",
      "Epoch 4120, Loss: 5.3633, alpha: 96.13, beta: 0.0263\n",
      "Epoch 4130, Loss: 5.3631, alpha: 96.13, beta: 0.0263\n",
      "Epoch 4140, Loss: 5.3629, alpha: 96.12, beta: 0.0263\n",
      "Epoch 4150, Loss: 5.3627, alpha: 96.11, beta: 0.0263\n",
      "Epoch 4160, Loss: 5.3625, alpha: 96.10, beta: 0.0263\n",
      "Epoch 4170, Loss: 5.3624, alpha: 96.09, beta: 0.0263\n",
      "Epoch 4180, Loss: 5.3622, alpha: 96.08, beta: 0.0263\n",
      "Epoch 4190, Loss: 5.3620, alpha: 96.07, beta: 0.0263\n",
      "Epoch 4200, Loss: 5.3618, alpha: 96.06, beta: 0.0263\n",
      "Epoch 4210, Loss: 5.3616, alpha: 96.05, beta: 0.0263\n",
      "Epoch 4220, Loss: 5.3614, alpha: 96.04, beta: 0.0263\n",
      "Epoch 4230, Loss: 5.3612, alpha: 96.03, beta: 0.0263\n",
      "Epoch 4240, Loss: 5.3611, alpha: 96.02, beta: 0.0263\n",
      "Epoch 4250, Loss: 5.3609, alpha: 96.01, beta: 0.0263\n",
      "Epoch 4260, Loss: 5.3607, alpha: 96.00, beta: 0.0263\n",
      "Epoch 4270, Loss: 5.3605, alpha: 95.99, beta: 0.0263\n",
      "Epoch 4280, Loss: 5.3603, alpha: 95.98, beta: 0.0263\n",
      "Epoch 4290, Loss: 5.3601, alpha: 95.97, beta: 0.0264\n",
      "Epoch 4300, Loss: 5.3599, alpha: 95.96, beta: 0.0264\n",
      "Epoch 4310, Loss: 5.3597, alpha: 95.95, beta: 0.0264\n",
      "Epoch 4320, Loss: 5.3596, alpha: 95.94, beta: 0.0264\n",
      "Epoch 4330, Loss: 5.3594, alpha: 95.93, beta: 0.0264\n",
      "Epoch 4340, Loss: 5.3592, alpha: 95.92, beta: 0.0264\n",
      "Epoch 4350, Loss: 5.3590, alpha: 95.91, beta: 0.0264\n",
      "Epoch 4360, Loss: 5.3588, alpha: 95.90, beta: 0.0264\n",
      "Epoch 4370, Loss: 5.3586, alpha: 95.89, beta: 0.0264\n",
      "Epoch 4380, Loss: 5.3584, alpha: 95.88, beta: 0.0264\n",
      "Epoch 4390, Loss: 5.3583, alpha: 95.87, beta: 0.0264\n",
      "Epoch 4400, Loss: 5.3581, alpha: 95.86, beta: 0.0264\n",
      "Epoch 4410, Loss: 5.3579, alpha: 95.85, beta: 0.0264\n",
      "Epoch 4420, Loss: 5.3577, alpha: 95.84, beta: 0.0264\n",
      "Epoch 4430, Loss: 5.3575, alpha: 95.83, beta: 0.0264\n",
      "RMSE 5.357328414916992\n"
     ]
    }
   ],
   "source": [
    "# Step 1: Simulate noisy data using ground truth\n",
    "true_alpha = 100\n",
    "true_beta = 0.8\n",
    "\n",
    "key = jax.random.PRNGKey(0)\n",
    "bid_value = ClStreamD01[:,0]  #For first dataset \n",
    "n_clicks_true = ClStreamD01[:,1]\n",
    "print(n_clicks_true)\n",
    "# n_clicks_true = true_alpha * (1 - jnp.exp(-true_beta * bid_value))\n",
    "# noise = 5.0 * jax.random.normal(key, shape=bid_value.shape)\n",
    "# n_clicks_noisy = n_clicks_true + noise\n",
    "\n",
    "class SaturationModel(nn.Module):\n",
    "    def __call__(self, x, alpha, beta):\n",
    "        return alpha * (1 - jnp.exp(-beta * x))\n",
    "    \n",
    "# Step 3: Initialize parameters (YOUR INIT)\n",
    "params = {\n",
    "    'alpha': jnp.array(99,dtype=jnp.float32),  # Initial α\n",
    "    'beta': jnp.array(0.006,dtype=jnp.float32)     # Initial β\n",
    "}\n",
    "\n",
    "# Optimizer\n",
    "optimizer = optax.adam(learning_rate=0.001)\n",
    "opt_state = optimizer.init(params)\n",
    "\n",
    "# Loss function\n",
    "# @partial(value_and_grad, argnums=0)\n",
    "def loss_fn(params, x, y):\n",
    "    # RMSE is loss function\n",
    "    preds = SaturationModel().apply({}, x, params['alpha'], params['beta'])\n",
    "    return jnp.sqrt(jnp.mean((preds - y) ** 2))\n",
    "\n",
    "# Train step with JIT\n",
    "@jax.jit\n",
    "def train_step(params, opt_state, x, y):\n",
    "    loss, grads = jax.value_and_grad(loss_fn,allow_int=True)(params, x, y)\n",
    "    updates, opt_state = optimizer.update(grads, opt_state, params)\n",
    "    new_params = optax.apply_updates(params, updates)\n",
    "    return new_params, opt_state, loss\n",
    "\n",
    "# Train loop\n",
    "for epoch in range(4440):\n",
    "    params, opt_state, loss = train_step(params, opt_state, bid_value, n_clicks_true)\n",
    "    if epoch % 10 == 0:\n",
    "        print(f\"Epoch {epoch}, Loss: {loss:.4f}, alpha: {params['alpha']:.2f}, beta: {params['beta']:.4f}\")\n",
    "\n",
    "# Predict using learned parameters\n",
    "y_pred = SaturationModel().apply({}, bid_value, params['alpha'], params['beta'])\n",
    "print(f'RMSE {root_mean_squared_error(y_true=n_clicks_true, y_pred=y_pred)}')\n",
    "\n",
    "\n",
    "#"
   ]
  },
  {
   "cell_type": "code",
   "execution_count": 8,
   "id": "e7914070-490e-4add-8686-29c122114d8e",
   "metadata": {},
   "outputs": [
    {
     "data": {
      "text/plain": [
       "(95.82565307617188, 0.02640976384282112)"
      ]
     },
     "execution_count": 8,
     "metadata": {},
     "output_type": "execute_result"
    }
   ],
   "source": [
    "alpha=float(params['alpha'])\n",
    "beta=float(params['beta'])\n",
    "alpha,beta"
   ]
  },
  {
   "cell_type": "code",
   "execution_count": 3,
   "id": "ba08894e-e76e-40d2-bb2a-21015f95601a",
   "metadata": {},
   "outputs": [],
   "source": [
    " #Plot\n",
    "def plotChart(bidVal,nClicksTrue,alpha,beta):\n",
    "    y_pred = SaturationModel().apply({}, bid_value, alpha, beta)\n",
    "    print(f'RMSE {root_mean_squared_error(y_true=n_clicks_true, y_pred=y_pred)}')\n",
    "    plt.figure(figsize=(8, 5))\n",
    "    # plt.scatter(bid_value, n_clicks_noisy, label=\"Noisy Clicks\", alpha=0.4)\n",
    "    plt.plot(bid_value, n_clicks_true, '--', label=\"True Curve\")\n",
    "    plt.plot(bid_value, y_pred, label=\"Fitted Curve (Flax)\", color=\"red\", linewidth=2)\n",
    "    plt.legend()\n",
    "    plt.xlabel(\"Bid Value\")\n",
    "    plt.ylabel(\"N Clicks\")\n",
    "    plt.title(\"Curve Fitting: α(1 - exp(-β * bid))\")\n",
    "    plt.grid(True)\n",
    "    plt.show()"
   ]
  },
  {
   "cell_type": "code",
   "execution_count": 4,
   "id": "f6d75b14-e143-4416-aea3-025b1f768e0c",
   "metadata": {},
   "outputs": [],
   "source": [
    "import jax\n",
    "import jax.numpy as jnp\n",
    "from flax import linen as nn\n",
    "import optax\n",
    "from tqdm import tqdm\n",
    "\n",
    "LEARNINGRATE=0.001\n",
    "BATCHSIZE=32\n",
    "EPOCHS=1000\n",
    "\n",
    "def fitCurve(x_true,y_true,alphaStart,alphaEnd,BetaStart,BetaEnd):\n",
    "    # 🎯 Replace these with your actual data\n",
    "    bid_value = x_true #ClStreamD01[:,0]\n",
    "    n_clicks_true = y_true #ClStreamD01[:,1]\n",
    "\n",
    "    # ✅ Define model\n",
    "    class SaturationModel(nn.Module):\n",
    "        def __call__(self, x, alpha, beta):\n",
    "            return alpha * (1 - jnp.exp(-beta * x))\n",
    "\n",
    "    # ✅ Loss and train_step\n",
    "    def loss_fn(params, x, y_true):\n",
    "        y_pred = SaturationModel().apply({}, x, params['alpha'], params['beta'])\n",
    "        return jnp.sqrt(jnp.mean((y_true - y_pred) ** 2))\n",
    "\n",
    "    @jax.jit\n",
    "    def train_step(params, opt_state, x, y_true):\n",
    "        loss, grads = jax.value_and_grad(loss_fn)(params, x, y_true)\n",
    "        updates, opt_state = optimizer.update(grads, opt_state, params)\n",
    "        new_params = optax.apply_updates(params, updates)\n",
    "        return new_params, opt_state, loss\n",
    "\n",
    "    # ✅ Grid search ranges\n",
    "    alpha_range =jnp.linspace(alphaStart,alphaEnd,num=20) #jnp.linspace(70, 90, num=20)\n",
    "    beta_range = jnp.linspace(BetaStart, BetaEnd, num=20) # jnp.linspace(0.0, 0.5, num=20)\n",
    "\n",
    "    results = []\n",
    "\n",
    "    # ✅ Optimizer config\n",
    "    lr = LEARNINGRATE\n",
    "    optimizer = optax.adam(learning_rate=lr)\n",
    "\n",
    "    # 🔁 Grid search loop\n",
    "    for alpha_init in tqdm(alpha_range, desc=\"Alpha Loop\"):\n",
    "        for beta_init in beta_range:\n",
    "            # Initialize parameters\n",
    "            params = {\n",
    "                'alpha': alpha_init,\n",
    "                'beta': beta_init\n",
    "            }\n",
    "            opt_state = optimizer.init(params)\n",
    "\n",
    "            # Train for 3000 epochs\n",
    "            for epoch in range(EPOCHS):\n",
    "                params, opt_state, loss = train_step(params, opt_state, bid_value, n_clicks_true)\n",
    "\n",
    "            # Save result\n",
    "            results.append({\n",
    "                'alpha_init': float(alpha_init),\n",
    "                'beta_init': float(beta_init),\n",
    "                'final_loss': float(loss),\n",
    "                'alpha_final': float(params['alpha']),\n",
    "                'beta_final': float(params['beta'])\n",
    "            })\n",
    "\n",
    "    # ✅ Sort by lowest loss\n",
    "    results = sorted(results, key=lambda x: x['final_loss'])\n",
    "\n",
    "    # 🔍 Print best result\n",
    "    best = results[0]\n",
    "    print(\"\\n✅ Best Fit Found\")\n",
    "    print(f\"Initial α: {best['alpha_init']}, Initial β: {best['beta_init']}\")\n",
    "    print(f\"Final α: {best['alpha_final']:.4f}, Final β: {best['beta_final']:.4f}, Loss: {best['final_loss']:.6f}\")\n",
    "\n",
    "    return best\n"
   ]
  },
  {
   "cell_type": "code",
   "execution_count": 31,
   "id": "ad73a6bd",
   "metadata": {},
   "outputs": [
    {
     "name": "stderr",
     "output_type": "stream",
     "text": [
      "Alpha Loop: 100%|██████████| 20/20 [03:28<00:00, 10.43s/it]"
     ]
    },
    {
     "name": "stdout",
     "output_type": "stream",
     "text": [
      "\n",
      "✅ Best Fit Found\n",
      "Initial α: 74.21052551269531, Initial β: 0.15789473056793213\n",
      "Final α: 74.1174, Final β: 0.0394, Loss: 5.053214\n"
     ]
    },
    {
     "name": "stderr",
     "output_type": "stream",
     "text": [
      "\n"
     ]
    }
   ],
   "source": [
    "X_true=ClStreamD01[:,0]\n",
    "Y_true=ClStreamD01[:,1]\n",
    "AlphaStart,AlphaEnd=70,90\n",
    "BetaStart,BetaEnd=0,0.5\n",
    "Result01=fitCurve(X_true,Y_true,AlphaStart,AlphaEnd,BetaStart,BetaEnd)"
   ]
  },
  {
   "cell_type": "code",
   "execution_count": 32,
   "id": "6877ba65",
   "metadata": {},
   "outputs": [
    {
     "name": "stdout",
     "output_type": "stream",
     "text": [
      "RMSE 5.053213596343994\n"
     ]
    },
    {
     "data": {
      "image/png": "[encoded data removed]",
      "text/plain": [
       "<Figure size 800x500 with 1 Axes>"
      ]
     },
     "metadata": {},
     "output_type": "display_data"
    }
   ],
   "source": [
    "plotChart(X_true,Y_true,Result01['alpha_final'],Result01['beta_final'])"
   ]
  },
  {
   "cell_type": "code",
   "execution_count": null,
   "id": "55305f2d",
   "metadata": {},
   "outputs": [
    {
     "name": "stderr",
     "output_type": "stream",
     "text": [
      "Alpha Loop:  15%|█▌        | 3/20 [00:10<00:56,  3.34s/it]"
     ]
    }
   ],
   "source": [
    "X_true=ClStreamD02[:,0]\n",
    "Y_true=ClStreamD02[:,1]\n",
    "AlphaStart,AlphaEnd=90,100\n",
    "BetaStart,BetaEnd=0,0.5\n",
    "Result02=fitCurve(X_true,Y_true,AlphaStart,AlphaEnd,BetaStart,BetaEnd)"
   ]
  },
  {
   "cell_type": "code",
   "execution_count": 36,
   "id": "463321ea",
   "metadata": {},
   "outputs": [
    {
     "name": "stdout",
     "output_type": "stream",
     "text": [
      "RMSE 55.566558837890625\n"
     ]
    },
    {
     "data": {
      "image/png": "[encoded data removed]",
      "text/plain": [
       "<Figure size 800x500 with 1 Axes>"
      ]
     },
     "metadata": {},
     "output_type": "display_data"
    }
   ],
   "source": [
    "X_true=ClStreamD02[:,0]\n",
    "Y_true=ClStreamD02[:,1]\n",
    "plotChart(X_true,Y_true,Result02['alpha_final'],Result02['beta_final'])"
   ]
  },
  {
   "cell_type": "code",
   "execution_count": 28,
   "id": "56f19aed",
   "metadata": {},
   "outputs": [
    {
     "name": "stderr",
     "output_type": "stream",
     "text": [
      "Alpha Loop: 100%|██████████| 20/20 [03:27<00:00, 10.36s/it]"
     ]
    },
    {
     "name": "stdout",
     "output_type": "stream",
     "text": [
      "\n",
      "✅ Best Fit Found\n",
      "Initial α: 90.0, Initial β: 0.10526315867900848\n",
      "Final α: 92.8575, Final β: 0.0992, Loss: 5.432375\n"
     ]
    },
    {
     "name": "stderr",
     "output_type": "stream",
     "text": [
      "\n"
     ]
    }
   ],
   "source": [
    "X_true=ClStreamD03[:,0]\n",
    "Y_true=ClStreamD03[:,1]\n",
    "AlphaStart,AlphaEnd=70,90\n",
    "BetaStart,BetaEnd=0,0.5\n",
    "Result03=fitCurve(X_true,Y_true,AlphaStart,AlphaEnd,BetaStart,BetaEnd)"
   ]
  },
  {
   "cell_type": "code",
   "execution_count": 35,
   "id": "2928c2e5",
   "metadata": {},
   "outputs": [
    {
     "name": "stdout",
     "output_type": "stream",
     "text": [
      "RMSE 35.47021484375\n"
     ]
    },
    {
     "data": {
      "image/png": "[encoded data removed]",
      "text/plain": [
       "<Figure size 800x500 with 1 Axes>"
      ]
     },
     "metadata": {},
     "output_type": "display_data"
    }
   ],
   "source": [
    "X_true=ClStreamD03[:,0]\n",
    "Y_true=ClStreamD03[:,1]\n",
    "plotChart(X_true,Y_true,Result03['alpha_final'],Result03['beta_final'])"
   ]
  },
  {
   "cell_type": "code",
   "execution_count": 23,
   "id": "3c9f2098-d5eb-4d24-bf58-487e5ba9f965",
   "metadata": {},
   "outputs": [
    {
     "data": {
      "application/vnd.plotly.v1+json": {
       "config": {
        "plotlyServerURL": "https://plot.ly"
       },
       "data": [
        {
         "colorscale": [
          [
           0,
           "#440154"
          ],
          [
           0.1111111111111111,
           "#482878"
          ],
          [
           0.2222222222222222,
           "#3e4989"
          ],
          [
           0.3333333333333333,
           "#31688e"
          ],
          [
           0.4444444444444444,
           "#26828e"
          ],
          [
           0.5555555555555556,
           "#1f9e89"
          ],
          [
           0.6666666666666666,
           "#35b779"
          ],
          [
           0.7777777777777778,
           "#6ece58"
          ],
          [
           0.8888888888888888,
           "#b5de2b"
          ],
          [
           1,
           "#fde725"
          ]
         ],
         "contours": {
          "z": {
           "show": true,
           "usecolormap": true
          }
         },
         "showscale": true,
         "type": "surface",
         "x": {
          "bdata": "AAAAAAAAVEAAAABgXkNUQAAAAKC8hlRAAAAAABvKVEAAAABAeQ1VQAAAAKDXUFVAAAAA4DWUVUAAAABAlNdVQAAAAIDyGlZAAAAA4FBeVkAAAABAr6FWQAAAAIAN5VZAAAAAwGsoV0AAAAAAymtXQAAAAIAor1dAAAAAwIbyV0AAAAAA5TVYQAAAAGBDeVhAAAAAwKG8WEAAAAAAAABZQA==",
          "dtype": "f8"
         },
         "y": {
          "bdata": "AAAAAAAAAAAAAADAhvKaPwAAAMCG8qo/AAAAAOU1tD8AAADAhvK6PwAAAECU18A/AAAAAOU1xD8AAADgNZTHPwAAAMCG8so/AAAAoNdQzj8AAABAlNfQPwAAAKC8htI/AAAAAOU11D8AAACADeXVPwAAAOA1lNc/AAAAYF5D2T8AAADAhvLaPwAAACCvodw/AAAAoNdQ3j8AAAAAAADgPw==",
          "dtype": "f8"
         },
         "z": {
          "bdata": "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",
          "dtype": "f8",
          "shape": "20, 20"
         }
        }
       ],
       "layout": {
        "autosize": true,
        "margin": {
         "b": 65,
         "l": 65,
         "r": 50,
         "t": 90
        },
        "scene": {
         "xaxis": {
          "title": {
           "text": "α (alpha_init)"
          }
         },
         "yaxis": {
          "title": {
           "text": "β (beta_init)"
          }
         },
         "zaxis": {
          "title": {
           "text": "Final Loss"
          }
         }
        },
        "template": {
         "data": {
          "bar": [
           {
            "error_x": {
             "color": "#2a3f5f"
            },
            "error_y": {
             "color": "#2a3f5f"
            },
            "marker": {
             "line": {
              "color": "white",
              "width": 0.5
             },
             "pattern": {
              "fillmode": "overlay",
              "size": 10,
              "solidity": 0.2
             }
            },
            "type": "bar"
           }
          ],
          "barpolar": [
           {
            "marker": {
             "line": {
              "color": "white",
              "width": 0.5
             },
             "pattern": {
              "fillmode": "overlay",
              "size": 10,
              "solidity": 0.2
             }
            },
            "type": "barpolar"
           }
          ],
          "carpet": [
           {
            "aaxis": {
             "endlinecolor": "#2a3f5f",
             "gridcolor": "#C8D4E3",
             "linecolor": "#C8D4E3",
             "minorgridcolor": "#C8D4E3",
             "startlinecolor": "#2a3f5f"
            },
            "baxis": {
             "endlinecolor": "#2a3f5f",
             "gridcolor": "#C8D4E3",
             "linecolor": "#C8D4E3",
             "minorgridcolor": "#C8D4E3",
             "startlinecolor": "#2a3f5f"
            },
            "type": "carpet"
           }
          ],
          "choropleth": [
           {
            "colorbar": {
             "outlinewidth": 0,
             "ticks": ""
            },
            "type": "choropleth"
           }
          ],
          "contour": [
           {
            "colorbar": {
             "outlinewidth": 0,
             "ticks": ""
            },
            "colorscale": [
             [
              0,
              "#0d0887"
             ],
             [
              0.1111111111111111,
              "#46039f"
             ],
             [
              0.2222222222222222,
              "#7201a8"
             ],
             [
              0.3333333333333333,
              "#9c179e"
             ],
             [
              0.4444444444444444,
              "#bd3786"
             ],
             [
              0.5555555555555556,
              "#d8576b"
             ],
             [
              0.6666666666666666,
              "#ed7953"
             ],
             [
              0.7777777777777778,
              "#fb9f3a"
             ],
             [
              0.8888888888888888,
              "#fdca26"
             ],
             [
              1,
              "#f0f921"
             ]
            ],
            "type": "contour"
           }
          ],
          "contourcarpet": [
           {
            "colorbar": {
             "outlinewidth": 0,
             "ticks": ""
            },
            "type": "contourcarpet"
           }
          ],
          "heatmap": [
           {
            "colorbar": {
             "outlinewidth": 0,
             "ticks": ""
            },
            "colorscale": [
             [
              0,
              "#0d0887"
             ],
             [
              0.1111111111111111,
              "#46039f"
             ],
             [
              0.2222222222222222,
              "#7201a8"
             ],
             [
              0.3333333333333333,
              "#9c179e"
             ],
             [
              0.4444444444444444,
              "#bd3786"
             ],
             [
              0.5555555555555556,
              "#d8576b"
             ],
             [
              0.6666666666666666,
              "#ed7953"
             ],
             [
              0.7777777777777778,
              "#fb9f3a"
             ],
             [
              0.8888888888888888,
              "#fdca26"
             ],
             [
              1,
              "#f0f921"
             ]
            ],
            "type": "heatmap"
           }
          ],
          "histogram": [
           {
            "marker": {
             "pattern": {
              "fillmode": "overlay",
              "size": 10,
              "solidity": 0.2
             }
            },
            "type": "histogram"
           }
          ],
          "histogram2d": [
           {
            "colorbar": {
             "outlinewidth": 0,
             "ticks": ""
            },
            "colorscale": [
             [
              0,
              "#0d0887"
             ],
             [
              0.1111111111111111,
              "#46039f"
             ],
             [
              0.2222222222222222,
              "#7201a8"
             ],
             [
              0.3333333333333333,
              "#9c179e"
             ],
             [
              0.4444444444444444,
              "#bd3786"
             ],
             [
              0.5555555555555556,
              "#d8576b"
             ],
             [
              0.6666666666666666,
              "#ed7953"
             ],
             [
              0.7777777777777778,
              "#fb9f3a"
             ],
             [
              0.8888888888888888,
              "#fdca26"
             ],
             [
              1,
              "#f0f921"
             ]
            ],
            "type": "histogram2d"
           }
          ],
          "histogram2dcontour": [
           {
            "colorbar": {
             "outlinewidth": 0,
             "ticks": ""
            },
            "colorscale": [
             [
              0,
              "#0d0887"
             ],
             [
              0.1111111111111111,
              "#46039f"
             ],
             [
              0.2222222222222222,
              "#7201a8"
             ],
             [
              0.3333333333333333,
              "#9c179e"
             ],
             [
              0.4444444444444444,
              "#bd3786"
             ],
             [
              0.5555555555555556,
              "#d8576b"
             ],
             [
              0.6666666666666666,
              "#ed7953"
             ],
             [
              0.7777777777777778,
              "#fb9f3a"
             ],
             [
              0.8888888888888888,
              "#fdca26"
             ],
             [
              1,
              "#f0f921"
             ]
            ],
            "type": "histogram2dcontour"
           }
          ],
          "mesh3d": [
           {
            "colorbar": {
             "outlinewidth": 0,
             "ticks": ""
            },
            "type": "mesh3d"
           }
          ],
          "parcoords": [
           {
            "line": {
             "colorbar": {
              "outlinewidth": 0,
              "ticks": ""
             }
            },
            "type": "parcoords"
           }
          ],
          "pie": [
           {
            "automargin": true,
            "type": "pie"
           }
          ],
          "scatter": [
           {
            "fillpattern": {
             "fillmode": "overlay",
             "size": 10,
             "solidity": 0.2
            },
            "type": "scatter"
           }
          ],
          "scatter3d": [
           {
            "line": {
             "colorbar": {
              "outlinewidth": 0,
              "ticks": ""
             }
            },
            "marker": {
             "colorbar": {
              "outlinewidth": 0,
              "ticks": ""
             }
            },
            "type": "scatter3d"
           }
          ],
          "scattercarpet": [
           {
            "marker": {
             "colorbar": {
              "outlinewidth": 0,
              "ticks": ""
             }
            },
            "type": "scattercarpet"
           }
          ],
          "scattergeo": [
           {
            "marker": {
             "colorbar": {
              "outlinewidth": 0,
              "ticks": ""
             }
            },
            "type": "scattergeo"
           }
          ],
          "scattergl": [
           {
            "marker": {
             "colorbar": {
              "outlinewidth": 0,
              "ticks": ""
             }
            },
            "type": "scattergl"
           }
          ],
          "scattermap": [
           {
            "marker": {
             "colorbar": {
              "outlinewidth": 0,
              "ticks": ""
             }
            },
            "type": "scattermap"
           }
          ],
          "scattermapbox": [
           {
            "marker": {
             "colorbar": {
              "outlinewidth": 0,
              "ticks": ""
             }
            },
            "type": "scattermapbox"
           }
          ],
          "scatterpolar": [
           {
            "marker": {
             "colorbar": {
              "outlinewidth": 0,
              "ticks": ""
             }
            },
            "type": "scatterpolar"
           }
          ],
          "scatterpolargl": [
           {
            "marker": {
             "colorbar": {
              "outlinewidth": 0,
              "ticks": ""
             }
            },
            "type": "scatterpolargl"
           }
          ],
          "scatterternary": [
           {
            "marker": {
             "colorbar": {
              "outlinewidth": 0,
              "ticks": ""
             }
            },
            "type": "scatterternary"
           }
          ],
          "surface": [
           {
            "colorbar": {
             "outlinewidth": 0,
             "ticks": ""
            },
            "colorscale": [
             [
              0,
              "#0d0887"
             ],
             [
              0.1111111111111111,
              "#46039f"
             ],
             [
              0.2222222222222222,
              "#7201a8"
             ],
             [
              0.3333333333333333,
              "#9c179e"
             ],
             [
              0.4444444444444444,
              "#bd3786"
             ],
             [
              0.5555555555555556,
              "#d8576b"
             ],
             [
              0.6666666666666666,
              "#ed7953"
             ],
             [
              0.7777777777777778,
              "#fb9f3a"
             ],
             [
              0.8888888888888888,
              "#fdca26"
             ],
             [
              1,
              "#f0f921"
             ]
            ],
            "type": "surface"
           }
          ],
          "table": [
           {
            "cells": {
             "fill": {
              "color": "#EBF0F8"
             },
             "line": {
              "color": "white"
             }
            },
            "header": {
             "fill": {
              "color": "#C8D4E3"
             },
             "line": {
              "color": "white"
             }
            },
            "type": "table"
           }
          ]
         },
         "layout": {
          "annotationdefaults": {
           "arrowcolor": "#2a3f5f",
           "arrowhead": 0,
           "arrowwidth": 1
          },
          "autotypenumbers": "strict",
          "coloraxis": {
           "colorbar": {
            "outlinewidth": 0,
            "ticks": ""
           }
          },
          "colorscale": {
           "diverging": [
            [
             0,
             "#8e0152"
            ],
            [
             0.1,
             "#c51b7d"
            ],
            [
             0.2,
             "#de77ae"
            ],
            [
             0.3,
             "#f1b6da"
            ],
            [
             0.4,
             "#fde0ef"
            ],
            [
             0.5,
             "#f7f7f7"
            ],
            [
             0.6,
             "#e6f5d0"
            ],
            [
             0.7,
             "#b8e186"
            ],
            [
             0.8,
             "#7fbc41"
            ],
            [
             0.9,
             "#4d9221"
            ],
            [
             1,
             "#276419"
            ]
           ],
           "sequential": [
            [
             0,
             "#0d0887"
            ],
            [
             0.1111111111111111,
             "#46039f"
            ],
            [
             0.2222222222222222,
             "#7201a8"
            ],
            [
             0.3333333333333333,
             "#9c179e"
            ],
            [
             0.4444444444444444,
             "#bd3786"
            ],
            [
             0.5555555555555556,
             "#d8576b"
            ],
            [
             0.6666666666666666,
             "#ed7953"
            ],
            [
             0.7777777777777778,
             "#fb9f3a"
            ],
            [
             0.8888888888888888,
             "#fdca26"
            ],
            [
             1,
             "#f0f921"
            ]
           ],
           "sequentialminus": [
            [
             0,
             "#0d0887"
            ],
            [
             0.1111111111111111,
             "#46039f"
            ],
            [
             0.2222222222222222,
             "#7201a8"
            ],
            [
             0.3333333333333333,
             "#9c179e"
            ],
            [
             0.4444444444444444,
             "#bd3786"
            ],
            [
             0.5555555555555556,
             "#d8576b"
            ],
            [
             0.6666666666666666,
             "#ed7953"
            ],
            [
             0.7777777777777778,
             "#fb9f3a"
            ],
            [
             0.8888888888888888,
             "#fdca26"
            ],
            [
             1,
             "#f0f921"
            ]
           ]
          },
          "colorway": [
           "#636efa",
           "#EF553B",
           "#00cc96",
           "#ab63fa",
           "#FFA15A",
           "#19d3f3",
           "#FF6692",
           "#B6E880",
           "#FF97FF",
           "#FECB52"
          ],
          "font": {
           "color": "#2a3f5f"
          },
          "geo": {
           "bgcolor": "white",
           "lakecolor": "white",
           "landcolor": "white",
           "showlakes": true,
           "showland": true,
           "subunitcolor": "#C8D4E3"
          },
          "hoverlabel": {
           "align": "left"
          },
          "hovermode": "closest",
          "mapbox": {
           "style": "light"
          },
          "paper_bgcolor": "white",
          "plot_bgcolor": "white",
          "polar": {
           "angularaxis": {
            "gridcolor": "#EBF0F8",
            "linecolor": "#EBF0F8",
            "ticks": ""
           },
           "bgcolor": "white",
           "radialaxis": {
            "gridcolor": "#EBF0F8",
            "linecolor": "#EBF0F8",
            "ticks": ""
           }
          },
          "scene": {
           "xaxis": {
            "backgroundcolor": "white",
            "gridcolor": "#DFE8F3",
            "gridwidth": 2,
            "linecolor": "#EBF0F8",
            "showbackground": true,
            "ticks": "",
            "zerolinecolor": "#EBF0F8"
           },
           "yaxis": {
            "backgroundcolor": "white",
            "gridcolor": "#DFE8F3",
            "gridwidth": 2,
            "linecolor": "#EBF0F8",
            "showbackground": true,
            "ticks": "",
            "zerolinecolor": "#EBF0F8"
           },
           "zaxis": {
            "backgroundcolor": "white",
            "gridcolor": "#DFE8F3",
            "gridwidth": 2,
            "linecolor": "#EBF0F8",
            "showbackground": true,
            "ticks": "",
            "zerolinecolor": "#EBF0F8"
           }
          },
          "shapedefaults": {
           "line": {
            "color": "#2a3f5f"
           }
          },
          "ternary": {
           "aaxis": {
            "gridcolor": "#DFE8F3",
            "linecolor": "#A2B1C6",
            "ticks": ""
           },
           "baxis": {
            "gridcolor": "#DFE8F3",
            "linecolor": "#A2B1C6",
            "ticks": ""
           },
           "bgcolor": "white",
           "caxis": {
            "gridcolor": "#DFE8F3",
            "linecolor": "#A2B1C6",
            "ticks": ""
           }
          },
          "title": {
           "x": 0.05
          },
          "xaxis": {
           "automargin": true,
           "gridcolor": "#EBF0F8",
           "linecolor": "#EBF0F8",
           "ticks": "",
           "title": {
            "standoff": 15
           },
           "zerolinecolor": "#EBF0F8",
           "zerolinewidth": 2
          },
          "yaxis": {
           "automargin": true,
           "gridcolor": "#EBF0F8",
           "linecolor": "#EBF0F8",
           "ticks": "",
           "title": {
            "standoff": 15
           },
           "zerolinecolor": "#EBF0F8",
           "zerolinewidth": 2
          }
         }
        },
        "title": {
         "text": "Loss Surface for Curve Fitting (α, β → Loss)"
        }
       }
      }
     },
     "metadata": {},
     "output_type": "display_data"
    }
   ],
   "source": [
    "import plotly.graph_objs as go\n",
    "import pandas as pd\n",
    "\n",
    "# Convert results list to DataFrame\n",
    "df_results = pd.DataFrame(results)\n",
    "\n",
    "# Pivot to create grid\n",
    "pivot = df_results.pivot(index=\"beta_init\", columns=\"alpha_init\", values=\"final_loss\")\n",
    "x = pivot.columns.values           # alpha values\n",
    "y = pivot.index.values             # beta values\n",
    "z = pivot.values                   # loss values (2D)\n",
    "\n",
    "# Create surface plot\n",
    "fig = go.Figure(data=[\n",
    "    go.Surface(\n",
    "        z=z,\n",
    "        x=x,\n",
    "        y=y,\n",
    "        colorscale='Viridis',\n",
    "        showscale=True,\n",
    "        contours={\"z\": {\"show\": True, \"usecolormap\": True}}\n",
    "    )\n",
    "])\n",
    "\n",
    "fig.update_layout(\n",
    "    title=\"Loss Surface for Curve Fitting (α, β → Loss)\",\n",
    "    scene=dict(\n",
    "        xaxis_title=\"α (alpha_init)\",\n",
    "        yaxis_title=\"β (beta_init)\",\n",
    "        zaxis_title=\"Final Loss\",\n",
    "    ),\n",
    "    autosize=True,\n",
    "    margin=dict(l=65, r=50, b=65, t=90),\n",
    "    template=\"plotly_white\"\n",
    ")\n",
    "\n",
    "fig.show()"
   ]
  },
  {
   "cell_type": "code",
   "execution_count": null,
   "id": "df865282-e05a-46e3-a653-37b48717d88a",
   "metadata": {},
   "outputs": [],
   "source": []
  }
 ],
 "metadata": {
  "kernelspec": {
   "display_name": "flaxenv",
   "language": "python",
   "name": "python3"
  },
  "language_info": {
   "codemirror_mode": {
    "name": "ipython",
    "version": 3
   },
   "file_extension": ".py",
   "mimetype": "text/x-python",
   "name": "python",
   "nbconvert_exporter": "python",
   "pygments_lexer": "ipython3",
   "version": "3.11.12"
  }
 },
 "nbformat": 4,
 "nbformat_minor": 5
}
