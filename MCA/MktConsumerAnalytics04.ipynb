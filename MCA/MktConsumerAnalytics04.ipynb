{
 "cells": [
  {
   "cell_type": "markdown",
   "id": "7cc55c36",
   "metadata": {},
   "source": [
    "Assume that you have run five display ad campaigns, each with 1000 exposures. The data are given here in the same format as in the in-class example: the raw clicks data are in clicks.dataset.2.xlsx and the post-click transaction profit volumes are in volumes.dataset.2.xlsx."
   ]
  },
  {
   "cell_type": "code",
   "execution_count": 1,
   "id": "70c8274e",
   "metadata": {},
   "outputs": [],
   "source": [
    "import pandas as pd\n",
    "import jax\n",
    "import jax.numpy as jnp\n",
    "# from jax.experimental import stax\n",
    "\n",
    "\n",
    "dataVol = pd.read_csv(\"./Data/volumes.dataset.2.csv\")\n",
    "dataClicks=pd.DataFrame(data={'ad':[1,2,3,4,5],'clicks':[52,38,51,45,25]})\n",
    "NOoFExposures=10000"
   ]
  },
  {
   "cell_type": "code",
   "execution_count": 2,
   "id": "a79e569e",
   "metadata": {},
   "outputs": [
    {
     "data": {
      "text/html": [
       "<div>\n",
       "<style scoped>\n",
       "    .dataframe tbody tr th:only-of-type {\n",
       "        vertical-align: middle;\n",
       "    }\n",
       "\n",
       "    .dataframe tbody tr th {\n",
       "        vertical-align: top;\n",
       "    }\n",
       "\n",
       "    .dataframe thead th {\n",
       "        text-align: right;\n",
       "    }\n",
       "</style>\n",
       "<table border=\"1\" class=\"dataframe\">\n",
       "  <thead>\n",
       "    <tr style=\"text-align: right;\">\n",
       "      <th></th>\n",
       "      <th>cust</th>\n",
       "      <th>ad</th>\n",
       "      <th>volume</th>\n",
       "    </tr>\n",
       "  </thead>\n",
       "  <tbody>\n",
       "    <tr>\n",
       "      <th>0</th>\n",
       "      <td>1</td>\n",
       "      <td>1</td>\n",
       "      <td>32</td>\n",
       "    </tr>\n",
       "    <tr>\n",
       "      <th>1</th>\n",
       "      <td>2</td>\n",
       "      <td>1</td>\n",
       "      <td>54</td>\n",
       "    </tr>\n",
       "    <tr>\n",
       "      <th>2</th>\n",
       "      <td>3</td>\n",
       "      <td>1</td>\n",
       "      <td>31</td>\n",
       "    </tr>\n",
       "    <tr>\n",
       "      <th>3</th>\n",
       "      <td>4</td>\n",
       "      <td>1</td>\n",
       "      <td>24</td>\n",
       "    </tr>\n",
       "    <tr>\n",
       "      <th>4</th>\n",
       "      <td>5</td>\n",
       "      <td>1</td>\n",
       "      <td>42</td>\n",
       "    </tr>\n",
       "    <tr>\n",
       "      <th>...</th>\n",
       "      <td>...</td>\n",
       "      <td>...</td>\n",
       "      <td>...</td>\n",
       "    </tr>\n",
       "    <tr>\n",
       "      <th>206</th>\n",
       "      <td>207</td>\n",
       "      <td>5</td>\n",
       "      <td>47</td>\n",
       "    </tr>\n",
       "    <tr>\n",
       "      <th>207</th>\n",
       "      <td>208</td>\n",
       "      <td>5</td>\n",
       "      <td>61</td>\n",
       "    </tr>\n",
       "    <tr>\n",
       "      <th>208</th>\n",
       "      <td>209</td>\n",
       "      <td>5</td>\n",
       "      <td>63</td>\n",
       "    </tr>\n",
       "    <tr>\n",
       "      <th>209</th>\n",
       "      <td>210</td>\n",
       "      <td>5</td>\n",
       "      <td>102</td>\n",
       "    </tr>\n",
       "    <tr>\n",
       "      <th>210</th>\n",
       "      <td>211</td>\n",
       "      <td>5</td>\n",
       "      <td>104</td>\n",
       "    </tr>\n",
       "  </tbody>\n",
       "</table>\n",
       "<p>211 rows × 3 columns</p>\n",
       "</div>"
      ],
      "text/plain": [
       "     cust  ad  volume\n",
       "0       1   1      32\n",
       "1       2   1      54\n",
       "2       3   1      31\n",
       "3       4   1      24\n",
       "4       5   1      42\n",
       "..    ...  ..     ...\n",
       "206   207   5      47\n",
       "207   208   5      61\n",
       "208   209   5      63\n",
       "209   210   5     102\n",
       "210   211   5     104\n",
       "\n",
       "[211 rows x 3 columns]"
      ]
     },
     "execution_count": 2,
     "metadata": {},
     "output_type": "execute_result"
    }
   ],
   "source": [
    "dataVol"
   ]
  },
  {
   "cell_type": "code",
   "execution_count": 3,
   "id": "7513305d",
   "metadata": {},
   "outputs": [
    {
     "name": "stderr",
     "output_type": "stream",
     "text": [
      "WARNING:2025-04-18 12:05:10,577:jax._src.xla_bridge:1018: Platform 'METAL' is experimental and not all JAX functionality may be correctly supported!\n",
      "WARNING: All log messages before absl::InitializeLog() is called are written to STDERR\n",
      "W0000 00:00:1744958110.578092  467174 mps_client.cc:510] WARNING: JAX Apple GPU support is experimental and not all JAX functionality is correctly supported!\n",
      "I0000 00:00:1744958110.601088  467174 service.cc:145] XLA service 0x10fc580f0 initialized for platform METAL (this does not guarantee that XLA will be used). Devices:\n",
      "I0000 00:00:1744958110.601096  467174 service.cc:153]   StreamExecutor device (0): Metal, <undefined>\n",
      "I0000 00:00:1744958110.602375  467174 mps_client.cc:406] Using Simple allocator.\n",
      "I0000 00:00:1744958110.602389  467174 mps_client.cc:384] XLA backend will use up to 12884443136 bytes on device 0 for SimpleAllocator.\n"
     ]
    },
    {
     "name": "stdout",
     "output_type": "stream",
     "text": [
      "Metal device set to: Apple M3 Pro\n",
      "\n",
      "systemMemory: 18.00 GB\n",
      "maxCacheSize: 6.00 GB\n",
      "\n"
     ]
    },
    {
     "data": {
      "application/vnd.plotly.v1+json": {
       "config": {
        "plotlyServerURL": "https://plot.ly"
       },
       "data": [
        {
         "hovertemplate": "Product=%{x}<br>Wins=%{text}<extra></extra>",
         "legendgroup": "",
         "marker": {
          "color": "#636efa",
          "pattern": {
           "shape": ""
          }
         },
         "name": "",
         "orientation": "v",
         "showlegend": false,
         "text": {
          "bdata": "AAAAAAAZskAAAAAAACBjQAAAAAAAWK9AAAAAAADIkkAAAAAAAAAAAA==",
          "dtype": "f8"
         },
         "textposition": "auto",
         "type": "bar",
         "x": [
          "Product A",
          "Product B",
          "Product C",
          "Product D",
          "Product E"
         ],
         "xaxis": "x",
         "y": {
          "bdata": "GRKZAKwPsgQAAA==",
          "dtype": "i2"
         },
         "yaxis": "y"
        }
       ],
       "layout": {
        "barmode": "relative",
        "legend": {
         "tracegroupgap": 0
        },
        "template": {
         "data": {
          "bar": [
           {
            "error_x": {
             "color": "#2a3f5f"
            },
            "error_y": {
             "color": "#2a3f5f"
            },
            "marker": {
             "line": {
              "color": "white",
              "width": 0.5
             },
             "pattern": {
              "fillmode": "overlay",
              "size": 10,
              "solidity": 0.2
             }
            },
            "type": "bar"
           }
          ],
          "barpolar": [
           {
            "marker": {
             "line": {
              "color": "white",
              "width": 0.5
             },
             "pattern": {
              "fillmode": "overlay",
              "size": 10,
              "solidity": 0.2
             }
            },
            "type": "barpolar"
           }
          ],
          "carpet": [
           {
            "aaxis": {
             "endlinecolor": "#2a3f5f",
             "gridcolor": "#C8D4E3",
             "linecolor": "#C8D4E3",
             "minorgridcolor": "#C8D4E3",
             "startlinecolor": "#2a3f5f"
            },
            "baxis": {
             "endlinecolor": "#2a3f5f",
             "gridcolor": "#C8D4E3",
             "linecolor": "#C8D4E3",
             "minorgridcolor": "#C8D4E3",
             "startlinecolor": "#2a3f5f"
            },
            "type": "carpet"
           }
          ],
          "choropleth": [
           {
            "colorbar": {
             "outlinewidth": 0,
             "ticks": ""
            },
            "type": "choropleth"
           }
          ],
          "contour": [
           {
            "colorbar": {
             "outlinewidth": 0,
             "ticks": ""
            },
            "colorscale": [
             [
              0,
              "#0d0887"
             ],
             [
              0.1111111111111111,
              "#46039f"
             ],
             [
              0.2222222222222222,
              "#7201a8"
             ],
             [
              0.3333333333333333,
              "#9c179e"
             ],
             [
              0.4444444444444444,
              "#bd3786"
             ],
             [
              0.5555555555555556,
              "#d8576b"
             ],
             [
              0.6666666666666666,
              "#ed7953"
             ],
             [
              0.7777777777777778,
              "#fb9f3a"
             ],
             [
              0.8888888888888888,
              "#fdca26"
             ],
             [
              1,
              "#f0f921"
             ]
            ],
            "type": "contour"
           }
          ],
          "contourcarpet": [
           {
            "colorbar": {
             "outlinewidth": 0,
             "ticks": ""
            },
            "type": "contourcarpet"
           }
          ],
          "heatmap": [
           {
            "colorbar": {
             "outlinewidth": 0,
             "ticks": ""
            },
            "colorscale": [
             [
              0,
              "#0d0887"
             ],
             [
              0.1111111111111111,
              "#46039f"
             ],
             [
              0.2222222222222222,
              "#7201a8"
             ],
             [
              0.3333333333333333,
              "#9c179e"
             ],
             [
              0.4444444444444444,
              "#bd3786"
             ],
             [
              0.5555555555555556,
              "#d8576b"
             ],
             [
              0.6666666666666666,
              "#ed7953"
             ],
             [
              0.7777777777777778,
              "#fb9f3a"
             ],
             [
              0.8888888888888888,
              "#fdca26"
             ],
             [
              1,
              "#f0f921"
             ]
            ],
            "type": "heatmap"
           }
          ],
          "histogram": [
           {
            "marker": {
             "pattern": {
              "fillmode": "overlay",
              "size": 10,
              "solidity": 0.2
             }
            },
            "type": "histogram"
           }
          ],
          "histogram2d": [
           {
            "colorbar": {
             "outlinewidth": 0,
             "ticks": ""
            },
            "colorscale": [
             [
              0,
              "#0d0887"
             ],
             [
              0.1111111111111111,
              "#46039f"
             ],
             [
              0.2222222222222222,
              "#7201a8"
             ],
             [
              0.3333333333333333,
              "#9c179e"
             ],
             [
              0.4444444444444444,
              "#bd3786"
             ],
             [
              0.5555555555555556,
              "#d8576b"
             ],
             [
              0.6666666666666666,
              "#ed7953"
             ],
             [
              0.7777777777777778,
              "#fb9f3a"
             ],
             [
              0.8888888888888888,
              "#fdca26"
             ],
             [
              1,
              "#f0f921"
             ]
            ],
            "type": "histogram2d"
           }
          ],
          "histogram2dcontour": [
           {
            "colorbar": {
             "outlinewidth": 0,
             "ticks": ""
            },
            "colorscale": [
             [
              0,
              "#0d0887"
             ],
             [
              0.1111111111111111,
              "#46039f"
             ],
             [
              0.2222222222222222,
              "#7201a8"
             ],
             [
              0.3333333333333333,
              "#9c179e"
             ],
             [
              0.4444444444444444,
              "#bd3786"
             ],
             [
              0.5555555555555556,
              "#d8576b"
             ],
             [
              0.6666666666666666,
              "#ed7953"
             ],
             [
              0.7777777777777778,
              "#fb9f3a"
             ],
             [
              0.8888888888888888,
              "#fdca26"
             ],
             [
              1,
              "#f0f921"
             ]
            ],
            "type": "histogram2dcontour"
           }
          ],
          "mesh3d": [
           {
            "colorbar": {
             "outlinewidth": 0,
             "ticks": ""
            },
            "type": "mesh3d"
           }
          ],
          "parcoords": [
           {
            "line": {
             "colorbar": {
              "outlinewidth": 0,
              "ticks": ""
             }
            },
            "type": "parcoords"
           }
          ],
          "pie": [
           {
            "automargin": true,
            "type": "pie"
           }
          ],
          "scatter": [
           {
            "fillpattern": {
             "fillmode": "overlay",
             "size": 10,
             "solidity": 0.2
            },
            "type": "scatter"
           }
          ],
          "scatter3d": [
           {
            "line": {
             "colorbar": {
              "outlinewidth": 0,
              "ticks": ""
             }
            },
            "marker": {
             "colorbar": {
              "outlinewidth": 0,
              "ticks": ""
             }
            },
            "type": "scatter3d"
           }
          ],
          "scattercarpet": [
           {
            "marker": {
             "colorbar": {
              "outlinewidth": 0,
              "ticks": ""
             }
            },
            "type": "scattercarpet"
           }
          ],
          "scattergeo": [
           {
            "marker": {
             "colorbar": {
              "outlinewidth": 0,
              "ticks": ""
             }
            },
            "type": "scattergeo"
           }
          ],
          "scattergl": [
           {
            "marker": {
             "colorbar": {
              "outlinewidth": 0,
              "ticks": ""
             }
            },
            "type": "scattergl"
           }
          ],
          "scattermap": [
           {
            "marker": {
             "colorbar": {
              "outlinewidth": 0,
              "ticks": ""
             }
            },
            "type": "scattermap"
           }
          ],
          "scattermapbox": [
           {
            "marker": {
             "colorbar": {
              "outlinewidth": 0,
              "ticks": ""
             }
            },
            "type": "scattermapbox"
           }
          ],
          "scatterpolar": [
           {
            "marker": {
             "colorbar": {
              "outlinewidth": 0,
              "ticks": ""
             }
            },
            "type": "scatterpolar"
           }
          ],
          "scatterpolargl": [
           {
            "marker": {
             "colorbar": {
              "outlinewidth": 0,
              "ticks": ""
             }
            },
            "type": "scatterpolargl"
           }
          ],
          "scatterternary": [
           {
            "marker": {
             "colorbar": {
              "outlinewidth": 0,
              "ticks": ""
             }
            },
            "type": "scatterternary"
           }
          ],
          "surface": [
           {
            "colorbar": {
             "outlinewidth": 0,
             "ticks": ""
            },
            "colorscale": [
             [
              0,
              "#0d0887"
             ],
             [
              0.1111111111111111,
              "#46039f"
             ],
             [
              0.2222222222222222,
              "#7201a8"
             ],
             [
              0.3333333333333333,
              "#9c179e"
             ],
             [
              0.4444444444444444,
              "#bd3786"
             ],
             [
              0.5555555555555556,
              "#d8576b"
             ],
             [
              0.6666666666666666,
              "#ed7953"
             ],
             [
              0.7777777777777778,
              "#fb9f3a"
             ],
             [
              0.8888888888888888,
              "#fdca26"
             ],
             [
              1,
              "#f0f921"
             ]
            ],
            "type": "surface"
           }
          ],
          "table": [
           {
            "cells": {
             "fill": {
              "color": "#EBF0F8"
             },
             "line": {
              "color": "white"
             }
            },
            "header": {
             "fill": {
              "color": "#C8D4E3"
             },
             "line": {
              "color": "white"
             }
            },
            "type": "table"
           }
          ]
         },
         "layout": {
          "annotationdefaults": {
           "arrowcolor": "#2a3f5f",
           "arrowhead": 0,
           "arrowwidth": 1
          },
          "autotypenumbers": "strict",
          "coloraxis": {
           "colorbar": {
            "outlinewidth": 0,
            "ticks": ""
           }
          },
          "colorscale": {
           "diverging": [
            [
             0,
             "#8e0152"
            ],
            [
             0.1,
             "#c51b7d"
            ],
            [
             0.2,
             "#de77ae"
            ],
            [
             0.3,
             "#f1b6da"
            ],
            [
             0.4,
             "#fde0ef"
            ],
            [
             0.5,
             "#f7f7f7"
            ],
            [
             0.6,
             "#e6f5d0"
            ],
            [
             0.7,
             "#b8e186"
            ],
            [
             0.8,
             "#7fbc41"
            ],
            [
             0.9,
             "#4d9221"
            ],
            [
             1,
             "#276419"
            ]
           ],
           "sequential": [
            [
             0,
             "#0d0887"
            ],
            [
             0.1111111111111111,
             "#46039f"
            ],
            [
             0.2222222222222222,
             "#7201a8"
            ],
            [
             0.3333333333333333,
             "#9c179e"
            ],
            [
             0.4444444444444444,
             "#bd3786"
            ],
            [
             0.5555555555555556,
             "#d8576b"
            ],
            [
             0.6666666666666666,
             "#ed7953"
            ],
            [
             0.7777777777777778,
             "#fb9f3a"
            ],
            [
             0.8888888888888888,
             "#fdca26"
            ],
            [
             1,
             "#f0f921"
            ]
           ],
           "sequentialminus": [
            [
             0,
             "#0d0887"
            ],
            [
             0.1111111111111111,
             "#46039f"
            ],
            [
             0.2222222222222222,
             "#7201a8"
            ],
            [
             0.3333333333333333,
             "#9c179e"
            ],
            [
             0.4444444444444444,
             "#bd3786"
            ],
            [
             0.5555555555555556,
             "#d8576b"
            ],
            [
             0.6666666666666666,
             "#ed7953"
            ],
            [
             0.7777777777777778,
             "#fb9f3a"
            ],
            [
             0.8888888888888888,
             "#fdca26"
            ],
            [
             1,
             "#f0f921"
            ]
           ]
          },
          "colorway": [
           "#636efa",
           "#EF553B",
           "#00cc96",
           "#ab63fa",
           "#FFA15A",
           "#19d3f3",
           "#FF6692",
           "#B6E880",
           "#FF97FF",
           "#FECB52"
          ],
          "font": {
           "color": "#2a3f5f"
          },
          "geo": {
           "bgcolor": "white",
           "lakecolor": "white",
           "landcolor": "white",
           "showlakes": true,
           "showland": true,
           "subunitcolor": "#C8D4E3"
          },
          "hoverlabel": {
           "align": "left"
          },
          "hovermode": "closest",
          "mapbox": {
           "style": "light"
          },
          "paper_bgcolor": "white",
          "plot_bgcolor": "white",
          "polar": {
           "angularaxis": {
            "gridcolor": "#EBF0F8",
            "linecolor": "#EBF0F8",
            "ticks": ""
           },
           "bgcolor": "white",
           "radialaxis": {
            "gridcolor": "#EBF0F8",
            "linecolor": "#EBF0F8",
            "ticks": ""
           }
          },
          "scene": {
           "xaxis": {
            "backgroundcolor": "white",
            "gridcolor": "#DFE8F3",
            "gridwidth": 2,
            "linecolor": "#EBF0F8",
            "showbackground": true,
            "ticks": "",
            "zerolinecolor": "#EBF0F8"
           },
           "yaxis": {
            "backgroundcolor": "white",
            "gridcolor": "#DFE8F3",
            "gridwidth": 2,
            "linecolor": "#EBF0F8",
            "showbackground": true,
            "ticks": "",
            "zerolinecolor": "#EBF0F8"
           },
           "zaxis": {
            "backgroundcolor": "white",
            "gridcolor": "#DFE8F3",
            "gridwidth": 2,
            "linecolor": "#EBF0F8",
            "showbackground": true,
            "ticks": "",
            "zerolinecolor": "#EBF0F8"
           }
          },
          "shapedefaults": {
           "line": {
            "color": "#2a3f5f"
           }
          },
          "ternary": {
           "aaxis": {
            "gridcolor": "#DFE8F3",
            "linecolor": "#A2B1C6",
            "ticks": ""
           },
           "baxis": {
            "gridcolor": "#DFE8F3",
            "linecolor": "#A2B1C6",
            "ticks": ""
           },
           "bgcolor": "white",
           "caxis": {
            "gridcolor": "#DFE8F3",
            "linecolor": "#A2B1C6",
            "ticks": ""
           }
          },
          "title": {
           "x": 0.05
          },
          "xaxis": {
           "automargin": true,
           "gridcolor": "#EBF0F8",
           "linecolor": "#EBF0F8",
           "ticks": "",
           "title": {
            "standoff": 15
           },
           "zerolinecolor": "#EBF0F8",
           "zerolinewidth": 2
          },
          "yaxis": {
           "automargin": true,
           "gridcolor": "#EBF0F8",
           "linecolor": "#EBF0F8",
           "ticks": "",
           "title": {
            "standoff": 15
           },
           "zerolinecolor": "#EBF0F8",
           "zerolinewidth": 2
          }
         }
        },
        "title": {
         "text": "Winning Counts (Best CTR in Each Sample)"
        },
        "xaxis": {
         "anchor": "y",
         "domain": [
          0,
          1
         ],
         "title": {
          "text": "Product"
         }
        },
        "yaxis": {
         "anchor": "x",
         "domain": [
          0,
          1
         ],
         "title": {
          "text": "Wins"
         }
        }
       }
      }
     },
     "metadata": {},
     "output_type": "display_data"
    },
    {
     "data": {
      "application/vnd.plotly.v1+json": {
       "config": {
        "plotlyServerURL": "https://plot.ly"
       },
       "data": [
        {
         "bingroup": "x",
         "hovertemplate": "Predicted Buys=%{x}<br>count=%{y}<extra></extra>",
         "legendgroup": "",
         "marker": {
          "color": "#636efa",
          "pattern": {
           "shape": ""
          }
         },
         "name": "",
         "nbinsx": 50,
         "orientation": "v",
         "showlegend": false,
         "type": "histogram",
         "x": {
          "bdata": "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",
          "dtype": "f4"
         },
         "xaxis": "x",
         "yaxis": "y"
        }
       ],
       "layout": {
        "barmode": "relative",
        "legend": {
         "tracegroupgap": 0
        },
        "template": {
         "data": {
          "bar": [
           {
            "error_x": {
             "color": "#2a3f5f"
            },
            "error_y": {
             "color": "#2a3f5f"
            },
            "marker": {
             "line": {
              "color": "white",
              "width": 0.5
             },
             "pattern": {
              "fillmode": "overlay",
              "size": 10,
              "solidity": 0.2
             }
            },
            "type": "bar"
           }
          ],
          "barpolar": [
           {
            "marker": {
             "line": {
              "color": "white",
              "width": 0.5
             },
             "pattern": {
              "fillmode": "overlay",
              "size": 10,
              "solidity": 0.2
             }
            },
            "type": "barpolar"
           }
          ],
          "carpet": [
           {
            "aaxis": {
             "endlinecolor": "#2a3f5f",
             "gridcolor": "#C8D4E3",
             "linecolor": "#C8D4E3",
             "minorgridcolor": "#C8D4E3",
             "startlinecolor": "#2a3f5f"
            },
            "baxis": {
             "endlinecolor": "#2a3f5f",
             "gridcolor": "#C8D4E3",
             "linecolor": "#C8D4E3",
             "minorgridcolor": "#C8D4E3",
             "startlinecolor": "#2a3f5f"
            },
            "type": "carpet"
           }
          ],
          "choropleth": [
           {
            "colorbar": {
             "outlinewidth": 0,
             "ticks": ""
            },
            "type": "choropleth"
           }
          ],
          "contour": [
           {
            "colorbar": {
             "outlinewidth": 0,
             "ticks": ""
            },
            "colorscale": [
             [
              0,
              "#0d0887"
             ],
             [
              0.1111111111111111,
              "#46039f"
             ],
             [
              0.2222222222222222,
              "#7201a8"
             ],
             [
              0.3333333333333333,
              "#9c179e"
             ],
             [
              0.4444444444444444,
              "#bd3786"
             ],
             [
              0.5555555555555556,
              "#d8576b"
             ],
             [
              0.6666666666666666,
              "#ed7953"
             ],
             [
              0.7777777777777778,
              "#fb9f3a"
             ],
             [
              0.8888888888888888,
              "#fdca26"
             ],
             [
              1,
              "#f0f921"
             ]
            ],
            "type": "contour"
           }
          ],
          "contourcarpet": [
           {
            "colorbar": {
             "outlinewidth": 0,
             "ticks": ""
            },
            "type": "contourcarpet"
           }
          ],
          "heatmap": [
           {
            "colorbar": {
             "outlinewidth": 0,
             "ticks": ""
            },
            "colorscale": [
             [
              0,
              "#0d0887"
             ],
             [
              0.1111111111111111,
              "#46039f"
             ],
             [
              0.2222222222222222,
              "#7201a8"
             ],
             [
              0.3333333333333333,
              "#9c179e"
             ],
             [
              0.4444444444444444,
              "#bd3786"
             ],
             [
              0.5555555555555556,
              "#d8576b"
             ],
             [
              0.6666666666666666,
              "#ed7953"
             ],
             [
              0.7777777777777778,
              "#fb9f3a"
             ],
             [
              0.8888888888888888,
              "#fdca26"
             ],
             [
              1,
              "#f0f921"
             ]
            ],
            "type": "heatmap"
           }
          ],
          "histogram": [
           {
            "marker": {
             "pattern": {
              "fillmode": "overlay",
              "size": 10,
              "solidity": 0.2
             }
            },
            "type": "histogram"
           }
          ],
          "histogram2d": [
           {
            "colorbar": {
             "outlinewidth": 0,
             "ticks": ""
            },
            "colorscale": [
             [
              0,
              "#0d0887"
             ],
             [
              0.1111111111111111,
              "#46039f"
             ],
             [
              0.2222222222222222,
              "#7201a8"
             ],
             [
              0.3333333333333333,
              "#9c179e"
             ],
             [
              0.4444444444444444,
              "#bd3786"
             ],
             [
              0.5555555555555556,
              "#d8576b"
             ],
             [
              0.6666666666666666,
              "#ed7953"
             ],
             [
              0.7777777777777778,
              "#fb9f3a"
             ],
             [
              0.8888888888888888,
              "#fdca26"
             ],
             [
              1,
              "#f0f921"
             ]
            ],
            "type": "histogram2d"
           }
          ],
          "histogram2dcontour": [
           {
            "colorbar": {
             "outlinewidth": 0,
             "ticks": ""
            },
            "colorscale": [
             [
              0,
              "#0d0887"
             ],
             [
              0.1111111111111111,
              "#46039f"
             ],
             [
              0.2222222222222222,
              "#7201a8"
             ],
             [
              0.3333333333333333,
              "#9c179e"
             ],
             [
              0.4444444444444444,
              "#bd3786"
             ],
             [
              0.5555555555555556,
              "#d8576b"
             ],
             [
              0.6666666666666666,
              "#ed7953"
             ],
             [
              0.7777777777777778,
              "#fb9f3a"
             ],
             [
              0.8888888888888888,
              "#fdca26"
             ],
             [
              1,
              "#f0f921"
             ]
            ],
            "type": "histogram2dcontour"
           }
          ],
          "mesh3d": [
           {
            "colorbar": {
             "outlinewidth": 0,
             "ticks": ""
            },
            "type": "mesh3d"
           }
          ],
          "parcoords": [
           {
            "line": {
             "colorbar": {
              "outlinewidth": 0,
              "ticks": ""
             }
            },
            "type": "parcoords"
           }
          ],
          "pie": [
           {
            "automargin": true,
            "type": "pie"
           }
          ],
          "scatter": [
           {
            "fillpattern": {
             "fillmode": "overlay",
             "size": 10,
             "solidity": 0.2
            },
            "type": "scatter"
           }
          ],
          "scatter3d": [
           {
            "line": {
             "colorbar": {
              "outlinewidth": 0,
              "ticks": ""
             }
            },
            "marker": {
             "colorbar": {
              "outlinewidth": 0,
              "ticks": ""
             }
            },
            "type": "scatter3d"
           }
          ],
          "scattercarpet": [
           {
            "marker": {
             "colorbar": {
              "outlinewidth": 0,
              "ticks": ""
             }
            },
            "type": "scattercarpet"
           }
          ],
          "scattergeo": [
           {
            "marker": {
             "colorbar": {
              "outlinewidth": 0,
              "ticks": ""
             }
            },
            "type": "scattergeo"
           }
          ],
          "scattergl": [
           {
            "marker": {
             "colorbar": {
              "outlinewidth": 0,
              "ticks": ""
             }
            },
            "type": "scattergl"
           }
          ],
          "scattermap": [
           {
            "marker": {
             "colorbar": {
              "outlinewidth": 0,
              "ticks": ""
             }
            },
            "type": "scattermap"
           }
          ],
          "scattermapbox": [
           {
            "marker": {
             "colorbar": {
              "outlinewidth": 0,
              "ticks": ""
             }
            },
            "type": "scattermapbox"
           }
          ],
          "scatterpolar": [
           {
            "marker": {
             "colorbar": {
              "outlinewidth": 0,
              "ticks": ""
             }
            },
            "type": "scatterpolar"
           }
          ],
          "scatterpolargl": [
           {
            "marker": {
             "colorbar": {
              "outlinewidth": 0,
              "ticks": ""
             }
            },
            "type": "scatterpolargl"
           }
          ],
          "scatterternary": [
           {
            "marker": {
             "colorbar": {
              "outlinewidth": 0,
              "ticks": ""
             }
            },
            "type": "scatterternary"
           }
          ],
          "surface": [
           {
            "colorbar": {
             "outlinewidth": 0,
             "ticks": ""
            },
            "colorscale": [
             [
              0,
              "#0d0887"
             ],
             [
              0.1111111111111111,
              "#46039f"
             ],
             [
              0.2222222222222222,
              "#7201a8"
             ],
             [
              0.3333333333333333,
              "#9c179e"
             ],
             [
              0.4444444444444444,
              "#bd3786"
             ],
             [
              0.5555555555555556,
              "#d8576b"
             ],
             [
              0.6666666666666666,
              "#ed7953"
             ],
             [
              0.7777777777777778,
              "#fb9f3a"
             ],
             [
              0.8888888888888888,
              "#fdca26"
             ],
             [
              1,
              "#f0f921"
             ]
            ],
            "type": "surface"
           }
          ],
          "table": [
           {
            "cells": {
             "fill": {
              "color": "#EBF0F8"
             },
             "line": {
              "color": "white"
             }
            },
            "header": {
             "fill": {
              "color": "#C8D4E3"
             },
             "line": {
              "color": "white"
             }
            },
            "type": "table"
           }
          ]
         },
         "layout": {
          "annotationdefaults": {
           "arrowcolor": "#2a3f5f",
           "arrowhead": 0,
           "arrowwidth": 1
          },
          "autotypenumbers": "strict",
          "coloraxis": {
           "colorbar": {
            "outlinewidth": 0,
            "ticks": ""
           }
          },
          "colorscale": {
           "diverging": [
            [
             0,
             "#8e0152"
            ],
            [
             0.1,
             "#c51b7d"
            ],
            [
             0.2,
             "#de77ae"
            ],
            [
             0.3,
             "#f1b6da"
            ],
            [
             0.4,
             "#fde0ef"
            ],
            [
             0.5,
             "#f7f7f7"
            ],
            [
             0.6,
             "#e6f5d0"
            ],
            [
             0.7,
             "#b8e186"
            ],
            [
             0.8,
             "#7fbc41"
            ],
            [
             0.9,
             "#4d9221"
            ],
            [
             1,
             "#276419"
            ]
           ],
           "sequential": [
            [
             0,
             "#0d0887"
            ],
            [
             0.1111111111111111,
             "#46039f"
            ],
            [
             0.2222222222222222,
             "#7201a8"
            ],
            [
             0.3333333333333333,
             "#9c179e"
            ],
            [
             0.4444444444444444,
             "#bd3786"
            ],
            [
             0.5555555555555556,
             "#d8576b"
            ],
            [
             0.6666666666666666,
             "#ed7953"
            ],
            [
             0.7777777777777778,
             "#fb9f3a"
            ],
            [
             0.8888888888888888,
             "#fdca26"
            ],
            [
             1,
             "#f0f921"
            ]
           ],
           "sequentialminus": [
            [
             0,
             "#0d0887"
            ],
            [
             0.1111111111111111,
             "#46039f"
            ],
            [
             0.2222222222222222,
             "#7201a8"
            ],
            [
             0.3333333333333333,
             "#9c179e"
            ],
            [
             0.4444444444444444,
             "#bd3786"
            ],
            [
             0.5555555555555556,
             "#d8576b"
            ],
            [
             0.6666666666666666,
             "#ed7953"
            ],
            [
             0.7777777777777778,
             "#fb9f3a"
            ],
            [
             0.8888888888888888,
             "#fdca26"
            ],
            [
             1,
             "#f0f921"
            ]
           ]
          },
          "colorway": [
           "#636efa",
           "#EF553B",
           "#00cc96",
           "#ab63fa",
           "#FFA15A",
           "#19d3f3",
           "#FF6692",
           "#B6E880",
           "#FF97FF",
           "#FECB52"
          ],
          "font": {
           "color": "#2a3f5f"
          },
          "geo": {
           "bgcolor": "white",
           "lakecolor": "white",
           "landcolor": "white",
           "showlakes": true,
           "showland": true,
           "subunitcolor": "#C8D4E3"
          },
          "hoverlabel": {
           "align": "left"
          },
          "hovermode": "closest",
          "mapbox": {
           "style": "light"
          },
          "paper_bgcolor": "white",
          "plot_bgcolor": "white",
          "polar": {
           "angularaxis": {
            "gridcolor": "#EBF0F8",
            "linecolor": "#EBF0F8",
            "ticks": ""
           },
           "bgcolor": "white",
           "radialaxis": {
            "gridcolor": "#EBF0F8",
            "linecolor": "#EBF0F8",
            "ticks": ""
           }
          },
          "scene": {
           "xaxis": {
            "backgroundcolor": "white",
            "gridcolor": "#DFE8F3",
            "gridwidth": 2,
            "linecolor": "#EBF0F8",
            "showbackground": true,
            "ticks": "",
            "zerolinecolor": "#EBF0F8"
           },
           "yaxis": {
            "backgroundcolor": "white",
            "gridcolor": "#DFE8F3",
            "gridwidth": 2,
            "linecolor": "#EBF0F8",
            "showbackground": true,
            "ticks": "",
            "zerolinecolor": "#EBF0F8"
           },
           "zaxis": {
            "backgroundcolor": "white",
            "gridcolor": "#DFE8F3",
            "gridwidth": 2,
            "linecolor": "#EBF0F8",
            "showbackground": true,
            "ticks": "",
            "zerolinecolor": "#EBF0F8"
           }
          },
          "shapedefaults": {
           "line": {
            "color": "#2a3f5f"
           }
          },
          "ternary": {
           "aaxis": {
            "gridcolor": "#DFE8F3",
            "linecolor": "#A2B1C6",
            "ticks": ""
           },
           "baxis": {
            "gridcolor": "#DFE8F3",
            "linecolor": "#A2B1C6",
            "ticks": ""
           },
           "bgcolor": "white",
           "caxis": {
            "gridcolor": "#DFE8F3",
            "linecolor": "#A2B1C6",
            "ticks": ""
           }
          },
          "title": {
           "x": 0.05
          },
          "xaxis": {
           "automargin": true,
           "gridcolor": "#EBF0F8",
           "linecolor": "#EBF0F8",
           "ticks": "",
           "title": {
            "standoff": 15
           },
           "zerolinecolor": "#EBF0F8",
           "zerolinewidth": 2
          },
          "yaxis": {
           "automargin": true,
           "gridcolor": "#EBF0F8",
           "linecolor": "#EBF0F8",
           "ticks": "",
           "title": {
            "standoff": 15
           },
           "zerolinecolor": "#EBF0F8",
           "zerolinewidth": 2
          }
         }
        },
        "title": {
         "text": "Predicted Transaction Volume Distribution (Winning Product)"
        },
        "xaxis": {
         "anchor": "y",
         "domain": [
          0,
          1
         ],
         "title": {
          "text": "Predicted Buys"
         }
        },
        "yaxis": {
         "anchor": "x",
         "domain": [
          0,
          1
         ],
         "title": {
          "text": "count"
         }
        }
       }
      }
     },
     "metadata": {},
     "output_type": "display_data"
    }
   ],
   "source": [
    "import jax\n",
    "import jax.numpy as jnp\n",
    "import pandas as pd\n",
    "import plotly.express as px\n",
    "\n",
    "# ---------------------------\n",
    "# INPUTS\n",
    "# ---------------------------\n",
    "total_clicks = 1000\n",
    "successes = jnp.array(dataClicks['clicks'])  # Success clicks for Product A, B, C\n",
    "n_samples = 10_000\n",
    "audience_size = 1000\n",
    "\n",
    "# RNG setup\n",
    "key = jax.random.PRNGKey(100)\n",
    "keys = jax.random.split(key, num=5)\n",
    "\n",
    "# ---------------------------\n",
    "# SIMULATE BETA DISTRIBUTIONS\n",
    "# ---------------------------\n",
    "samples = []\n",
    "for i in range(5):\n",
    "    alpha = successes[i]\n",
    "    beta = total_clicks - alpha\n",
    "    samples.append(jax.random.beta(keys[i], a=alpha, b=beta, shape=(n_samples,)))\n",
    "\n",
    "# Stack into shape (n_samples, 3)\n",
    "samples_matrix = jnp.stack(samples, axis=1)  # (10000, 3)\n",
    "\n",
    "# Pick product with highest CTR per sample\n",
    "winner_index = jnp.argmax(samples_matrix, axis=1)  # (10000,)\n",
    "\n",
    "# Count wins for each product\n",
    "product_wins = jnp.bincount(winner_index, length=5)\n",
    "\n",
    "# ---------------------------\n",
    "# CONVERT TO TRANSACTION VOLUME\n",
    "# ---------------------------\n",
    "# For each sample, take CTR of winning product and multiply by audience\n",
    "winning_ctrs = jnp.take_along_axis(samples_matrix, winner_index[:, None], axis=1).squeeze()\n",
    "transaction_volume = jnp.round(winning_ctrs * audience_size)\n",
    "\n",
    "# ---------------------------\n",
    "# VISUALIZATION\n",
    "# ---------------------------\n",
    "# Convert to DataFrame\n",
    "df = pd.DataFrame({\n",
    "    'Winning CTR': winning_ctrs,\n",
    "    'Winning Product': winner_index,\n",
    "    'Transaction Volume': transaction_volume\n",
    "})\n",
    "\n",
    "# Bar chart for win counts\n",
    "df_count = pd.DataFrame({\n",
    "    'Product': ['Product A', 'Product B', 'Product C','Product D','Product E'],\n",
    "    'Wins': list(map(int, product_wins))\n",
    "})\n",
    "\n",
    "fig1 = px.bar(df_count, x='Product', y='Wins', title=\"Winning Counts (Best CTR in Each Sample)\", text='Wins')\n",
    "fig1.update_layout(template=\"plotly_white\")\n",
    "fig1.show()\n",
    "\n",
    "# Histogram of Transaction Volumes\n",
    "fig2 = px.histogram(df, x='Transaction Volume', nbins=50,\n",
    "                    title=\"Predicted Transaction Volume Distribution (Winning Product)\",\n",
    "                    labels={'Transaction Volume': 'Predicted Buys'})\n",
    "fig2.update_layout(template=\"plotly_white\")\n",
    "fig2.show()"
   ]
  },
  {
   "cell_type": "code",
   "execution_count": 4,
   "id": "437724b7",
   "metadata": {},
   "outputs": [
    {
     "data": {
      "text/plain": [
       "Array([[0.04370388, 0.03995913, 0.04895058, 0.0456165 , 0.03344988],\n",
       "       [0.05496478, 0.04341011, 0.0463552 , 0.05018673, 0.02383765],\n",
       "       [0.04487404, 0.03763629, 0.05204305, 0.05106136, 0.02428964],\n",
       "       ...,\n",
       "       [0.06380044, 0.04932219, 0.05372023, 0.03889121, 0.03254651],\n",
       "       [0.05715976, 0.04009878, 0.04663163, 0.05524452, 0.02390727],\n",
       "       [0.04824201, 0.02508076, 0.06058313, 0.04437528, 0.02085335]],      dtype=float32)"
      ]
     },
     "execution_count": 4,
     "metadata": {},
     "output_type": "execute_result"
    }
   ],
   "source": [
    "samples_matrix"
   ]
  },
  {
   "cell_type": "markdown",
   "id": "fbda9d22",
   "metadata": {},
   "source": []
  },
  {
   "cell_type": "code",
   "execution_count": 5,
   "id": "902c4720",
   "metadata": {},
   "outputs": [
    {
     "data": {
      "text/plain": [
       "Array([2, 0, 2, ..., 0, 0, 2], dtype=int32)"
      ]
     },
     "execution_count": 5,
     "metadata": {},
     "output_type": "execute_result"
    }
   ],
   "source": [
    "winner_index"
   ]
  },
  {
   "cell_type": "code",
   "execution_count": 6,
   "id": "9b3576a6",
   "metadata": {},
   "outputs": [
    {
     "data": {
      "text/plain": [
       "Array([4633,  153, 4012, 1202,    0], dtype=int32)"
      ]
     },
     "execution_count": 6,
     "metadata": {},
     "output_type": "execute_result"
    }
   ],
   "source": [
    "product_wins"
   ]
  },
  {
   "cell_type": "code",
   "execution_count": 7,
   "id": "99d46bc8",
   "metadata": {},
   "outputs": [
    {
     "data": {
      "text/plain": [
       "Array([0.04895058, 0.05496478, 0.05204305, ..., 0.06380044, 0.05715976,\n",
       "       0.06058313], dtype=float32)"
      ]
     },
     "execution_count": 7,
     "metadata": {},
     "output_type": "execute_result"
    }
   ],
   "source": [
    "winning_ctrs"
   ]
  },
  {
   "cell_type": "code",
   "execution_count": 8,
   "id": "2b37de38",
   "metadata": {},
   "outputs": [],
   "source": [
    "import pandas as pd\n",
    "\n",
    "VolumeD= pd.read_csv('./Data/volumes.dataset.2.csv')\n",
    "VolumeDjnp = jnp.array(VolumeD)"
   ]
  },
  {
   "cell_type": "code",
   "execution_count": 9,
   "id": "fc051b00",
   "metadata": {},
   "outputs": [],
   "source": [
    "import pandas as pd\n",
    "import numpy as np\n",
    "from scipy import stats\n",
    "import plotly.express as px\n",
    "\n",
    "# ---- Step 2: Generate T-distribution samples per ad ----\n",
    "samples_dict = {}\n",
    "n_samples = 5000\n",
    "\n",
    "for ad_id, group in VolumeD.iloc[:,1:].groupby('ad'):\n",
    "    volumes = group['volume'].values\n",
    "    mean = np.mean(volumes)\n",
    "    std = np.std(volumes, ddof=1)\n",
    "    dfree = len(volumes) - 1\n",
    "\n",
    "    # Sample from T-distribution\n",
    "    t_samples = stats.t.rvs(dfree, loc=mean, scale=std, size=n_samples)\n",
    "    samples_dict[ad_id] = t_samples\n",
    "\n",
    "# ---- Step 3: Flatten for visualization ----\n",
    "flat_samples = []\n",
    "\n",
    "for ad_id, samples in samples_dict.items():\n",
    "    flat_samples.extend([{'ad': ad_id, 'sampled_volume': v} for v in samples])\n",
    "\n",
    "samples_df = pd.DataFrame(flat_samples)"
   ]
  },
  {
   "cell_type": "code",
   "execution_count": 10,
   "id": "52025cb6",
   "metadata": {},
   "outputs": [
    {
     "data": {
      "application/vnd.plotly.v1+json": {
       "config": {
        "plotlyServerURL": "https://plot.ly"
       },
       "data": [
        {
         "bingroup": "x",
         "hovertemplate": "ad=1<br>Simulated Volume=%{x}<br>count=%{y}<extra></extra>",
         "legendgroup": "1",
         "marker": {
          "color": "#636efa",
          "opacity": 0.7,
          "pattern": {
           "shape": ""
          }
         },
         "name": "1",
         "nbinsx": 60,
         "orientation": "v",
         "showlegend": true,
         "type": "histogram",
         "x": {
          "bdata": "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",
          "dtype": "f8"
         },
         "xaxis": "x",
         "yaxis": "y"
        },
        {
         "bingroup": "x",
         "hovertemplate": "ad=2<br>Simulated Volume=%{x}<br>count=%{y}<extra></extra>",
         "legendgroup": "2",
         "marker": {
          "color": "#EF553B",
          "opacity": 0.7,
          "pattern": {
           "shape": ""
          }
         },
         "name": "2",
         "nbinsx": 60,
         "orientation": "v",
         "showlegend": true,
         "type": "histogram",
         "x": {
          "bdata": "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",
          "dtype": "f8"
         },
         "xaxis": "x",
         "yaxis": "y"
        },
        {
         "bingroup": "x",
         "hovertemplate": "ad=3<br>Simulated Volume=%{x}<br>count=%{y}<extra></extra>",
         "legendgroup": "3",
         "marker": {
          "color": "#00cc96",
          "opacity": 0.7,
          "pattern": {
           "shape": ""
          }
         },
         "name": "3",
         "nbinsx": 60,
         "orientation": "v",
         "showlegend": true,
         "type": "histogram",
         "x": {
          "bdata": "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",
          "dtype": "f8"
         },
         "xaxis": "x",
         "yaxis": "y"
        },
        {
         "bingroup": "x",
         "hovertemplate": "ad=4<br>Simulated Volume=%{x}<br>count=%{y}<extra></extra>",
         "legendgroup": "4",
         "marker": {
          "color": "#ab63fa",
          "opacity": 0.7,
          "pattern": {
           "shape": ""
          }
         },
         "name": "4",
         "nbinsx": 60,
         "orientation": "v",
         "showlegend": true,
         "type": "histogram",
         "x": {
          "bdata": "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",
          "dtype": "f8"
         },
         "xaxis": "x",
         "yaxis": "y"
        },
        {
         "bingroup": "x",
         "hovertemplate": "ad=5<br>Simulated Volume=%{x}<br>count=%{y}<extra></extra>",
         "legendgroup": "5",
         "marker": {
          "color": "#FFA15A",
          "opacity": 0.7,
          "pattern": {
           "shape": ""
          }
         },
         "name": "5",
         "nbinsx": 60,
         "orientation": "v",
         "showlegend": true,
         "type": "histogram",
         "x": {
          "bdata": "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",
          "dtype": "f8"
         },
         "xaxis": "x",
         "yaxis": "y"
        }
       ],
       "layout": {
        "barmode": "overlay",
        "legend": {
         "title": {
          "text": "ad"
         },
         "tracegroupgap": 0
        },
        "template": {
         "data": {
          "bar": [
           {
            "error_x": {
             "color": "#2a3f5f"
            },
            "error_y": {
             "color": "#2a3f5f"
            },
            "marker": {
             "line": {
              "color": "white",
              "width": 0.5
             },
             "pattern": {
              "fillmode": "overlay",
              "size": 10,
              "solidity": 0.2
             }
            },
            "type": "bar"
           }
          ],
          "barpolar": [
           {
            "marker": {
             "line": {
              "color": "white",
              "width": 0.5
             },
             "pattern": {
              "fillmode": "overlay",
              "size": 10,
              "solidity": 0.2
             }
            },
            "type": "barpolar"
           }
          ],
          "carpet": [
           {
            "aaxis": {
             "endlinecolor": "#2a3f5f",
             "gridcolor": "#C8D4E3",
             "linecolor": "#C8D4E3",
             "minorgridcolor": "#C8D4E3",
             "startlinecolor": "#2a3f5f"
            },
            "baxis": {
             "endlinecolor": "#2a3f5f",
             "gridcolor": "#C8D4E3",
             "linecolor": "#C8D4E3",
             "minorgridcolor": "#C8D4E3",
             "startlinecolor": "#2a3f5f"
            },
            "type": "carpet"
           }
          ],
          "choropleth": [
           {
            "colorbar": {
             "outlinewidth": 0,
             "ticks": ""
            },
            "type": "choropleth"
           }
          ],
          "contour": [
           {
            "colorbar": {
             "outlinewidth": 0,
             "ticks": ""
            },
            "colorscale": [
             [
              0,
              "#0d0887"
             ],
             [
              0.1111111111111111,
              "#46039f"
             ],
             [
              0.2222222222222222,
              "#7201a8"
             ],
             [
              0.3333333333333333,
              "#9c179e"
             ],
             [
              0.4444444444444444,
              "#bd3786"
             ],
             [
              0.5555555555555556,
              "#d8576b"
             ],
             [
              0.6666666666666666,
              "#ed7953"
             ],
             [
              0.7777777777777778,
              "#fb9f3a"
             ],
             [
              0.8888888888888888,
              "#fdca26"
             ],
             [
              1,
              "#f0f921"
             ]
            ],
            "type": "contour"
           }
          ],
          "contourcarpet": [
           {
            "colorbar": {
             "outlinewidth": 0,
             "ticks": ""
            },
            "type": "contourcarpet"
           }
          ],
          "heatmap": [
           {
            "colorbar": {
             "outlinewidth": 0,
             "ticks": ""
            },
            "colorscale": [
             [
              0,
              "#0d0887"
             ],
             [
              0.1111111111111111,
              "#46039f"
             ],
             [
              0.2222222222222222,
              "#7201a8"
             ],
             [
              0.3333333333333333,
              "#9c179e"
             ],
             [
              0.4444444444444444,
              "#bd3786"
             ],
             [
              0.5555555555555556,
              "#d8576b"
             ],
             [
              0.6666666666666666,
              "#ed7953"
             ],
             [
              0.7777777777777778,
              "#fb9f3a"
             ],
             [
              0.8888888888888888,
              "#fdca26"
             ],
             [
              1,
              "#f0f921"
             ]
            ],
            "type": "heatmap"
           }
          ],
          "histogram": [
           {
            "marker": {
             "pattern": {
              "fillmode": "overlay",
              "size": 10,
              "solidity": 0.2
             }
            },
            "type": "histogram"
           }
          ],
          "histogram2d": [
           {
            "colorbar": {
             "outlinewidth": 0,
             "ticks": ""
            },
            "colorscale": [
             [
              0,
              "#0d0887"
             ],
             [
              0.1111111111111111,
              "#46039f"
             ],
             [
              0.2222222222222222,
              "#7201a8"
             ],
             [
              0.3333333333333333,
              "#9c179e"
             ],
             [
              0.4444444444444444,
              "#bd3786"
             ],
             [
              0.5555555555555556,
              "#d8576b"
             ],
             [
              0.6666666666666666,
              "#ed7953"
             ],
             [
              0.7777777777777778,
              "#fb9f3a"
             ],
             [
              0.8888888888888888,
              "#fdca26"
             ],
             [
              1,
              "#f0f921"
             ]
            ],
            "type": "histogram2d"
           }
          ],
          "histogram2dcontour": [
           {
            "colorbar": {
             "outlinewidth": 0,
             "ticks": ""
            },
            "colorscale": [
             [
              0,
              "#0d0887"
             ],
             [
              0.1111111111111111,
              "#46039f"
             ],
             [
              0.2222222222222222,
              "#7201a8"
             ],
             [
              0.3333333333333333,
              "#9c179e"
             ],
             [
              0.4444444444444444,
              "#bd3786"
             ],
             [
              0.5555555555555556,
              "#d8576b"
             ],
             [
              0.6666666666666666,
              "#ed7953"
             ],
             [
              0.7777777777777778,
              "#fb9f3a"
             ],
             [
              0.8888888888888888,
              "#fdca26"
             ],
             [
              1,
              "#f0f921"
             ]
            ],
            "type": "histogram2dcontour"
           }
          ],
          "mesh3d": [
           {
            "colorbar": {
             "outlinewidth": 0,
             "ticks": ""
            },
            "type": "mesh3d"
           }
          ],
          "parcoords": [
           {
            "line": {
             "colorbar": {
              "outlinewidth": 0,
              "ticks": ""
             }
            },
            "type": "parcoords"
           }
          ],
          "pie": [
           {
            "automargin": true,
            "type": "pie"
           }
          ],
          "scatter": [
           {
            "fillpattern": {
             "fillmode": "overlay",
             "size": 10,
             "solidity": 0.2
            },
            "type": "scatter"
           }
          ],
          "scatter3d": [
           {
            "line": {
             "colorbar": {
              "outlinewidth": 0,
              "ticks": ""
             }
            },
            "marker": {
             "colorbar": {
              "outlinewidth": 0,
              "ticks": ""
             }
            },
            "type": "scatter3d"
           }
          ],
          "scattercarpet": [
           {
            "marker": {
             "colorbar": {
              "outlinewidth": 0,
              "ticks": ""
             }
            },
            "type": "scattercarpet"
           }
          ],
          "scattergeo": [
           {
            "marker": {
             "colorbar": {
              "outlinewidth": 0,
              "ticks": ""
             }
            },
            "type": "scattergeo"
           }
          ],
          "scattergl": [
           {
            "marker": {
             "colorbar": {
              "outlinewidth": 0,
              "ticks": ""
             }
            },
            "type": "scattergl"
           }
          ],
          "scattermap": [
           {
            "marker": {
             "colorbar": {
              "outlinewidth": 0,
              "ticks": ""
             }
            },
            "type": "scattermap"
           }
          ],
          "scattermapbox": [
           {
            "marker": {
             "colorbar": {
              "outlinewidth": 0,
              "ticks": ""
             }
            },
            "type": "scattermapbox"
           }
          ],
          "scatterpolar": [
           {
            "marker": {
             "colorbar": {
              "outlinewidth": 0,
              "ticks": ""
             }
            },
            "type": "scatterpolar"
           }
          ],
          "scatterpolargl": [
           {
            "marker": {
             "colorbar": {
              "outlinewidth": 0,
              "ticks": ""
             }
            },
            "type": "scatterpolargl"
           }
          ],
          "scatterternary": [
           {
            "marker": {
             "colorbar": {
              "outlinewidth": 0,
              "ticks": ""
             }
            },
            "type": "scatterternary"
           }
          ],
          "surface": [
           {
            "colorbar": {
             "outlinewidth": 0,
             "ticks": ""
            },
            "colorscale": [
             [
              0,
              "#0d0887"
             ],
             [
              0.1111111111111111,
              "#46039f"
             ],
             [
              0.2222222222222222,
              "#7201a8"
             ],
             [
              0.3333333333333333,
              "#9c179e"
             ],
             [
              0.4444444444444444,
              "#bd3786"
             ],
             [
              0.5555555555555556,
              "#d8576b"
             ],
             [
              0.6666666666666666,
              "#ed7953"
             ],
             [
              0.7777777777777778,
              "#fb9f3a"
             ],
             [
              0.8888888888888888,
              "#fdca26"
             ],
             [
              1,
              "#f0f921"
             ]
            ],
            "type": "surface"
           }
          ],
          "table": [
           {
            "cells": {
             "fill": {
              "color": "#EBF0F8"
             },
             "line": {
              "color": "white"
             }
            },
            "header": {
             "fill": {
              "color": "#C8D4E3"
             },
             "line": {
              "color": "white"
             }
            },
            "type": "table"
           }
          ]
         },
         "layout": {
          "annotationdefaults": {
           "arrowcolor": "#2a3f5f",
           "arrowhead": 0,
           "arrowwidth": 1
          },
          "autotypenumbers": "strict",
          "coloraxis": {
           "colorbar": {
            "outlinewidth": 0,
            "ticks": ""
           }
          },
          "colorscale": {
           "diverging": [
            [
             0,
             "#8e0152"
            ],
            [
             0.1,
             "#c51b7d"
            ],
            [
             0.2,
             "#de77ae"
            ],
            [
             0.3,
             "#f1b6da"
            ],
            [
             0.4,
             "#fde0ef"
            ],
            [
             0.5,
             "#f7f7f7"
            ],
            [
             0.6,
             "#e6f5d0"
            ],
            [
             0.7,
             "#b8e186"
            ],
            [
             0.8,
             "#7fbc41"
            ],
            [
             0.9,
             "#4d9221"
            ],
            [
             1,
             "#276419"
            ]
           ],
           "sequential": [
            [
             0,
             "#0d0887"
            ],
            [
             0.1111111111111111,
             "#46039f"
            ],
            [
             0.2222222222222222,
             "#7201a8"
            ],
            [
             0.3333333333333333,
             "#9c179e"
            ],
            [
             0.4444444444444444,
             "#bd3786"
            ],
            [
             0.5555555555555556,
             "#d8576b"
            ],
            [
             0.6666666666666666,
             "#ed7953"
            ],
            [
             0.7777777777777778,
             "#fb9f3a"
            ],
            [
             0.8888888888888888,
             "#fdca26"
            ],
            [
             1,
             "#f0f921"
            ]
           ],
           "sequentialminus": [
            [
             0,
             "#0d0887"
            ],
            [
             0.1111111111111111,
             "#46039f"
            ],
            [
             0.2222222222222222,
             "#7201a8"
            ],
            [
             0.3333333333333333,
             "#9c179e"
            ],
            [
             0.4444444444444444,
             "#bd3786"
            ],
            [
             0.5555555555555556,
             "#d8576b"
            ],
            [
             0.6666666666666666,
             "#ed7953"
            ],
            [
             0.7777777777777778,
             "#fb9f3a"
            ],
            [
             0.8888888888888888,
             "#fdca26"
            ],
            [
             1,
             "#f0f921"
            ]
           ]
          },
          "colorway": [
           "#636efa",
           "#EF553B",
           "#00cc96",
           "#ab63fa",
           "#FFA15A",
           "#19d3f3",
           "#FF6692",
           "#B6E880",
           "#FF97FF",
           "#FECB52"
          ],
          "font": {
           "color": "#2a3f5f"
          },
          "geo": {
           "bgcolor": "white",
           "lakecolor": "white",
           "landcolor": "white",
           "showlakes": true,
           "showland": true,
           "subunitcolor": "#C8D4E3"
          },
          "hoverlabel": {
           "align": "left"
          },
          "hovermode": "closest",
          "mapbox": {
           "style": "light"
          },
          "paper_bgcolor": "white",
          "plot_bgcolor": "white",
          "polar": {
           "angularaxis": {
            "gridcolor": "#EBF0F8",
            "linecolor": "#EBF0F8",
            "ticks": ""
           },
           "bgcolor": "white",
           "radialaxis": {
            "gridcolor": "#EBF0F8",
            "linecolor": "#EBF0F8",
            "ticks": ""
           }
          },
          "scene": {
           "xaxis": {
            "backgroundcolor": "white",
            "gridcolor": "#DFE8F3",
            "gridwidth": 2,
            "linecolor": "#EBF0F8",
            "showbackground": true,
            "ticks": "",
            "zerolinecolor": "#EBF0F8"
           },
           "yaxis": {
            "backgroundcolor": "white",
            "gridcolor": "#DFE8F3",
            "gridwidth": 2,
            "linecolor": "#EBF0F8",
            "showbackground": true,
            "ticks": "",
            "zerolinecolor": "#EBF0F8"
           },
           "zaxis": {
            "backgroundcolor": "white",
            "gridcolor": "#DFE8F3",
            "gridwidth": 2,
            "linecolor": "#EBF0F8",
            "showbackground": true,
            "ticks": "",
            "zerolinecolor": "#EBF0F8"
           }
          },
          "shapedefaults": {
           "line": {
            "color": "#2a3f5f"
           }
          },
          "ternary": {
           "aaxis": {
            "gridcolor": "#DFE8F3",
            "linecolor": "#A2B1C6",
            "ticks": ""
           },
           "baxis": {
            "gridcolor": "#DFE8F3",
            "linecolor": "#A2B1C6",
            "ticks": ""
           },
           "bgcolor": "white",
           "caxis": {
            "gridcolor": "#DFE8F3",
            "linecolor": "#A2B1C6",
            "ticks": ""
           }
          },
          "title": {
           "x": 0.05
          },
          "xaxis": {
           "automargin": true,
           "gridcolor": "#EBF0F8",
           "linecolor": "#EBF0F8",
           "ticks": "",
           "title": {
            "standoff": 15
           },
           "zerolinecolor": "#EBF0F8",
           "zerolinewidth": 2
          },
          "yaxis": {
           "automargin": true,
           "gridcolor": "#EBF0F8",
           "linecolor": "#EBF0F8",
           "ticks": "",
           "title": {
            "standoff": 15
           },
           "zerolinecolor": "#EBF0F8",
           "zerolinewidth": 2
          }
         }
        },
        "title": {
         "text": "T-distribution Sampling of Ad Volumes (5000 Samples per Ad)"
        },
        "xaxis": {
         "anchor": "y",
         "domain": [
          0,
          1
         ],
         "title": {
          "text": "Simulated Volume"
         }
        },
        "yaxis": {
         "anchor": "x",
         "domain": [
          0,
          1
         ],
         "title": {
          "text": "count"
         }
        }
       }
      }
     },
     "metadata": {},
     "output_type": "display_data"
    }
   ],
   "source": [
    "import plotly.express as px\n",
    "\n",
    "fig = px.histogram(\n",
    "    samples_df,\n",
    "    x=\"sampled_volume\",\n",
    "    color=\"ad\",\n",
    "    nbins=60,\n",
    "    title=\"T-distribution Sampling of Ad Volumes (5000 Samples per Ad)\",\n",
    "    labels={\"sampled_volume\": \"Simulated Volume\"},\n",
    "    opacity=0.7,\n",
    "    barmode=\"overlay\"\n",
    ")\n",
    "fig.update_layout(template=\"plotly_white\")\n",
    "fig.show()"
   ]
  },
  {
   "cell_type": "code",
   "execution_count": 12,
   "id": "7cecc349",
   "metadata": {},
   "outputs": [
    {
     "data": {
      "text/plain": [
       "0        12.049506\n",
       "1        19.761933\n",
       "2        17.027611\n",
       "3        26.166573\n",
       "4        22.021808\n",
       "           ...    \n",
       "24995    60.223014\n",
       "24996    58.430832\n",
       "24997    61.187930\n",
       "24998    50.111244\n",
       "24999    43.715093\n",
       "Length: 25000, dtype: float64"
      ]
     },
     "execution_count": 12,
     "metadata": {},
     "output_type": "execute_result"
    }
   ],
   "source": [
    "samples_df.mean(axis=1)"
   ]
  },
  {
   "cell_type": "code",
   "execution_count": 20,
   "id": "01e5b4cc",
   "metadata": {},
   "outputs": [
    {
     "data": {
      "text/plain": [
       "ad\n",
       "1    42.289741\n",
       "2    56.627875\n",
       "3    41.335482\n",
       "4    48.198777\n",
       "5    90.354618\n",
       "Name: sampled_volume, dtype: float64"
      ]
     },
     "execution_count": 20,
     "metadata": {},
     "output_type": "execute_result"
    }
   ],
   "source": [
    "samples_df.groupby('ad')['sampled_volume'].mean()"
   ]
  },
  {
   "cell_type": "code",
   "execution_count": null,
   "id": "223618a2",
   "metadata": {},
   "outputs": [],
   "source": []
  }
 ],
 "metadata": {
  "kernelspec": {
   "display_name": "flaxenv",
   "language": "python",
   "name": "python3"
  },
  "language_info": {
   "codemirror_mode": {
    "name": "ipython",
    "version": 3
   },
   "file_extension": ".py",
   "mimetype": "text/x-python",
   "name": "python",
   "nbconvert_exporter": "python",
   "pygments_lexer": "ipython3",
   "version": "3.11.12"
  }
 },
 "nbformat": 4,
 "nbformat_minor": 5
}
