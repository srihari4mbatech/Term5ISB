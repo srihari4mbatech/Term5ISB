{
 "cells": [
  {
   "cell_type": "markdown",
   "id": "20e6558b-837b-4f6c-af38-6f36fb537fa4",
   "metadata": {},
   "source": [
    "#### Problem Statement: Complete product affinity segmentation with 311 customer review data for three products"
   ]
  },
  {
   "cell_type": "markdown",
   "id": "667837ab-34d6-409b-b182-753ee6004b49",
   "metadata": {},
   "source": [
    "#### Table of Contents"
   ]
  },
  {
   "cell_type": "markdown",
   "id": "1642f004-3ace-4256-8813-caf8c55a7eea",
   "metadata": {},
   "source": [
    "#### Incumbents\n",
    " - 1: $30, 3 hrs, 20 oz, Clean Easy, Leak Resistant, Brand A\n",
    "   \n",
    " - 2: $10, 1 hrs, 20 oz, Clean Fair, Spill Resistant, Brand B\n",
    "\n",
    "#### Our proposed candidate\n",
    " - 3: $ 30, 1 hrs, 20 oz, Clean Easy, Leak Resistant, Brand C"
   ]
  },
  {
   "cell_type": "code",
   "execution_count": 37,
   "id": "439571a1-4290-4a0a-bbbe-3bbf9e7793d0",
   "metadata": {},
   "outputs": [],
   "source": [
    "import pandas as pd\n",
    "from sklearn.preprocessing import LabelEncoder\n",
    "from itertools import product\n",
    "import numpy as np\n",
    "pd.set_option('display.float_format', '{:.4f}'.format)"
   ]
  },
  {
   "cell_type": "code",
   "execution_count": 38,
   "id": "c97e2bf5-b9b2-4335-b805-b4a98a6f3f5c",
   "metadata": {},
   "outputs": [],
   "source": [
    "priceComb = pd.Series(['$30','$10','$5'])\n",
    "TimeInsulated = pd.Series(['0.5 hrs','1 hrs','3 hrs'])\n",
    "Capacity = pd.Series(['12 oz','20 oz','32 0z'])\n",
    "Cleanbility = pd.Series(['Difficult','Fair','Easy'])\n",
    "Containment = pd.Series(['Slosh Resistant','Spill Resistant','Leak Resistant'])\n",
    "Brand = pd.Series(['A','B','C'])\n",
    "TimeCost=pd.Series([0.5,1,3])\n",
    "CapacityCost=pd.Series([1,2.6,2.8])\n",
    "CleanabilityCost=pd.Series([1,2.2,3.0])\n",
    "ContainmentCost=pd.Series([0.5,0.8,1])\n",
    "Cvalue=0.0139\n",
    "\n",
    "PreferenceData=pd.read_csv(\"\"\"./Data/mugs-preference-parameters-full.csv\"\"\",dtype=int)\n",
    "InferenceData=pd.read_csv(\"\"\"./Data/InferenceParameter.csv\"\"\",dtype=int)"
   ]
  },
  {
   "cell_type": "code",
   "execution_count": 39,
   "id": "ddadaed9-6772-4301-a1e0-7888f42d72cb",
   "metadata": {},
   "outputs": [],
   "source": [
    "productA=pd.Series(['$30','3 hrs','20 oz','Easy','Leak Resistant'])\n",
    "productB=pd.Series(['$10','1 hrs','20 oz','Fair','Spill Resistant'])\n",
    "productC=pd.Series(['$30','1 hrs','20 oz','Easy','Leak Resistant'])\n",
    "productDf=pd.DataFrame(data=[productA.T,productB.T,productC.T])"
   ]
  },
  {
   "cell_type": "code",
   "execution_count": 40,
   "id": "73ab9dcb-217d-4ebe-a510-e3bb4692acf8",
   "metadata": {},
   "outputs": [],
   "source": [
    "PrDFeatures = pd.DataFrame(data=[priceComb,TimeInsulated,Capacity,Cleanbility,Containment, \n",
    "                                 TimeCost,CapacityCost,CleanabilityCost,ContainmentCost]).T\n",
    "PrDFeatures.columns=['Price','TimeInsulated','Capacity',\n",
    "                     'Cleanbility','Containment','TimeCost',\n",
    "                     'CapacityCost', 'CleanabilityCost','ContainmentCost']\n",
    "\n",
    "productDf.columns=PrDFeatures.columns[0:5]\n",
    "PrDFeatures['Time MC'] = PrDFeatures['Price'].str.replace('$','').astype(int)- PrDFeatures['TimeCost']\n",
    "PrDFeatures['Capacity MC'] = PrDFeatures['Price'].str.replace('$','').astype(int)- PrDFeatures['CapacityCost']\n",
    "PrDFeatures['Cleanability MC'] = PrDFeatures['Price'].str.replace('$','').astype(int)- PrDFeatures['CleanabilityCost']\n",
    "PrDFeatures['Containment MC'] = PrDFeatures['Price'].str.replace('$','').astype(int)- PrDFeatures['ContainmentCost']"
   ]
  },
  {
   "cell_type": "code",
   "execution_count": 41,
   "id": "fc8cd768-aec8-4c63-821a-7e1fc83a751b",
   "metadata": {},
   "outputs": [
    {
     "data": {
      "text/html": [
       "<div>\n",
       "<style scoped>\n",
       "    .dataframe tbody tr th:only-of-type {\n",
       "        vertical-align: middle;\n",
       "    }\n",
       "\n",
       "    .dataframe tbody tr th {\n",
       "        vertical-align: top;\n",
       "    }\n",
       "\n",
       "    .dataframe thead th {\n",
       "        text-align: right;\n",
       "    }\n",
       "</style>\n",
       "<table border=\"1\" class=\"dataframe\">\n",
       "  <thead>\n",
       "    <tr style=\"text-align: right;\">\n",
       "      <th></th>\n",
       "      <th>Price</th>\n",
       "      <th>TimeInsulated</th>\n",
       "      <th>Capacity</th>\n",
       "      <th>Cleanbility</th>\n",
       "      <th>Containment</th>\n",
       "      <th>TimeCost</th>\n",
       "      <th>CapacityCost</th>\n",
       "      <th>CleanabilityCost</th>\n",
       "      <th>ContainmentCost</th>\n",
       "      <th>Time MC</th>\n",
       "      <th>Capacity MC</th>\n",
       "      <th>Cleanability MC</th>\n",
       "      <th>Containment MC</th>\n",
       "    </tr>\n",
       "  </thead>\n",
       "  <tbody>\n",
       "    <tr>\n",
       "      <th>0</th>\n",
       "      <td>$30</td>\n",
       "      <td>0.5 hrs</td>\n",
       "      <td>12 oz</td>\n",
       "      <td>Difficult</td>\n",
       "      <td>Slosh Resistant</td>\n",
       "      <td>0.5000</td>\n",
       "      <td>1.0000</td>\n",
       "      <td>1.0000</td>\n",
       "      <td>0.5000</td>\n",
       "      <td>29.5000</td>\n",
       "      <td>29.0000</td>\n",
       "      <td>29.0000</td>\n",
       "      <td>29.5000</td>\n",
       "    </tr>\n",
       "    <tr>\n",
       "      <th>1</th>\n",
       "      <td>$10</td>\n",
       "      <td>1 hrs</td>\n",
       "      <td>20 oz</td>\n",
       "      <td>Fair</td>\n",
       "      <td>Spill Resistant</td>\n",
       "      <td>1.0000</td>\n",
       "      <td>2.6000</td>\n",
       "      <td>2.2000</td>\n",
       "      <td>0.8000</td>\n",
       "      <td>9.0000</td>\n",
       "      <td>7.4000</td>\n",
       "      <td>7.8000</td>\n",
       "      <td>9.2000</td>\n",
       "    </tr>\n",
       "    <tr>\n",
       "      <th>2</th>\n",
       "      <td>$5</td>\n",
       "      <td>3 hrs</td>\n",
       "      <td>32 0z</td>\n",
       "      <td>Easy</td>\n",
       "      <td>Leak Resistant</td>\n",
       "      <td>3.0000</td>\n",
       "      <td>2.8000</td>\n",
       "      <td>3.0000</td>\n",
       "      <td>1.0000</td>\n",
       "      <td>2.0000</td>\n",
       "      <td>2.2000</td>\n",
       "      <td>2.0000</td>\n",
       "      <td>4.0000</td>\n",
       "    </tr>\n",
       "  </tbody>\n",
       "</table>\n",
       "</div>"
      ],
      "text/plain": [
       "  Price TimeInsulated Capacity Cleanbility      Containment TimeCost  \\\n",
       "0   $30       0.5 hrs    12 oz   Difficult  Slosh Resistant   0.5000   \n",
       "1   $10         1 hrs    20 oz        Fair  Spill Resistant   1.0000   \n",
       "2    $5         3 hrs    32 0z        Easy   Leak Resistant   3.0000   \n",
       "\n",
       "  CapacityCost CleanabilityCost ContainmentCost Time MC Capacity MC  \\\n",
       "0       1.0000           1.0000          0.5000 29.5000     29.0000   \n",
       "1       2.6000           2.2000          0.8000  9.0000      7.4000   \n",
       "2       2.8000           3.0000          1.0000  2.0000      2.2000   \n",
       "\n",
       "  Cleanability MC Containment MC  \n",
       "0         29.0000        29.5000  \n",
       "1          7.8000         9.2000  \n",
       "2          2.0000         4.0000  "
      ]
     },
     "execution_count": 41,
     "metadata": {},
     "output_type": "execute_result"
    }
   ],
   "source": [
    "PrDFeatures"
   ]
  },
  {
   "cell_type": "code",
   "execution_count": 42,
   "id": "846150c0-dbd2-479b-a94e-ed46a9fdca7f",
   "metadata": {},
   "outputs": [
    {
     "data": {
      "text/html": [
       "<div>\n",
       "<style scoped>\n",
       "    .dataframe tbody tr th:only-of-type {\n",
       "        vertical-align: middle;\n",
       "    }\n",
       "\n",
       "    .dataframe tbody tr th {\n",
       "        vertical-align: top;\n",
       "    }\n",
       "\n",
       "    .dataframe thead th {\n",
       "        text-align: right;\n",
       "    }\n",
       "</style>\n",
       "<table border=\"1\" class=\"dataframe\">\n",
       "  <thead>\n",
       "    <tr style=\"text-align: right;\">\n",
       "      <th></th>\n",
       "      <th>Price</th>\n",
       "      <th>TimeInsulated</th>\n",
       "      <th>Capacity</th>\n",
       "      <th>Cleanbility</th>\n",
       "      <th>Containment</th>\n",
       "      <th>TimeCost</th>\n",
       "      <th>CapacityCost</th>\n",
       "      <th>CleanabilityCost</th>\n",
       "      <th>ContainmentCost</th>\n",
       "      <th>TotalCost</th>\n",
       "      <th>TotalGM</th>\n",
       "    </tr>\n",
       "  </thead>\n",
       "  <tbody>\n",
       "    <tr>\n",
       "      <th>0</th>\n",
       "      <td>$30</td>\n",
       "      <td>0.5 hrs</td>\n",
       "      <td>12 oz</td>\n",
       "      <td>Difficult</td>\n",
       "      <td>Slosh Resistant</td>\n",
       "      <td>0.5000</td>\n",
       "      <td>1.0000</td>\n",
       "      <td>1.0000</td>\n",
       "      <td>0.5000</td>\n",
       "      <td>3.0000</td>\n",
       "      <td>27.0000</td>\n",
       "    </tr>\n",
       "    <tr>\n",
       "      <th>1</th>\n",
       "      <td>$30</td>\n",
       "      <td>0.5 hrs</td>\n",
       "      <td>12 oz</td>\n",
       "      <td>Difficult</td>\n",
       "      <td>Spill Resistant</td>\n",
       "      <td>0.5000</td>\n",
       "      <td>1.0000</td>\n",
       "      <td>1.0000</td>\n",
       "      <td>0.8000</td>\n",
       "      <td>3.3000</td>\n",
       "      <td>26.7000</td>\n",
       "    </tr>\n",
       "    <tr>\n",
       "      <th>2</th>\n",
       "      <td>$30</td>\n",
       "      <td>0.5 hrs</td>\n",
       "      <td>12 oz</td>\n",
       "      <td>Difficult</td>\n",
       "      <td>Leak Resistant</td>\n",
       "      <td>0.5000</td>\n",
       "      <td>1.0000</td>\n",
       "      <td>1.0000</td>\n",
       "      <td>1.0000</td>\n",
       "      <td>3.5000</td>\n",
       "      <td>26.5000</td>\n",
       "    </tr>\n",
       "    <tr>\n",
       "      <th>3</th>\n",
       "      <td>$30</td>\n",
       "      <td>0.5 hrs</td>\n",
       "      <td>12 oz</td>\n",
       "      <td>Fair</td>\n",
       "      <td>Slosh Resistant</td>\n",
       "      <td>0.5000</td>\n",
       "      <td>1.0000</td>\n",
       "      <td>2.2000</td>\n",
       "      <td>0.5000</td>\n",
       "      <td>4.2000</td>\n",
       "      <td>25.8000</td>\n",
       "    </tr>\n",
       "    <tr>\n",
       "      <th>4</th>\n",
       "      <td>$30</td>\n",
       "      <td>0.5 hrs</td>\n",
       "      <td>12 oz</td>\n",
       "      <td>Fair</td>\n",
       "      <td>Spill Resistant</td>\n",
       "      <td>0.5000</td>\n",
       "      <td>1.0000</td>\n",
       "      <td>2.2000</td>\n",
       "      <td>0.8000</td>\n",
       "      <td>4.5000</td>\n",
       "      <td>25.5000</td>\n",
       "    </tr>\n",
       "    <tr>\n",
       "      <th>5</th>\n",
       "      <td>$30</td>\n",
       "      <td>0.5 hrs</td>\n",
       "      <td>12 oz</td>\n",
       "      <td>Fair</td>\n",
       "      <td>Leak Resistant</td>\n",
       "      <td>0.5000</td>\n",
       "      <td>1.0000</td>\n",
       "      <td>2.2000</td>\n",
       "      <td>1.0000</td>\n",
       "      <td>4.7000</td>\n",
       "      <td>25.3000</td>\n",
       "    </tr>\n",
       "    <tr>\n",
       "      <th>6</th>\n",
       "      <td>$30</td>\n",
       "      <td>0.5 hrs</td>\n",
       "      <td>12 oz</td>\n",
       "      <td>Easy</td>\n",
       "      <td>Slosh Resistant</td>\n",
       "      <td>0.5000</td>\n",
       "      <td>1.0000</td>\n",
       "      <td>3.0000</td>\n",
       "      <td>0.5000</td>\n",
       "      <td>5.0000</td>\n",
       "      <td>25.0000</td>\n",
       "    </tr>\n",
       "    <tr>\n",
       "      <th>7</th>\n",
       "      <td>$30</td>\n",
       "      <td>0.5 hrs</td>\n",
       "      <td>12 oz</td>\n",
       "      <td>Easy</td>\n",
       "      <td>Spill Resistant</td>\n",
       "      <td>0.5000</td>\n",
       "      <td>1.0000</td>\n",
       "      <td>3.0000</td>\n",
       "      <td>0.8000</td>\n",
       "      <td>5.3000</td>\n",
       "      <td>24.7000</td>\n",
       "    </tr>\n",
       "    <tr>\n",
       "      <th>8</th>\n",
       "      <td>$30</td>\n",
       "      <td>0.5 hrs</td>\n",
       "      <td>12 oz</td>\n",
       "      <td>Easy</td>\n",
       "      <td>Leak Resistant</td>\n",
       "      <td>0.5000</td>\n",
       "      <td>1.0000</td>\n",
       "      <td>3.0000</td>\n",
       "      <td>1.0000</td>\n",
       "      <td>5.5000</td>\n",
       "      <td>24.5000</td>\n",
       "    </tr>\n",
       "    <tr>\n",
       "      <th>9</th>\n",
       "      <td>$30</td>\n",
       "      <td>0.5 hrs</td>\n",
       "      <td>20 oz</td>\n",
       "      <td>Difficult</td>\n",
       "      <td>Slosh Resistant</td>\n",
       "      <td>0.5000</td>\n",
       "      <td>2.6000</td>\n",
       "      <td>1.0000</td>\n",
       "      <td>0.5000</td>\n",
       "      <td>4.6000</td>\n",
       "      <td>25.4000</td>\n",
       "    </tr>\n",
       "  </tbody>\n",
       "</table>\n",
       "</div>"
      ],
      "text/plain": [
       "  Price TimeInsulated Capacity Cleanbility      Containment TimeCost  \\\n",
       "0   $30       0.5 hrs    12 oz   Difficult  Slosh Resistant   0.5000   \n",
       "1   $30       0.5 hrs    12 oz   Difficult  Spill Resistant   0.5000   \n",
       "2   $30       0.5 hrs    12 oz   Difficult   Leak Resistant   0.5000   \n",
       "3   $30       0.5 hrs    12 oz        Fair  Slosh Resistant   0.5000   \n",
       "4   $30       0.5 hrs    12 oz        Fair  Spill Resistant   0.5000   \n",
       "5   $30       0.5 hrs    12 oz        Fair   Leak Resistant   0.5000   \n",
       "6   $30       0.5 hrs    12 oz        Easy  Slosh Resistant   0.5000   \n",
       "7   $30       0.5 hrs    12 oz        Easy  Spill Resistant   0.5000   \n",
       "8   $30       0.5 hrs    12 oz        Easy   Leak Resistant   0.5000   \n",
       "9   $30       0.5 hrs    20 oz   Difficult  Slosh Resistant   0.5000   \n",
       "\n",
       "  CapacityCost CleanabilityCost ContainmentCost TotalCost TotalGM  \n",
       "0       1.0000           1.0000          0.5000    3.0000 27.0000  \n",
       "1       1.0000           1.0000          0.8000    3.3000 26.7000  \n",
       "2       1.0000           1.0000          1.0000    3.5000 26.5000  \n",
       "3       1.0000           2.2000          0.5000    4.2000 25.8000  \n",
       "4       1.0000           2.2000          0.8000    4.5000 25.5000  \n",
       "5       1.0000           2.2000          1.0000    4.7000 25.3000  \n",
       "6       1.0000           3.0000          0.5000    5.0000 25.0000  \n",
       "7       1.0000           3.0000          0.8000    5.3000 24.7000  \n",
       "8       1.0000           3.0000          1.0000    5.5000 24.5000  \n",
       "9       2.6000           1.0000          0.5000    4.6000 25.4000  "
      ]
     },
     "execution_count": 42,
     "metadata": {},
     "output_type": "execute_result"
    }
   ],
   "source": [
    "combinations = list(product(PrDFeatures['Price'].unique(),PrDFeatures['TimeInsulated'].unique(),PrDFeatures['Capacity'].unique(), \\\n",
    "                            PrDFeatures['Cleanbility'].unique(),PrDFeatures['Containment'].unique()))\n",
    "LexicalDf=pd.DataFrame(combinations,columns=['Price','TimeInsulated','Capacity','Cleanbility','Containment'])\n",
    "LexicalDf.head(10)\n",
    "LexicalDf = LexicalDf.merge(PrDFeatures[['TimeInsulated','TimeCost']],on='TimeInsulated',how='left')\n",
    "LexicalDf = LexicalDf.merge(PrDFeatures[['Capacity','CapacityCost']],on='Capacity',how='left')\n",
    "LexicalDf = LexicalDf.merge(PrDFeatures[['Cleanbility','CleanabilityCost']],on='Cleanbility',how='left')\n",
    "LexicalDf = LexicalDf.merge(PrDFeatures[['Containment','ContainmentCost']],on='Containment',how='left')\n",
    "LexicalDf['TotalCost'] = LexicalDf[['TimeCost','CapacityCost','CleanabilityCost','ContainmentCost']].sum(axis=1)\n",
    "LexicalDf['TotalGM']=LexicalDf['Price'].str.replace('$','').astype(int) - LexicalDf['TotalCost']\n",
    "LexicalDf.head(10)"
   ]
  },
  {
   "cell_type": "code",
   "execution_count": 43,
   "id": "e7abc7a2",
   "metadata": {},
   "outputs": [
    {
     "data": {
      "text/plain": [
       "(311, 19)"
      ]
     },
     "execution_count": 43,
     "metadata": {},
     "output_type": "execute_result"
    }
   ],
   "source": [
    "PreferenceData.shape"
   ]
  },
  {
   "cell_type": "code",
   "execution_count": 44,
   "id": "ab4c0b52-88ea-4b67-9348-9deff40b29a4",
   "metadata": {},
   "outputs": [
    {
     "data": {
      "text/html": [
       "<div>\n",
       "<style scoped>\n",
       "    .dataframe tbody tr th:only-of-type {\n",
       "        vertical-align: middle;\n",
       "    }\n",
       "\n",
       "    .dataframe tbody tr th {\n",
       "        vertical-align: top;\n",
       "    }\n",
       "\n",
       "    .dataframe thead th {\n",
       "        text-align: right;\n",
       "    }\n",
       "</style>\n",
       "<table border=\"1\" class=\"dataframe\">\n",
       "  <thead>\n",
       "    <tr style=\"text-align: right;\">\n",
       "      <th></th>\n",
       "      <th>Cust</th>\n",
       "      <th>pPr30</th>\n",
       "      <th>pPr10</th>\n",
       "      <th>pPr05</th>\n",
       "      <th>pIn0.5</th>\n",
       "      <th>pIn1</th>\n",
       "      <th>pIn3</th>\n",
       "      <th>pCp12</th>\n",
       "      <th>pCp20</th>\n",
       "      <th>pCp32</th>\n",
       "      <th>pClD</th>\n",
       "      <th>pClF</th>\n",
       "      <th>pClE</th>\n",
       "      <th>pCnSl</th>\n",
       "      <th>pCnSp</th>\n",
       "      <th>pCnLk</th>\n",
       "      <th>pBrA</th>\n",
       "      <th>pBrB</th>\n",
       "      <th>pBrC</th>\n",
       "    </tr>\n",
       "  </thead>\n",
       "  <tbody>\n",
       "    <tr>\n",
       "      <th>0</th>\n",
       "      <td>1</td>\n",
       "      <td>1</td>\n",
       "      <td>3</td>\n",
       "      <td>7</td>\n",
       "      <td>1</td>\n",
       "      <td>3</td>\n",
       "      <td>7</td>\n",
       "      <td>1</td>\n",
       "      <td>7</td>\n",
       "      <td>6</td>\n",
       "      <td>1</td>\n",
       "      <td>2</td>\n",
       "      <td>7</td>\n",
       "      <td>1</td>\n",
       "      <td>5</td>\n",
       "      <td>7</td>\n",
       "      <td>7</td>\n",
       "      <td>5</td>\n",
       "      <td>1</td>\n",
       "    </tr>\n",
       "    <tr>\n",
       "      <th>1</th>\n",
       "      <td>2</td>\n",
       "      <td>1</td>\n",
       "      <td>6</td>\n",
       "      <td>7</td>\n",
       "      <td>1</td>\n",
       "      <td>4</td>\n",
       "      <td>7</td>\n",
       "      <td>1</td>\n",
       "      <td>7</td>\n",
       "      <td>6</td>\n",
       "      <td>1</td>\n",
       "      <td>6</td>\n",
       "      <td>7</td>\n",
       "      <td>1</td>\n",
       "      <td>7</td>\n",
       "      <td>7</td>\n",
       "      <td>7</td>\n",
       "      <td>5</td>\n",
       "      <td>1</td>\n",
       "    </tr>\n",
       "    <tr>\n",
       "      <th>2</th>\n",
       "      <td>3</td>\n",
       "      <td>1</td>\n",
       "      <td>6</td>\n",
       "      <td>7</td>\n",
       "      <td>1</td>\n",
       "      <td>4</td>\n",
       "      <td>7</td>\n",
       "      <td>7</td>\n",
       "      <td>4</td>\n",
       "      <td>1</td>\n",
       "      <td>1</td>\n",
       "      <td>3</td>\n",
       "      <td>7</td>\n",
       "      <td>1</td>\n",
       "      <td>5</td>\n",
       "      <td>7</td>\n",
       "      <td>1</td>\n",
       "      <td>3</td>\n",
       "      <td>7</td>\n",
       "    </tr>\n",
       "    <tr>\n",
       "      <th>3</th>\n",
       "      <td>4</td>\n",
       "      <td>1</td>\n",
       "      <td>6</td>\n",
       "      <td>7</td>\n",
       "      <td>1</td>\n",
       "      <td>4</td>\n",
       "      <td>7</td>\n",
       "      <td>7</td>\n",
       "      <td>1</td>\n",
       "      <td>3</td>\n",
       "      <td>1</td>\n",
       "      <td>5</td>\n",
       "      <td>7</td>\n",
       "      <td>1</td>\n",
       "      <td>5</td>\n",
       "      <td>7</td>\n",
       "      <td>7</td>\n",
       "      <td>1</td>\n",
       "      <td>5</td>\n",
       "    </tr>\n",
       "    <tr>\n",
       "      <th>4</th>\n",
       "      <td>5</td>\n",
       "      <td>1</td>\n",
       "      <td>4</td>\n",
       "      <td>7</td>\n",
       "      <td>1</td>\n",
       "      <td>4</td>\n",
       "      <td>7</td>\n",
       "      <td>1</td>\n",
       "      <td>7</td>\n",
       "      <td>2</td>\n",
       "      <td>1</td>\n",
       "      <td>3</td>\n",
       "      <td>7</td>\n",
       "      <td>1</td>\n",
       "      <td>7</td>\n",
       "      <td>7</td>\n",
       "      <td>3</td>\n",
       "      <td>1</td>\n",
       "      <td>7</td>\n",
       "    </tr>\n",
       "    <tr>\n",
       "      <th>5</th>\n",
       "      <td>6</td>\n",
       "      <td>1</td>\n",
       "      <td>5</td>\n",
       "      <td>7</td>\n",
       "      <td>1</td>\n",
       "      <td>4</td>\n",
       "      <td>7</td>\n",
       "      <td>1</td>\n",
       "      <td>7</td>\n",
       "      <td>7</td>\n",
       "      <td>1</td>\n",
       "      <td>4</td>\n",
       "      <td>7</td>\n",
       "      <td>1</td>\n",
       "      <td>6</td>\n",
       "      <td>7</td>\n",
       "      <td>3</td>\n",
       "      <td>1</td>\n",
       "      <td>7</td>\n",
       "    </tr>\n",
       "    <tr>\n",
       "      <th>6</th>\n",
       "      <td>7</td>\n",
       "      <td>1</td>\n",
       "      <td>7</td>\n",
       "      <td>7</td>\n",
       "      <td>1</td>\n",
       "      <td>6</td>\n",
       "      <td>7</td>\n",
       "      <td>1</td>\n",
       "      <td>7</td>\n",
       "      <td>7</td>\n",
       "      <td>1</td>\n",
       "      <td>3</td>\n",
       "      <td>7</td>\n",
       "      <td>1</td>\n",
       "      <td>2</td>\n",
       "      <td>7</td>\n",
       "      <td>3</td>\n",
       "      <td>7</td>\n",
       "      <td>1</td>\n",
       "    </tr>\n",
       "    <tr>\n",
       "      <th>7</th>\n",
       "      <td>8</td>\n",
       "      <td>1</td>\n",
       "      <td>6</td>\n",
       "      <td>7</td>\n",
       "      <td>1</td>\n",
       "      <td>2</td>\n",
       "      <td>7</td>\n",
       "      <td>1</td>\n",
       "      <td>7</td>\n",
       "      <td>2</td>\n",
       "      <td>1</td>\n",
       "      <td>6</td>\n",
       "      <td>7</td>\n",
       "      <td>1</td>\n",
       "      <td>3</td>\n",
       "      <td>7</td>\n",
       "      <td>5</td>\n",
       "      <td>7</td>\n",
       "      <td>1</td>\n",
       "    </tr>\n",
       "    <tr>\n",
       "      <th>8</th>\n",
       "      <td>9</td>\n",
       "      <td>1</td>\n",
       "      <td>5</td>\n",
       "      <td>7</td>\n",
       "      <td>1</td>\n",
       "      <td>3</td>\n",
       "      <td>7</td>\n",
       "      <td>1</td>\n",
       "      <td>5</td>\n",
       "      <td>7</td>\n",
       "      <td>1</td>\n",
       "      <td>6</td>\n",
       "      <td>7</td>\n",
       "      <td>1</td>\n",
       "      <td>6</td>\n",
       "      <td>7</td>\n",
       "      <td>7</td>\n",
       "      <td>4</td>\n",
       "      <td>1</td>\n",
       "    </tr>\n",
       "    <tr>\n",
       "      <th>9</th>\n",
       "      <td>10</td>\n",
       "      <td>1</td>\n",
       "      <td>7</td>\n",
       "      <td>7</td>\n",
       "      <td>1</td>\n",
       "      <td>3</td>\n",
       "      <td>7</td>\n",
       "      <td>6</td>\n",
       "      <td>7</td>\n",
       "      <td>1</td>\n",
       "      <td>1</td>\n",
       "      <td>5</td>\n",
       "      <td>7</td>\n",
       "      <td>1</td>\n",
       "      <td>4</td>\n",
       "      <td>7</td>\n",
       "      <td>3</td>\n",
       "      <td>7</td>\n",
       "      <td>1</td>\n",
       "    </tr>\n",
       "  </tbody>\n",
       "</table>\n",
       "</div>"
      ],
      "text/plain": [
       "   Cust  pPr30  pPr10  pPr05  pIn0.5  pIn1  pIn3  pCp12  pCp20  pCp32  pClD  \\\n",
       "0     1      1      3      7       1     3     7      1      7      6     1   \n",
       "1     2      1      6      7       1     4     7      1      7      6     1   \n",
       "2     3      1      6      7       1     4     7      7      4      1     1   \n",
       "3     4      1      6      7       1     4     7      7      1      3     1   \n",
       "4     5      1      4      7       1     4     7      1      7      2     1   \n",
       "5     6      1      5      7       1     4     7      1      7      7     1   \n",
       "6     7      1      7      7       1     6     7      1      7      7     1   \n",
       "7     8      1      6      7       1     2     7      1      7      2     1   \n",
       "8     9      1      5      7       1     3     7      1      5      7     1   \n",
       "9    10      1      7      7       1     3     7      6      7      1     1   \n",
       "\n",
       "   pClF  pClE  pCnSl  pCnSp  pCnLk  pBrA  pBrB  pBrC  \n",
       "0     2     7      1      5      7     7     5     1  \n",
       "1     6     7      1      7      7     7     5     1  \n",
       "2     3     7      1      5      7     1     3     7  \n",
       "3     5     7      1      5      7     7     1     5  \n",
       "4     3     7      1      7      7     3     1     7  \n",
       "5     4     7      1      6      7     3     1     7  \n",
       "6     3     7      1      2      7     3     7     1  \n",
       "7     6     7      1      3      7     5     7     1  \n",
       "8     6     7      1      6      7     7     4     1  \n",
       "9     5     7      1      4      7     3     7     1  "
      ]
     },
     "execution_count": 44,
     "metadata": {},
     "output_type": "execute_result"
    }
   ],
   "source": [
    "PreferenceData.head(10)"
   ]
  },
  {
   "cell_type": "code",
   "execution_count": 45,
   "id": "291a21aa-c7ab-4bd5-aafe-3899ce30eaa0",
   "metadata": {},
   "outputs": [
    {
     "data": {
      "text/html": [
       "<div>\n",
       "<style scoped>\n",
       "    .dataframe tbody tr th:only-of-type {\n",
       "        vertical-align: middle;\n",
       "    }\n",
       "\n",
       "    .dataframe tbody tr th {\n",
       "        vertical-align: top;\n",
       "    }\n",
       "\n",
       "    .dataframe thead th {\n",
       "        text-align: right;\n",
       "    }\n",
       "</style>\n",
       "<table border=\"1\" class=\"dataframe\">\n",
       "  <thead>\n",
       "    <tr style=\"text-align: right;\">\n",
       "      <th></th>\n",
       "      <th>Cust</th>\n",
       "      <th>IPr</th>\n",
       "      <th>Iin</th>\n",
       "      <th>ICp</th>\n",
       "      <th>ICl</th>\n",
       "      <th>Icn</th>\n",
       "      <th>IBr</th>\n",
       "    </tr>\n",
       "  </thead>\n",
       "  <tbody>\n",
       "    <tr>\n",
       "      <th>0</th>\n",
       "      <td>1</td>\n",
       "      <td>5</td>\n",
       "      <td>8</td>\n",
       "      <td>32</td>\n",
       "      <td>7</td>\n",
       "      <td>34</td>\n",
       "      <td>14</td>\n",
       "    </tr>\n",
       "    <tr>\n",
       "      <th>1</th>\n",
       "      <td>2</td>\n",
       "      <td>6</td>\n",
       "      <td>3</td>\n",
       "      <td>17</td>\n",
       "      <td>10</td>\n",
       "      <td>51</td>\n",
       "      <td>15</td>\n",
       "    </tr>\n",
       "    <tr>\n",
       "      <th>2</th>\n",
       "      <td>3</td>\n",
       "      <td>55</td>\n",
       "      <td>5</td>\n",
       "      <td>5</td>\n",
       "      <td>8</td>\n",
       "      <td>16</td>\n",
       "      <td>9</td>\n",
       "    </tr>\n",
       "    <tr>\n",
       "      <th>3</th>\n",
       "      <td>4</td>\n",
       "      <td>12</td>\n",
       "      <td>9</td>\n",
       "      <td>3</td>\n",
       "      <td>40</td>\n",
       "      <td>20</td>\n",
       "      <td>16</td>\n",
       "    </tr>\n",
       "    <tr>\n",
       "      <th>4</th>\n",
       "      <td>5</td>\n",
       "      <td>56</td>\n",
       "      <td>6</td>\n",
       "      <td>19</td>\n",
       "      <td>9</td>\n",
       "      <td>0</td>\n",
       "      <td>11</td>\n",
       "    </tr>\n",
       "    <tr>\n",
       "      <th>5</th>\n",
       "      <td>6</td>\n",
       "      <td>9</td>\n",
       "      <td>6</td>\n",
       "      <td>0</td>\n",
       "      <td>57</td>\n",
       "      <td>13</td>\n",
       "      <td>15</td>\n",
       "    </tr>\n",
       "    <tr>\n",
       "      <th>6</th>\n",
       "      <td>7</td>\n",
       "      <td>39</td>\n",
       "      <td>12</td>\n",
       "      <td>11</td>\n",
       "      <td>7</td>\n",
       "      <td>19</td>\n",
       "      <td>12</td>\n",
       "    </tr>\n",
       "    <tr>\n",
       "      <th>7</th>\n",
       "      <td>8</td>\n",
       "      <td>33</td>\n",
       "      <td>13</td>\n",
       "      <td>12</td>\n",
       "      <td>25</td>\n",
       "      <td>8</td>\n",
       "      <td>10</td>\n",
       "    </tr>\n",
       "    <tr>\n",
       "      <th>8</th>\n",
       "      <td>9</td>\n",
       "      <td>14</td>\n",
       "      <td>16</td>\n",
       "      <td>17</td>\n",
       "      <td>9</td>\n",
       "      <td>31</td>\n",
       "      <td>13</td>\n",
       "    </tr>\n",
       "    <tr>\n",
       "      <th>9</th>\n",
       "      <td>10</td>\n",
       "      <td>40</td>\n",
       "      <td>10</td>\n",
       "      <td>10</td>\n",
       "      <td>10</td>\n",
       "      <td>15</td>\n",
       "      <td>15</td>\n",
       "    </tr>\n",
       "  </tbody>\n",
       "</table>\n",
       "</div>"
      ],
      "text/plain": [
       "   Cust  IPr  Iin  ICp  ICl  Icn  IBr\n",
       "0     1    5    8   32    7   34   14\n",
       "1     2    6    3   17   10   51   15\n",
       "2     3   55    5    5    8   16    9\n",
       "3     4   12    9    3   40   20   16\n",
       "4     5   56    6   19    9    0   11\n",
       "5     6    9    6    0   57   13   15\n",
       "6     7   39   12   11    7   19   12\n",
       "7     8   33   13   12   25    8   10\n",
       "8     9   14   16   17    9   31   13\n",
       "9    10   40   10   10   10   15   15"
      ]
     },
     "execution_count": 45,
     "metadata": {},
     "output_type": "execute_result"
    }
   ],
   "source": [
    "InferenceData.head(10)"
   ]
  },
  {
   "cell_type": "code",
   "execution_count": 46,
   "id": "faae1444-7ca3-4b1c-8b14-7dfa88041dd8",
   "metadata": {},
   "outputs": [
    {
     "data": {
      "text/html": [
       "<div>\n",
       "<style scoped>\n",
       "    .dataframe tbody tr th:only-of-type {\n",
       "        vertical-align: middle;\n",
       "    }\n",
       "\n",
       "    .dataframe tbody tr th {\n",
       "        vertical-align: top;\n",
       "    }\n",
       "\n",
       "    .dataframe thead th {\n",
       "        text-align: right;\n",
       "    }\n",
       "</style>\n",
       "<table border=\"1\" class=\"dataframe\">\n",
       "  <thead>\n",
       "    <tr style=\"text-align: right;\">\n",
       "      <th></th>\n",
       "      <th>Price</th>\n",
       "      <th>TimeInsulated</th>\n",
       "      <th>Capacity</th>\n",
       "      <th>Cleanbility</th>\n",
       "      <th>Containment</th>\n",
       "    </tr>\n",
       "  </thead>\n",
       "  <tbody>\n",
       "    <tr>\n",
       "      <th>0</th>\n",
       "      <td>$30</td>\n",
       "      <td>3 hrs</td>\n",
       "      <td>20 oz</td>\n",
       "      <td>Easy</td>\n",
       "      <td>Leak Resistant</td>\n",
       "    </tr>\n",
       "    <tr>\n",
       "      <th>1</th>\n",
       "      <td>$10</td>\n",
       "      <td>1 hrs</td>\n",
       "      <td>20 oz</td>\n",
       "      <td>Fair</td>\n",
       "      <td>Spill Resistant</td>\n",
       "    </tr>\n",
       "    <tr>\n",
       "      <th>2</th>\n",
       "      <td>$30</td>\n",
       "      <td>1 hrs</td>\n",
       "      <td>20 oz</td>\n",
       "      <td>Easy</td>\n",
       "      <td>Leak Resistant</td>\n",
       "    </tr>\n",
       "  </tbody>\n",
       "</table>\n",
       "</div>"
      ],
      "text/plain": [
       "  Price TimeInsulated Capacity Cleanbility      Containment\n",
       "0   $30         3 hrs    20 oz        Easy   Leak Resistant\n",
       "1   $10         1 hrs    20 oz        Fair  Spill Resistant\n",
       "2   $30         1 hrs    20 oz        Easy   Leak Resistant"
      ]
     },
     "execution_count": 46,
     "metadata": {},
     "output_type": "execute_result"
    }
   ],
   "source": [
    "productDf"
   ]
  },
  {
   "cell_type": "code",
   "execution_count": 47,
   "id": "c21defec-377d-4ea9-adb6-a8026607530d",
   "metadata": {},
   "outputs": [
    {
     "data": {
      "text/plain": [
       "((311, 19), (311, 7))"
      ]
     },
     "execution_count": 47,
     "metadata": {},
     "output_type": "execute_result"
    }
   ],
   "source": [
    "PreferenceData.shape,InferenceData.shape"
   ]
  },
  {
   "cell_type": "code",
   "execution_count": 48,
   "id": "734b5a6f-2f50-4930-abc1-873d2139af6d",
   "metadata": {},
   "outputs": [],
   "source": [
    "PrefInf=PreferenceData.iloc[:,1:4].multiply(InferenceData['IPr'],axis=0)\n",
    "PrefInf=pd.concat([PrefInf,PreferenceData.iloc[:,4:7].multiply(InferenceData['Iin'],axis=0)],axis=1)\n",
    "PrefInf=pd.concat([PrefInf,PreferenceData.iloc[:,7:10].multiply(InferenceData['ICp'],axis=0)],axis=1)\n",
    "PrefInf=pd.concat([PrefInf,PreferenceData.iloc[:,10:13].multiply(InferenceData['ICl'],axis=0)],axis=1)\n",
    "PrefInf=pd.concat([PrefInf,PreferenceData.iloc[:,13:16].multiply(InferenceData['Icn'],axis=0)],axis=1)\n",
    "PrefInf=pd.concat([PrefInf,PreferenceData.iloc[:,16:19].multiply(InferenceData['IBr'],axis=0)],axis=1)"
   ]
  },
  {
   "cell_type": "code",
   "execution_count": 49,
   "id": "67b88a39-867b-48a5-b5f2-b2bf8bfb8b11",
   "metadata": {},
   "outputs": [],
   "source": [
    "colLst= pd.concat([priceComb,TimeInsulated,Capacity,Cleanbility,Containment,Brand],axis=0).values\n",
    "colLst\n",
    "PrefInf.columns = colLst"
   ]
  },
  {
   "cell_type": "code",
   "execution_count": 50,
   "id": "76a92a76-9fcf-4f21-8512-e490fae7a1ae",
   "metadata": {},
   "outputs": [
    {
     "data": {
      "text/html": [
       "<div>\n",
       "<style scoped>\n",
       "    .dataframe tbody tr th:only-of-type {\n",
       "        vertical-align: middle;\n",
       "    }\n",
       "\n",
       "    .dataframe tbody tr th {\n",
       "        vertical-align: top;\n",
       "    }\n",
       "\n",
       "    .dataframe thead th {\n",
       "        text-align: right;\n",
       "    }\n",
       "</style>\n",
       "<table border=\"1\" class=\"dataframe\">\n",
       "  <thead>\n",
       "    <tr style=\"text-align: right;\">\n",
       "      <th></th>\n",
       "      <th>$30</th>\n",
       "      <th>$10</th>\n",
       "      <th>$5</th>\n",
       "      <th>0.5 hrs</th>\n",
       "      <th>1 hrs</th>\n",
       "      <th>3 hrs</th>\n",
       "      <th>12 oz</th>\n",
       "      <th>20 oz</th>\n",
       "      <th>32 0z</th>\n",
       "      <th>Difficult</th>\n",
       "      <th>Fair</th>\n",
       "      <th>Easy</th>\n",
       "      <th>Slosh Resistant</th>\n",
       "      <th>Spill Resistant</th>\n",
       "      <th>Leak Resistant</th>\n",
       "      <th>A</th>\n",
       "      <th>B</th>\n",
       "      <th>C</th>\n",
       "    </tr>\n",
       "  </thead>\n",
       "  <tbody>\n",
       "    <tr>\n",
       "      <th>0</th>\n",
       "      <td>5</td>\n",
       "      <td>15</td>\n",
       "      <td>35</td>\n",
       "      <td>8</td>\n",
       "      <td>24</td>\n",
       "      <td>56</td>\n",
       "      <td>32</td>\n",
       "      <td>224</td>\n",
       "      <td>192</td>\n",
       "      <td>7</td>\n",
       "      <td>14</td>\n",
       "      <td>49</td>\n",
       "      <td>34</td>\n",
       "      <td>170</td>\n",
       "      <td>238</td>\n",
       "      <td>98</td>\n",
       "      <td>70</td>\n",
       "      <td>14</td>\n",
       "    </tr>\n",
       "    <tr>\n",
       "      <th>1</th>\n",
       "      <td>6</td>\n",
       "      <td>36</td>\n",
       "      <td>42</td>\n",
       "      <td>3</td>\n",
       "      <td>12</td>\n",
       "      <td>21</td>\n",
       "      <td>17</td>\n",
       "      <td>119</td>\n",
       "      <td>102</td>\n",
       "      <td>10</td>\n",
       "      <td>60</td>\n",
       "      <td>70</td>\n",
       "      <td>51</td>\n",
       "      <td>357</td>\n",
       "      <td>357</td>\n",
       "      <td>105</td>\n",
       "      <td>75</td>\n",
       "      <td>15</td>\n",
       "    </tr>\n",
       "    <tr>\n",
       "      <th>2</th>\n",
       "      <td>55</td>\n",
       "      <td>330</td>\n",
       "      <td>385</td>\n",
       "      <td>5</td>\n",
       "      <td>20</td>\n",
       "      <td>35</td>\n",
       "      <td>35</td>\n",
       "      <td>20</td>\n",
       "      <td>5</td>\n",
       "      <td>8</td>\n",
       "      <td>24</td>\n",
       "      <td>56</td>\n",
       "      <td>16</td>\n",
       "      <td>80</td>\n",
       "      <td>112</td>\n",
       "      <td>9</td>\n",
       "      <td>27</td>\n",
       "      <td>63</td>\n",
       "    </tr>\n",
       "    <tr>\n",
       "      <th>3</th>\n",
       "      <td>12</td>\n",
       "      <td>72</td>\n",
       "      <td>84</td>\n",
       "      <td>9</td>\n",
       "      <td>36</td>\n",
       "      <td>63</td>\n",
       "      <td>21</td>\n",
       "      <td>3</td>\n",
       "      <td>9</td>\n",
       "      <td>40</td>\n",
       "      <td>200</td>\n",
       "      <td>280</td>\n",
       "      <td>20</td>\n",
       "      <td>100</td>\n",
       "      <td>140</td>\n",
       "      <td>112</td>\n",
       "      <td>16</td>\n",
       "      <td>80</td>\n",
       "    </tr>\n",
       "    <tr>\n",
       "      <th>4</th>\n",
       "      <td>56</td>\n",
       "      <td>224</td>\n",
       "      <td>392</td>\n",
       "      <td>6</td>\n",
       "      <td>24</td>\n",
       "      <td>42</td>\n",
       "      <td>19</td>\n",
       "      <td>133</td>\n",
       "      <td>38</td>\n",
       "      <td>9</td>\n",
       "      <td>27</td>\n",
       "      <td>63</td>\n",
       "      <td>0</td>\n",
       "      <td>0</td>\n",
       "      <td>0</td>\n",
       "      <td>33</td>\n",
       "      <td>11</td>\n",
       "      <td>77</td>\n",
       "    </tr>\n",
       "    <tr>\n",
       "      <th>5</th>\n",
       "      <td>9</td>\n",
       "      <td>45</td>\n",
       "      <td>63</td>\n",
       "      <td>6</td>\n",
       "      <td>24</td>\n",
       "      <td>42</td>\n",
       "      <td>0</td>\n",
       "      <td>0</td>\n",
       "      <td>0</td>\n",
       "      <td>57</td>\n",
       "      <td>228</td>\n",
       "      <td>399</td>\n",
       "      <td>13</td>\n",
       "      <td>78</td>\n",
       "      <td>91</td>\n",
       "      <td>45</td>\n",
       "      <td>15</td>\n",
       "      <td>105</td>\n",
       "    </tr>\n",
       "    <tr>\n",
       "      <th>6</th>\n",
       "      <td>39</td>\n",
       "      <td>273</td>\n",
       "      <td>273</td>\n",
       "      <td>12</td>\n",
       "      <td>72</td>\n",
       "      <td>84</td>\n",
       "      <td>11</td>\n",
       "      <td>77</td>\n",
       "      <td>77</td>\n",
       "      <td>7</td>\n",
       "      <td>21</td>\n",
       "      <td>49</td>\n",
       "      <td>19</td>\n",
       "      <td>38</td>\n",
       "      <td>133</td>\n",
       "      <td>36</td>\n",
       "      <td>84</td>\n",
       "      <td>12</td>\n",
       "    </tr>\n",
       "    <tr>\n",
       "      <th>7</th>\n",
       "      <td>33</td>\n",
       "      <td>198</td>\n",
       "      <td>231</td>\n",
       "      <td>13</td>\n",
       "      <td>26</td>\n",
       "      <td>91</td>\n",
       "      <td>12</td>\n",
       "      <td>84</td>\n",
       "      <td>24</td>\n",
       "      <td>25</td>\n",
       "      <td>150</td>\n",
       "      <td>175</td>\n",
       "      <td>8</td>\n",
       "      <td>24</td>\n",
       "      <td>56</td>\n",
       "      <td>50</td>\n",
       "      <td>70</td>\n",
       "      <td>10</td>\n",
       "    </tr>\n",
       "    <tr>\n",
       "      <th>8</th>\n",
       "      <td>14</td>\n",
       "      <td>70</td>\n",
       "      <td>98</td>\n",
       "      <td>16</td>\n",
       "      <td>48</td>\n",
       "      <td>112</td>\n",
       "      <td>17</td>\n",
       "      <td>85</td>\n",
       "      <td>119</td>\n",
       "      <td>9</td>\n",
       "      <td>54</td>\n",
       "      <td>63</td>\n",
       "      <td>31</td>\n",
       "      <td>186</td>\n",
       "      <td>217</td>\n",
       "      <td>91</td>\n",
       "      <td>52</td>\n",
       "      <td>13</td>\n",
       "    </tr>\n",
       "    <tr>\n",
       "      <th>9</th>\n",
       "      <td>40</td>\n",
       "      <td>280</td>\n",
       "      <td>280</td>\n",
       "      <td>10</td>\n",
       "      <td>30</td>\n",
       "      <td>70</td>\n",
       "      <td>60</td>\n",
       "      <td>70</td>\n",
       "      <td>10</td>\n",
       "      <td>10</td>\n",
       "      <td>50</td>\n",
       "      <td>70</td>\n",
       "      <td>15</td>\n",
       "      <td>60</td>\n",
       "      <td>105</td>\n",
       "      <td>45</td>\n",
       "      <td>105</td>\n",
       "      <td>15</td>\n",
       "    </tr>\n",
       "  </tbody>\n",
       "</table>\n",
       "</div>"
      ],
      "text/plain": [
       "   $30  $10   $5  0.5 hrs  1 hrs  3 hrs  12 oz  20 oz  32 0z  Difficult  Fair  \\\n",
       "0    5   15   35        8     24     56     32    224    192          7    14   \n",
       "1    6   36   42        3     12     21     17    119    102         10    60   \n",
       "2   55  330  385        5     20     35     35     20      5          8    24   \n",
       "3   12   72   84        9     36     63     21      3      9         40   200   \n",
       "4   56  224  392        6     24     42     19    133     38          9    27   \n",
       "5    9   45   63        6     24     42      0      0      0         57   228   \n",
       "6   39  273  273       12     72     84     11     77     77          7    21   \n",
       "7   33  198  231       13     26     91     12     84     24         25   150   \n",
       "8   14   70   98       16     48    112     17     85    119          9    54   \n",
       "9   40  280  280       10     30     70     60     70     10         10    50   \n",
       "\n",
       "   Easy  Slosh Resistant  Spill Resistant  Leak Resistant    A    B    C  \n",
       "0    49               34              170             238   98   70   14  \n",
       "1    70               51              357             357  105   75   15  \n",
       "2    56               16               80             112    9   27   63  \n",
       "3   280               20              100             140  112   16   80  \n",
       "4    63                0                0               0   33   11   77  \n",
       "5   399               13               78              91   45   15  105  \n",
       "6    49               19               38             133   36   84   12  \n",
       "7   175                8               24              56   50   70   10  \n",
       "8    63               31              186             217   91   52   13  \n",
       "9    70               15               60             105   45  105   15  "
      ]
     },
     "execution_count": 50,
     "metadata": {},
     "output_type": "execute_result"
    }
   ],
   "source": [
    "PrefInf.head(10)"
   ]
  },
  {
   "cell_type": "code",
   "execution_count": 77,
   "id": "6a1fe6a6",
   "metadata": {},
   "outputs": [],
   "source": [
    "PrefInf.to_csv('Preference Matrix Scores.csv',index=False)"
   ]
  },
  {
   "cell_type": "code",
   "execution_count": 51,
   "id": "d0e31062-3589-42b0-bc48-e362bf73d3c7",
   "metadata": {},
   "outputs": [
    {
     "name": "stdout",
     "output_type": "stream",
     "text": [
      "{'PRA': 0.3306, 'PrB': 0.4597, 'PrC': 0.2097}\n"
     ]
    },
    {
     "data": {
      "text/html": [
       "<div>\n",
       "<style scoped>\n",
       "    .dataframe tbody tr th:only-of-type {\n",
       "        vertical-align: middle;\n",
       "    }\n",
       "\n",
       "    .dataframe tbody tr th {\n",
       "        vertical-align: top;\n",
       "    }\n",
       "\n",
       "    .dataframe thead th {\n",
       "        text-align: right;\n",
       "    }\n",
       "</style>\n",
       "<table border=\"1\" class=\"dataframe\">\n",
       "  <thead>\n",
       "    <tr style=\"text-align: right;\">\n",
       "      <th></th>\n",
       "      <th>Price</th>\n",
       "      <th>TimeInsulated</th>\n",
       "      <th>Capacity</th>\n",
       "      <th>Cleanbility</th>\n",
       "      <th>Containment</th>\n",
       "      <th>TimeCost</th>\n",
       "      <th>CapacityCost</th>\n",
       "      <th>CleanabilityCost</th>\n",
       "      <th>ContainmentCost</th>\n",
       "      <th>TotalCost</th>\n",
       "      <th>TotalGM</th>\n",
       "      <th>MktShare</th>\n",
       "      <th>EPP</th>\n",
       "      <th>Revenue</th>\n",
       "    </tr>\n",
       "  </thead>\n",
       "  <tbody>\n",
       "    <tr>\n",
       "      <th>0</th>\n",
       "      <td>$30</td>\n",
       "      <td>0.5 hrs</td>\n",
       "      <td>12 oz</td>\n",
       "      <td>Difficult</td>\n",
       "      <td>Slosh Resistant</td>\n",
       "      <td>0.5000</td>\n",
       "      <td>1.0000</td>\n",
       "      <td>1.0000</td>\n",
       "      <td>0.5000</td>\n",
       "      <td>3.0000</td>\n",
       "      <td>27.0000</td>\n",
       "      <td>0.0170</td>\n",
       "      <td>0.4590</td>\n",
       "      <td>0.5100</td>\n",
       "    </tr>\n",
       "    <tr>\n",
       "      <th>1</th>\n",
       "      <td>$30</td>\n",
       "      <td>0.5 hrs</td>\n",
       "      <td>12 oz</td>\n",
       "      <td>Difficult</td>\n",
       "      <td>Spill Resistant</td>\n",
       "      <td>0.5000</td>\n",
       "      <td>1.0000</td>\n",
       "      <td>1.0000</td>\n",
       "      <td>0.8000</td>\n",
       "      <td>3.3000</td>\n",
       "      <td>26.7000</td>\n",
       "      <td>0.0257</td>\n",
       "      <td>0.6862</td>\n",
       "      <td>0.7710</td>\n",
       "    </tr>\n",
       "    <tr>\n",
       "      <th>2</th>\n",
       "      <td>$30</td>\n",
       "      <td>0.5 hrs</td>\n",
       "      <td>12 oz</td>\n",
       "      <td>Difficult</td>\n",
       "      <td>Leak Resistant</td>\n",
       "      <td>0.5000</td>\n",
       "      <td>1.0000</td>\n",
       "      <td>1.0000</td>\n",
       "      <td>1.0000</td>\n",
       "      <td>3.5000</td>\n",
       "      <td>26.5000</td>\n",
       "      <td>0.0454</td>\n",
       "      <td>1.2031</td>\n",
       "      <td>1.3620</td>\n",
       "    </tr>\n",
       "    <tr>\n",
       "      <th>3</th>\n",
       "      <td>$30</td>\n",
       "      <td>0.5 hrs</td>\n",
       "      <td>12 oz</td>\n",
       "      <td>Fair</td>\n",
       "      <td>Slosh Resistant</td>\n",
       "      <td>0.5000</td>\n",
       "      <td>1.0000</td>\n",
       "      <td>2.2000</td>\n",
       "      <td>0.5000</td>\n",
       "      <td>4.2000</td>\n",
       "      <td>25.8000</td>\n",
       "      <td>0.0316</td>\n",
       "      <td>0.8153</td>\n",
       "      <td>0.9480</td>\n",
       "    </tr>\n",
       "    <tr>\n",
       "      <th>4</th>\n",
       "      <td>$30</td>\n",
       "      <td>0.5 hrs</td>\n",
       "      <td>12 oz</td>\n",
       "      <td>Fair</td>\n",
       "      <td>Spill Resistant</td>\n",
       "      <td>0.5000</td>\n",
       "      <td>1.0000</td>\n",
       "      <td>2.2000</td>\n",
       "      <td>0.8000</td>\n",
       "      <td>4.5000</td>\n",
       "      <td>25.5000</td>\n",
       "      <td>0.0503</td>\n",
       "      <td>1.2826</td>\n",
       "      <td>1.5090</td>\n",
       "    </tr>\n",
       "    <tr>\n",
       "      <th>5</th>\n",
       "      <td>$30</td>\n",
       "      <td>0.5 hrs</td>\n",
       "      <td>12 oz</td>\n",
       "      <td>Fair</td>\n",
       "      <td>Leak Resistant</td>\n",
       "      <td>0.5000</td>\n",
       "      <td>1.0000</td>\n",
       "      <td>2.2000</td>\n",
       "      <td>1.0000</td>\n",
       "      <td>4.7000</td>\n",
       "      <td>25.3000</td>\n",
       "      <td>0.0887</td>\n",
       "      <td>2.2441</td>\n",
       "      <td>2.6610</td>\n",
       "    </tr>\n",
       "    <tr>\n",
       "      <th>6</th>\n",
       "      <td>$30</td>\n",
       "      <td>0.5 hrs</td>\n",
       "      <td>12 oz</td>\n",
       "      <td>Easy</td>\n",
       "      <td>Slosh Resistant</td>\n",
       "      <td>0.5000</td>\n",
       "      <td>1.0000</td>\n",
       "      <td>3.0000</td>\n",
       "      <td>0.5000</td>\n",
       "      <td>5.0000</td>\n",
       "      <td>25.0000</td>\n",
       "      <td>0.0499</td>\n",
       "      <td>1.2475</td>\n",
       "      <td>1.4970</td>\n",
       "    </tr>\n",
       "    <tr>\n",
       "      <th>7</th>\n",
       "      <td>$30</td>\n",
       "      <td>0.5 hrs</td>\n",
       "      <td>12 oz</td>\n",
       "      <td>Easy</td>\n",
       "      <td>Spill Resistant</td>\n",
       "      <td>0.5000</td>\n",
       "      <td>1.0000</td>\n",
       "      <td>3.0000</td>\n",
       "      <td>0.8000</td>\n",
       "      <td>5.3000</td>\n",
       "      <td>24.7000</td>\n",
       "      <td>0.0779</td>\n",
       "      <td>1.9241</td>\n",
       "      <td>2.3370</td>\n",
       "    </tr>\n",
       "    <tr>\n",
       "      <th>8</th>\n",
       "      <td>$30</td>\n",
       "      <td>0.5 hrs</td>\n",
       "      <td>12 oz</td>\n",
       "      <td>Easy</td>\n",
       "      <td>Leak Resistant</td>\n",
       "      <td>0.5000</td>\n",
       "      <td>1.0000</td>\n",
       "      <td>3.0000</td>\n",
       "      <td>1.0000</td>\n",
       "      <td>5.5000</td>\n",
       "      <td>24.5000</td>\n",
       "      <td>0.1295</td>\n",
       "      <td>3.1728</td>\n",
       "      <td>3.8850</td>\n",
       "    </tr>\n",
       "    <tr>\n",
       "      <th>9</th>\n",
       "      <td>$30</td>\n",
       "      <td>0.5 hrs</td>\n",
       "      <td>20 oz</td>\n",
       "      <td>Difficult</td>\n",
       "      <td>Slosh Resistant</td>\n",
       "      <td>0.5000</td>\n",
       "      <td>2.6000</td>\n",
       "      <td>1.0000</td>\n",
       "      <td>0.5000</td>\n",
       "      <td>4.6000</td>\n",
       "      <td>25.4000</td>\n",
       "      <td>0.0139</td>\n",
       "      <td>0.3531</td>\n",
       "      <td>0.4170</td>\n",
       "    </tr>\n",
       "  </tbody>\n",
       "</table>\n",
       "</div>"
      ],
      "text/plain": [
       "  Price TimeInsulated Capacity Cleanbility      Containment TimeCost  \\\n",
       "0   $30       0.5 hrs    12 oz   Difficult  Slosh Resistant   0.5000   \n",
       "1   $30       0.5 hrs    12 oz   Difficult  Spill Resistant   0.5000   \n",
       "2   $30       0.5 hrs    12 oz   Difficult   Leak Resistant   0.5000   \n",
       "3   $30       0.5 hrs    12 oz        Fair  Slosh Resistant   0.5000   \n",
       "4   $30       0.5 hrs    12 oz        Fair  Spill Resistant   0.5000   \n",
       "5   $30       0.5 hrs    12 oz        Fair   Leak Resistant   0.5000   \n",
       "6   $30       0.5 hrs    12 oz        Easy  Slosh Resistant   0.5000   \n",
       "7   $30       0.5 hrs    12 oz        Easy  Spill Resistant   0.5000   \n",
       "8   $30       0.5 hrs    12 oz        Easy   Leak Resistant   0.5000   \n",
       "9   $30       0.5 hrs    20 oz   Difficult  Slosh Resistant   0.5000   \n",
       "\n",
       "  CapacityCost CleanabilityCost ContainmentCost TotalCost TotalGM  MktShare  \\\n",
       "0       1.0000           1.0000          0.5000    3.0000 27.0000    0.0170   \n",
       "1       1.0000           1.0000          0.8000    3.3000 26.7000    0.0257   \n",
       "2       1.0000           1.0000          1.0000    3.5000 26.5000    0.0454   \n",
       "3       1.0000           2.2000          0.5000    4.2000 25.8000    0.0316   \n",
       "4       1.0000           2.2000          0.8000    4.5000 25.5000    0.0503   \n",
       "5       1.0000           2.2000          1.0000    4.7000 25.3000    0.0887   \n",
       "6       1.0000           3.0000          0.5000    5.0000 25.0000    0.0499   \n",
       "7       1.0000           3.0000          0.8000    5.3000 24.7000    0.0779   \n",
       "8       1.0000           3.0000          1.0000    5.5000 24.5000    0.1295   \n",
       "9       2.6000           1.0000          0.5000    4.6000 25.4000    0.0139   \n",
       "\n",
       "     EPP  Revenue  \n",
       "0 0.4590   0.5100  \n",
       "1 0.6862   0.7710  \n",
       "2 1.2031   1.3620  \n",
       "3 0.8153   0.9480  \n",
       "4 1.2826   1.5090  \n",
       "5 2.2441   2.6610  \n",
       "6 1.2475   1.4970  \n",
       "7 1.9241   2.3370  \n",
       "8 3.1728   3.8850  \n",
       "9 0.3531   0.4170  "
      ]
     },
     "execution_count": 51,
     "metadata": {},
     "output_type": "execute_result"
    }
   ],
   "source": [
    "MktSharelst=[]\n",
    "for i in range(0,LexicalDf.shape[0]):\n",
    "    UtiltiA= PrefInf[productDf.iloc[0,:].values].sum(axis=1)\n",
    "    UtiltiB= PrefInf[productDf.iloc[1,:].values].sum(axis=1)\n",
    "    UtiltiC= PrefInf[LexicalDf.iloc[i,0:5].values].sum(axis=1)\n",
    "    # print(LexicalDFEncoded.iloc[i,0:5].values)\n",
    "    # print(UtiltiC.sum())\n",
    "    Utilitiy = pd.DataFrame([UtiltiA,UtiltiB,UtiltiC]).T\n",
    "    Utilitiy.columns= ['PRA','PrB','PrC']\n",
    "    # print(Utilitiy.sum())\n",
    "    Utilitiyexp= np.exp(Cvalue*Utilitiy)\n",
    "    Utilitiyexp=Utilitiyexp.div(Utilitiyexp.sum(axis=1),axis=0)\n",
    "    MktSkareDict=Utilitiyexp.mean(axis=0).to_dict()\n",
    "    MktSkareDict = {k: round(v, 4) for k, v in MktSkareDict.items()}\n",
    "    # print(MktSkareDict)\n",
    "    if i ==44:\n",
    "        print(MktSkareDict)\n",
    "    MktSharelst.append(MktSkareDict['PrC'])\n",
    "LexicalDf['MktShare'] = MktSharelst\n",
    "LexicalDf['EPP'] = LexicalDf['TotalGM']*LexicalDf['MktShare']\n",
    "LexicalDf['Revenue'] = LexicalDf['MktShare']*LexicalDf['Price'].str.replace('$','').astype(int)\n",
    "LexicalDf.head(10)"
   ]
  },
  {
   "cell_type": "markdown",
   "id": "c404883a",
   "metadata": {},
   "source": [
    "##### Current Product3 is in Line 45 i.e. Product 44 and its Expected Profit per Customer is $4.6967 and Revenue is $6.2902"
   ]
  },
  {
   "cell_type": "code",
   "execution_count": 52,
   "id": "4d099923-7523-4ee5-825e-acc9775a5e00",
   "metadata": {},
   "outputs": [
    {
     "data": {
      "text/plain": [
       "Price                          $30\n",
       "TimeInsulated                1 hrs\n",
       "Capacity                     20 oz\n",
       "Cleanbility                   Easy\n",
       "Containment         Leak Resistant\n",
       "TimeCost                    1.0000\n",
       "CapacityCost                2.6000\n",
       "CleanabilityCost            3.0000\n",
       "ContainmentCost             1.0000\n",
       "TotalCost                   7.6000\n",
       "TotalGM                    22.4000\n",
       "MktShare                    0.2097\n",
       "EPP                         4.6973\n",
       "Revenue                     6.2910\n",
       "Name: 44, dtype: object"
      ]
     },
     "execution_count": 52,
     "metadata": {},
     "output_type": "execute_result"
    }
   ],
   "source": [
    "LexicalDf.iloc[44,:]"
   ]
  },
  {
   "cell_type": "markdown",
   "id": "5331116e",
   "metadata": {},
   "source": [
    "##### As given in the question, we have calculated EPP of Product 106 is 0.6774,i.e.,in the bounds of 0.6 to 0.8\n",
    "##### As given in the question, we have calculated EPP of Product 230 is -1.9316,i.e.,in the bounds of -1.7 to -1.8"
   ]
  },
  {
   "cell_type": "code",
   "execution_count": 61,
   "id": "f7483d23-9a6e-4242-b269-32c1d6e676c6",
   "metadata": {},
   "outputs": [
    {
     "data": {
      "text/plain": [
       "Price                           $10\n",
       "TimeInsulated               0.5 hrs\n",
       "Capacity                      32 0z\n",
       "Cleanbility                    Easy\n",
       "Containment         Slosh Resistant\n",
       "TimeCost                     0.5000\n",
       "CapacityCost                 2.8000\n",
       "CleanabilityCost             3.0000\n",
       "ContainmentCost              0.5000\n",
       "TotalCost                    6.8000\n",
       "TotalGM                      3.2000\n",
       "MktShare                     0.2117\n",
       "EPP                          0.6774\n",
       "Revenue                      2.1170\n",
       "Name: 105, dtype: object"
      ]
     },
     "execution_count": 61,
     "metadata": {},
     "output_type": "execute_result"
    }
   ],
   "source": [
    "LexicalDf.iloc[105,:]"
   ]
  },
  {
   "cell_type": "code",
   "execution_count": 60,
   "id": "52232d10",
   "metadata": {},
   "outputs": [
    {
     "data": {
      "text/plain": [
       "Price                            $5\n",
       "TimeInsulated                 3 hrs\n",
       "Capacity                      20 oz\n",
       "Cleanbility                    Fair\n",
       "Containment         Spill Resistant\n",
       "TimeCost                     3.0000\n",
       "CapacityCost                 2.6000\n",
       "CleanabilityCost             2.2000\n",
       "ContainmentCost              0.8000\n",
       "TotalCost                    8.6000\n",
       "TotalGM                     -3.6000\n",
       "MktShare                     0.5365\n",
       "EPP                         -1.9314\n",
       "Revenue                      2.6825\n",
       "Name: 229, dtype: object"
      ]
     },
     "execution_count": 60,
     "metadata": {},
     "output_type": "execute_result"
    }
   ],
   "source": [
    "LexicalDf.iloc[229,:]"
   ]
  },
  {
   "cell_type": "code",
   "execution_count": 76,
   "id": "0f30e5b8",
   "metadata": {},
   "outputs": [
    {
     "data": {
      "text/html": [
       "<div>\n",
       "<style scoped>\n",
       "    .dataframe tbody tr th:only-of-type {\n",
       "        vertical-align: middle;\n",
       "    }\n",
       "\n",
       "    .dataframe tbody tr th {\n",
       "        vertical-align: top;\n",
       "    }\n",
       "\n",
       "    .dataframe thead th {\n",
       "        text-align: right;\n",
       "    }\n",
       "</style>\n",
       "<table border=\"1\" class=\"dataframe\">\n",
       "  <thead>\n",
       "    <tr style=\"text-align: right;\">\n",
       "      <th></th>\n",
       "      <th>71</th>\n",
       "    </tr>\n",
       "  </thead>\n",
       "  <tbody>\n",
       "    <tr>\n",
       "      <th>Price</th>\n",
       "      <td>$30</td>\n",
       "    </tr>\n",
       "    <tr>\n",
       "      <th>TimeInsulated</th>\n",
       "      <td>3 hrs</td>\n",
       "    </tr>\n",
       "    <tr>\n",
       "      <th>Capacity</th>\n",
       "      <td>20 oz</td>\n",
       "    </tr>\n",
       "    <tr>\n",
       "      <th>Cleanbility</th>\n",
       "      <td>Easy</td>\n",
       "    </tr>\n",
       "    <tr>\n",
       "      <th>Containment</th>\n",
       "      <td>Leak Resistant</td>\n",
       "    </tr>\n",
       "    <tr>\n",
       "      <th>TimeCost</th>\n",
       "      <td>3.0000</td>\n",
       "    </tr>\n",
       "    <tr>\n",
       "      <th>CapacityCost</th>\n",
       "      <td>2.6000</td>\n",
       "    </tr>\n",
       "    <tr>\n",
       "      <th>CleanabilityCost</th>\n",
       "      <td>3.0000</td>\n",
       "    </tr>\n",
       "    <tr>\n",
       "      <th>ContainmentCost</th>\n",
       "      <td>1.0000</td>\n",
       "    </tr>\n",
       "    <tr>\n",
       "      <th>TotalCost</th>\n",
       "      <td>9.6000</td>\n",
       "    </tr>\n",
       "    <tr>\n",
       "      <th>TotalGM</th>\n",
       "      <td>20.4000</td>\n",
       "    </tr>\n",
       "    <tr>\n",
       "      <th>MktShare</th>\n",
       "      <td>0.2827</td>\n",
       "    </tr>\n",
       "    <tr>\n",
       "      <th>EPP</th>\n",
       "      <td>5.7671</td>\n",
       "    </tr>\n",
       "    <tr>\n",
       "      <th>Revenue</th>\n",
       "      <td>8.4810</td>\n",
       "    </tr>\n",
       "  </tbody>\n",
       "</table>\n",
       "</div>"
      ],
      "text/plain": [
       "                              71\n",
       "Price                        $30\n",
       "TimeInsulated              3 hrs\n",
       "Capacity                   20 oz\n",
       "Cleanbility                 Easy\n",
       "Containment       Leak Resistant\n",
       "TimeCost                  3.0000\n",
       "CapacityCost              2.6000\n",
       "CleanabilityCost          3.0000\n",
       "ContainmentCost           1.0000\n",
       "TotalCost                 9.6000\n",
       "TotalGM                  20.4000\n",
       "MktShare                  0.2827\n",
       "EPP                       5.7671\n",
       "Revenue                   8.4810"
      ]
     },
     "execution_count": 76,
     "metadata": {},
     "output_type": "execute_result"
    }
   ],
   "source": [
    "LexicalDf[LexicalDf['Revenue']==LexicalDf['Revenue'].max()].T"
   ]
  },
  {
   "cell_type": "code",
   "execution_count": 75,
   "id": "0f2c1104-00df-4a92-a254-7eebf06a7997",
   "metadata": {},
   "outputs": [
    {
     "data": {
      "text/html": [
       "<div>\n",
       "<style scoped>\n",
       "    .dataframe tbody tr th:only-of-type {\n",
       "        vertical-align: middle;\n",
       "    }\n",
       "\n",
       "    .dataframe tbody tr th {\n",
       "        vertical-align: top;\n",
       "    }\n",
       "\n",
       "    .dataframe thead th {\n",
       "        text-align: right;\n",
       "    }\n",
       "</style>\n",
       "<table border=\"1\" class=\"dataframe\">\n",
       "  <thead>\n",
       "    <tr style=\"text-align: right;\">\n",
       "      <th></th>\n",
       "      <th>71</th>\n",
       "    </tr>\n",
       "  </thead>\n",
       "  <tbody>\n",
       "    <tr>\n",
       "      <th>Price</th>\n",
       "      <td>$30</td>\n",
       "    </tr>\n",
       "    <tr>\n",
       "      <th>TimeInsulated</th>\n",
       "      <td>3 hrs</td>\n",
       "    </tr>\n",
       "    <tr>\n",
       "      <th>Capacity</th>\n",
       "      <td>20 oz</td>\n",
       "    </tr>\n",
       "    <tr>\n",
       "      <th>Cleanbility</th>\n",
       "      <td>Easy</td>\n",
       "    </tr>\n",
       "    <tr>\n",
       "      <th>Containment</th>\n",
       "      <td>Leak Resistant</td>\n",
       "    </tr>\n",
       "    <tr>\n",
       "      <th>TimeCost</th>\n",
       "      <td>3.0000</td>\n",
       "    </tr>\n",
       "    <tr>\n",
       "      <th>CapacityCost</th>\n",
       "      <td>2.6000</td>\n",
       "    </tr>\n",
       "    <tr>\n",
       "      <th>CleanabilityCost</th>\n",
       "      <td>3.0000</td>\n",
       "    </tr>\n",
       "    <tr>\n",
       "      <th>ContainmentCost</th>\n",
       "      <td>1.0000</td>\n",
       "    </tr>\n",
       "    <tr>\n",
       "      <th>TotalCost</th>\n",
       "      <td>9.6000</td>\n",
       "    </tr>\n",
       "    <tr>\n",
       "      <th>TotalGM</th>\n",
       "      <td>20.4000</td>\n",
       "    </tr>\n",
       "    <tr>\n",
       "      <th>MktShare</th>\n",
       "      <td>0.2827</td>\n",
       "    </tr>\n",
       "    <tr>\n",
       "      <th>EPP</th>\n",
       "      <td>5.7671</td>\n",
       "    </tr>\n",
       "    <tr>\n",
       "      <th>Revenue</th>\n",
       "      <td>8.4810</td>\n",
       "    </tr>\n",
       "  </tbody>\n",
       "</table>\n",
       "</div>"
      ],
      "text/plain": [
       "                              71\n",
       "Price                        $30\n",
       "TimeInsulated              3 hrs\n",
       "Capacity                   20 oz\n",
       "Cleanbility                 Easy\n",
       "Containment       Leak Resistant\n",
       "TimeCost                  3.0000\n",
       "CapacityCost              2.6000\n",
       "CleanabilityCost          3.0000\n",
       "ContainmentCost           1.0000\n",
       "TotalCost                 9.6000\n",
       "TotalGM                  20.4000\n",
       "MktShare                  0.2827\n",
       "EPP                       5.7671\n",
       "Revenue                   8.4810"
      ]
     },
     "execution_count": 75,
     "metadata": {},
     "output_type": "execute_result"
    }
   ],
   "source": [
    "LexicalDf[LexicalDf['EPP']==LexicalDf['EPP'].max()].T"
   ]
  },
  {
   "cell_type": "code",
   "execution_count": 74,
   "id": "51157c16",
   "metadata": {},
   "outputs": [
    {
     "data": {
      "text/html": [
       "<div>\n",
       "<style scoped>\n",
       "    .dataframe tbody tr th:only-of-type {\n",
       "        vertical-align: middle;\n",
       "    }\n",
       "\n",
       "    .dataframe tbody tr th {\n",
       "        vertical-align: top;\n",
       "    }\n",
       "\n",
       "    .dataframe thead th {\n",
       "        text-align: right;\n",
       "    }\n",
       "</style>\n",
       "<table border=\"1\" class=\"dataframe\">\n",
       "  <thead>\n",
       "    <tr style=\"text-align: right;\">\n",
       "      <th></th>\n",
       "      <th>233</th>\n",
       "    </tr>\n",
       "  </thead>\n",
       "  <tbody>\n",
       "    <tr>\n",
       "      <th>Price</th>\n",
       "      <td>$5</td>\n",
       "    </tr>\n",
       "    <tr>\n",
       "      <th>TimeInsulated</th>\n",
       "      <td>3 hrs</td>\n",
       "    </tr>\n",
       "    <tr>\n",
       "      <th>Capacity</th>\n",
       "      <td>20 oz</td>\n",
       "    </tr>\n",
       "    <tr>\n",
       "      <th>Cleanbility</th>\n",
       "      <td>Easy</td>\n",
       "    </tr>\n",
       "    <tr>\n",
       "      <th>Containment</th>\n",
       "      <td>Leak Resistant</td>\n",
       "    </tr>\n",
       "    <tr>\n",
       "      <th>TimeCost</th>\n",
       "      <td>3.0000</td>\n",
       "    </tr>\n",
       "    <tr>\n",
       "      <th>CapacityCost</th>\n",
       "      <td>2.6000</td>\n",
       "    </tr>\n",
       "    <tr>\n",
       "      <th>CleanabilityCost</th>\n",
       "      <td>3.0000</td>\n",
       "    </tr>\n",
       "    <tr>\n",
       "      <th>ContainmentCost</th>\n",
       "      <td>1.0000</td>\n",
       "    </tr>\n",
       "    <tr>\n",
       "      <th>TotalCost</th>\n",
       "      <td>9.6000</td>\n",
       "    </tr>\n",
       "    <tr>\n",
       "      <th>TotalGM</th>\n",
       "      <td>-4.6000</td>\n",
       "    </tr>\n",
       "    <tr>\n",
       "      <th>MktShare</th>\n",
       "      <td>0.7505</td>\n",
       "    </tr>\n",
       "    <tr>\n",
       "      <th>EPP</th>\n",
       "      <td>-3.4523</td>\n",
       "    </tr>\n",
       "    <tr>\n",
       "      <th>Revenue</th>\n",
       "      <td>3.7525</td>\n",
       "    </tr>\n",
       "  </tbody>\n",
       "</table>\n",
       "</div>"
      ],
      "text/plain": [
       "                             233\n",
       "Price                         $5\n",
       "TimeInsulated              3 hrs\n",
       "Capacity                   20 oz\n",
       "Cleanbility                 Easy\n",
       "Containment       Leak Resistant\n",
       "TimeCost                  3.0000\n",
       "CapacityCost              2.6000\n",
       "CleanabilityCost          3.0000\n",
       "ContainmentCost           1.0000\n",
       "TotalCost                 9.6000\n",
       "TotalGM                  -4.6000\n",
       "MktShare                  0.7505\n",
       "EPP                      -3.4523\n",
       "Revenue                   3.7525"
      ]
     },
     "execution_count": 74,
     "metadata": {},
     "output_type": "execute_result"
    }
   ],
   "source": [
    "LexicalDf[LexicalDf['MktShare']==LexicalDf['MktShare'].max()].T"
   ]
  },
  {
   "cell_type": "code",
   "execution_count": 73,
   "id": "b7c277c5",
   "metadata": {},
   "outputs": [
    {
     "data": {
      "text/html": [
       "<div>\n",
       "<style scoped>\n",
       "    .dataframe tbody tr th:only-of-type {\n",
       "        vertical-align: middle;\n",
       "    }\n",
       "\n",
       "    .dataframe tbody tr th {\n",
       "        vertical-align: top;\n",
       "    }\n",
       "\n",
       "    .dataframe thead th {\n",
       "        text-align: right;\n",
       "    }\n",
       "</style>\n",
       "<table border=\"1\" class=\"dataframe\">\n",
       "  <thead>\n",
       "    <tr style=\"text-align: right;\">\n",
       "      <th></th>\n",
       "      <th>0</th>\n",
       "    </tr>\n",
       "  </thead>\n",
       "  <tbody>\n",
       "    <tr>\n",
       "      <th>Price</th>\n",
       "      <td>$30</td>\n",
       "    </tr>\n",
       "    <tr>\n",
       "      <th>TimeInsulated</th>\n",
       "      <td>0.5 hrs</td>\n",
       "    </tr>\n",
       "    <tr>\n",
       "      <th>Capacity</th>\n",
       "      <td>12 oz</td>\n",
       "    </tr>\n",
       "    <tr>\n",
       "      <th>Cleanbility</th>\n",
       "      <td>Difficult</td>\n",
       "    </tr>\n",
       "    <tr>\n",
       "      <th>Containment</th>\n",
       "      <td>Slosh Resistant</td>\n",
       "    </tr>\n",
       "    <tr>\n",
       "      <th>TimeCost</th>\n",
       "      <td>0.5000</td>\n",
       "    </tr>\n",
       "    <tr>\n",
       "      <th>CapacityCost</th>\n",
       "      <td>1.0000</td>\n",
       "    </tr>\n",
       "    <tr>\n",
       "      <th>CleanabilityCost</th>\n",
       "      <td>1.0000</td>\n",
       "    </tr>\n",
       "    <tr>\n",
       "      <th>ContainmentCost</th>\n",
       "      <td>0.5000</td>\n",
       "    </tr>\n",
       "    <tr>\n",
       "      <th>TotalCost</th>\n",
       "      <td>3.0000</td>\n",
       "    </tr>\n",
       "    <tr>\n",
       "      <th>TotalGM</th>\n",
       "      <td>27.0000</td>\n",
       "    </tr>\n",
       "    <tr>\n",
       "      <th>MktShare</th>\n",
       "      <td>0.0170</td>\n",
       "    </tr>\n",
       "    <tr>\n",
       "      <th>EPP</th>\n",
       "      <td>0.4590</td>\n",
       "    </tr>\n",
       "    <tr>\n",
       "      <th>Revenue</th>\n",
       "      <td>0.5100</td>\n",
       "    </tr>\n",
       "  </tbody>\n",
       "</table>\n",
       "</div>"
      ],
      "text/plain": [
       "                                0\n",
       "Price                         $30\n",
       "TimeInsulated             0.5 hrs\n",
       "Capacity                    12 oz\n",
       "Cleanbility             Difficult\n",
       "Containment       Slosh Resistant\n",
       "TimeCost                   0.5000\n",
       "CapacityCost               1.0000\n",
       "CleanabilityCost           1.0000\n",
       "ContainmentCost            0.5000\n",
       "TotalCost                  3.0000\n",
       "TotalGM                   27.0000\n",
       "MktShare                   0.0170\n",
       "EPP                        0.4590\n",
       "Revenue                    0.5100"
      ]
     },
     "execution_count": 73,
     "metadata": {},
     "output_type": "execute_result"
    }
   ],
   "source": [
    "LexicalDf[LexicalDf['TotalGM']==LexicalDf['TotalGM'].max()].T"
   ]
  },
  {
   "cell_type": "code",
   "execution_count": 72,
   "id": "c70c3ef2",
   "metadata": {},
   "outputs": [
    {
     "data": {
      "text/plain": [
       "Price                           $30\n",
       "TimeInsulated               0.5 hrs\n",
       "Capacity                      12 oz\n",
       "Cleanbility               Difficult\n",
       "Containment         Slosh Resistant\n",
       "TimeCost                     0.5000\n",
       "CapacityCost                 1.0000\n",
       "CleanabilityCost             1.0000\n",
       "ContainmentCost              0.5000\n",
       "TotalCost                    3.0000\n",
       "TotalGM                     27.0000\n",
       "MktShare                     0.0170\n",
       "EPP                          0.4590\n",
       "Revenue                      0.5100\n",
       "Name: 0, dtype: object"
      ]
     },
     "execution_count": 72,
     "metadata": {},
     "output_type": "execute_result"
    }
   ],
   "source": [
    "LexicalDf.iloc[LexicalDf.idxmin(axis=0)['TotalCost'],:]"
   ]
  },
  {
   "cell_type": "code",
   "execution_count": 71,
   "id": "1bff820b",
   "metadata": {},
   "outputs": [
    {
     "data": {
      "text/html": [
       "<div>\n",
       "<style scoped>\n",
       "    .dataframe tbody tr th:only-of-type {\n",
       "        vertical-align: middle;\n",
       "    }\n",
       "\n",
       "    .dataframe tbody tr th {\n",
       "        vertical-align: top;\n",
       "    }\n",
       "\n",
       "    .dataframe thead th {\n",
       "        text-align: right;\n",
       "    }\n",
       "</style>\n",
       "<table border=\"1\" class=\"dataframe\">\n",
       "  <thead>\n",
       "    <tr style=\"text-align: right;\">\n",
       "      <th></th>\n",
       "      <th>0</th>\n",
       "      <th>81</th>\n",
       "      <th>162</th>\n",
       "    </tr>\n",
       "  </thead>\n",
       "  <tbody>\n",
       "    <tr>\n",
       "      <th>Price</th>\n",
       "      <td>$30</td>\n",
       "      <td>$10</td>\n",
       "      <td>$5</td>\n",
       "    </tr>\n",
       "    <tr>\n",
       "      <th>TimeInsulated</th>\n",
       "      <td>0.5 hrs</td>\n",
       "      <td>0.5 hrs</td>\n",
       "      <td>0.5 hrs</td>\n",
       "    </tr>\n",
       "    <tr>\n",
       "      <th>Capacity</th>\n",
       "      <td>12 oz</td>\n",
       "      <td>12 oz</td>\n",
       "      <td>12 oz</td>\n",
       "    </tr>\n",
       "    <tr>\n",
       "      <th>Cleanbility</th>\n",
       "      <td>Difficult</td>\n",
       "      <td>Difficult</td>\n",
       "      <td>Difficult</td>\n",
       "    </tr>\n",
       "    <tr>\n",
       "      <th>Containment</th>\n",
       "      <td>Slosh Resistant</td>\n",
       "      <td>Slosh Resistant</td>\n",
       "      <td>Slosh Resistant</td>\n",
       "    </tr>\n",
       "    <tr>\n",
       "      <th>TimeCost</th>\n",
       "      <td>0.5000</td>\n",
       "      <td>0.5000</td>\n",
       "      <td>0.5000</td>\n",
       "    </tr>\n",
       "    <tr>\n",
       "      <th>CapacityCost</th>\n",
       "      <td>1.0000</td>\n",
       "      <td>1.0000</td>\n",
       "      <td>1.0000</td>\n",
       "    </tr>\n",
       "    <tr>\n",
       "      <th>CleanabilityCost</th>\n",
       "      <td>1.0000</td>\n",
       "      <td>1.0000</td>\n",
       "      <td>1.0000</td>\n",
       "    </tr>\n",
       "    <tr>\n",
       "      <th>ContainmentCost</th>\n",
       "      <td>0.5000</td>\n",
       "      <td>0.5000</td>\n",
       "      <td>0.5000</td>\n",
       "    </tr>\n",
       "    <tr>\n",
       "      <th>TotalCost</th>\n",
       "      <td>3.0000</td>\n",
       "      <td>3.0000</td>\n",
       "      <td>3.0000</td>\n",
       "    </tr>\n",
       "    <tr>\n",
       "      <th>TotalGM</th>\n",
       "      <td>27.0000</td>\n",
       "      <td>7.0000</td>\n",
       "      <td>2.0000</td>\n",
       "    </tr>\n",
       "    <tr>\n",
       "      <th>MktShare</th>\n",
       "      <td>0.0170</td>\n",
       "      <td>0.0836</td>\n",
       "      <td>0.1704</td>\n",
       "    </tr>\n",
       "    <tr>\n",
       "      <th>EPP</th>\n",
       "      <td>0.4590</td>\n",
       "      <td>0.5852</td>\n",
       "      <td>0.3408</td>\n",
       "    </tr>\n",
       "    <tr>\n",
       "      <th>Revenue</th>\n",
       "      <td>0.5100</td>\n",
       "      <td>0.8360</td>\n",
       "      <td>0.8520</td>\n",
       "    </tr>\n",
       "  </tbody>\n",
       "</table>\n",
       "</div>"
      ],
      "text/plain": [
       "                              0                81               162\n",
       "Price                         $30              $10               $5\n",
       "TimeInsulated             0.5 hrs          0.5 hrs          0.5 hrs\n",
       "Capacity                    12 oz            12 oz            12 oz\n",
       "Cleanbility             Difficult        Difficult        Difficult\n",
       "Containment       Slosh Resistant  Slosh Resistant  Slosh Resistant\n",
       "TimeCost                   0.5000           0.5000           0.5000\n",
       "CapacityCost               1.0000           1.0000           1.0000\n",
       "CleanabilityCost           1.0000           1.0000           1.0000\n",
       "ContainmentCost            0.5000           0.5000           0.5000\n",
       "TotalCost                  3.0000           3.0000           3.0000\n",
       "TotalGM                   27.0000           7.0000           2.0000\n",
       "MktShare                   0.0170           0.0836           0.1704\n",
       "EPP                        0.4590           0.5852           0.3408\n",
       "Revenue                    0.5100           0.8360           0.8520"
      ]
     },
     "execution_count": 71,
     "metadata": {},
     "output_type": "execute_result"
    }
   ],
   "source": [
    "LexicalDf[LexicalDf['TotalCost']==LexicalDf['TotalCost'].min()].T"
   ]
  },
  {
   "cell_type": "code",
   "execution_count": 55,
   "id": "8117696a-7eca-4169-b669-d3c59a6de534",
   "metadata": {},
   "outputs": [
    {
     "data": {
      "text/plain": [
       "71"
      ]
     },
     "execution_count": 55,
     "metadata": {},
     "output_type": "execute_result"
    }
   ],
   "source": [
    "LexicalDf['Revenue'].idxmax(axis=0)"
   ]
  },
  {
   "cell_type": "code",
   "execution_count": 56,
   "id": "9cab465c-df9e-4b67-92c1-4bead699ec01",
   "metadata": {},
   "outputs": [
    {
     "name": "stderr",
     "output_type": "stream",
     "text": [
      "/var/folders/ww/6x1584k50nq90wgkds1fx1dw0000gn/T/ipykernel_2384/2369514387.py:5: UserWarning:\n",
      "\n",
      "FigureCanvasAgg is non-interactive, and thus cannot be shown\n",
      "\n"
     ]
    },
    {
     "data": {
      "image/png": "[encoded data removed]",
      "text/plain": [
       "<Figure size 1000x800 with 2 Axes>"
      ]
     },
     "metadata": {},
     "output_type": "display_data"
    }
   ],
   "source": [
    "import matplotlib.pyplot as plt\n",
    "fig,(ax1,ax2)=plt.subplots(2,1,figsize=(10,8))\n",
    "LexicalDf[['MktShare','Revenue','EPP']].plot(kind='scatter',x='MktShare',y='Revenue',ax=ax1)\n",
    "LexicalDf[['MktShare','Revenue','EPP']].plot(kind='scatter',x='MktShare',y='EPP',ax=ax2)\n",
    "fig.show()"
   ]
  },
  {
   "cell_type": "code",
   "execution_count": 57,
   "id": "a2469711-eda3-48b9-8865-825342a01dce",
   "metadata": {},
   "outputs": [
    {
     "data": {
      "application/vnd.plotly.v1+json": {
       "config": {
        "plotlyServerURL": "https://plot.ly"
       },
       "data": [
        {
         "hovertemplate": "MktShare=%{x}<br>EPP=%{y}<br>Revenue=%{marker.size}<extra></extra>",
         "legendgroup": "",
         "marker": {
          "color": "#636efa",
          "size": {
           "bdata": "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",
           "dtype": "f8"
          },
          "sizemode": "area",
          "sizeref": 0.0212025,
          "symbol": "circle"
         },
         "mode": "markers",
         "name": "",
         "orientation": "h",
         "showlegend": false,
         "textposition": "top center",
         "type": "scatter",
         "x": {
          "bdata": "nMQgsHJokT9wXwfOGVGaP5EPejarPqc/dnEbDeAtoD/+Q/rt68CpPzC7Jw8LtbY/eAskKH6MqT8awFsgQfGzP/p+arx0k8A/8rBQa5p3jD/dtYR80LOZP7N78rBQa6o/l/+Qfvs6oD8pXI/C9SisP+XQItv5fro/uECC4seYqz+qglFJnYC2P9v5fmq8dMM/LUMc6+I2ij+6SQwCK4eWPw+cM6K0N6g/oyO5/If0mz+yne+nxkunP2IQWDm0yLY/Z9Xnaiv2pz+cM6K0N/iyP4C3QILix8A/jSjtDb4wmT8zMzMzMzOjP+eMKO0NvrA/JLn8h/Tbpz/jpZvEILCyP4qO5PIf0r8/O99PjZdusj9L6gQ0ETa8P7gehetRuMY/F0hQ/Bhzlz9uowG8BRKkP/2H9NvXgbM/jSjtDb4wqT+YTBWMSuq0P42XbhKDwMI/ak3zjlN0tD/cRgN4CyTAP0hQ/Bhz18o/6Gor9pfdkz/F/rJ78rCgP49TdCSX/7A/ZvfkYaHWpD9d/kP67euwP34dOGdEab8/SOF6FK5HsT+eXinLEMe6P6hXyjLEscY/coqO5PIfoj9fB84ZUdqrP/FjzF1LyLc/JlMFo5I6sT9Ke4MvTKa6P3uDL0ymCsY/Y+5aQj7ouT/b+X5qvHTDP94CCYofY84/XW3F/rJ7oj/arPpcbcWuP5/Nqs/VVrw/MzMzMzMzsz8ukKD4Mea+P/jCZKpgVMo/5q4l5IOevT/rc7UV+8vGP50Rpb3BF9I/dnEbDeAtoD8LtaZ5xymqP8cpOpLLf7g/Ece6uI0GsD+e76fGSze5P1r1udqK/cU/OUVHcvkPuT8U0ETY8PTCP7pJDAIrh84/1xLyQc9mtT/jx5i7lpC/P1TjpZvEIMg/7uvAOSNKwz+ppE5AE2HLP3icoiO5/NM/5dAi2/l+yj/XNO84RUfSPyQofoy5a9k/u7iNBvAWuD8Jih9j7lrCP5yiI7n8h8w/Vp+rrdhfxj+7uI0G8BbQP+XyH9JvX9c/QYLix5i7zj9YqDXNO07VP3o2qz5XW90/PL1SliGOtT9B8WPMXUvAP/Cnxks3ick/+1xtxf6ywz/EsS5uowHMP8cpOpLLf9Q/8BZIUPwYyz9kO99PjZfSP/5D+u3rwNk/RpT2Bl+YvD8Q6bevA+fEPwrXo3A9Cs8/rrZif9k9yT9/2T15WKjRP6kT0ETY8Ng/MnctIR/00D/pSC7/If3WP2Dl0CLb+d4/Lv8h/fZ1wD9QjZduEoPIPzQRNjy9UtI/cT0K16NwzT+ad5yiI7nUPxe30QDeAt0/cvkP6bev0z9BguLHmLvaP7UV+8vuyeE/hlrTvOMUvT8bL90kBoHFPzojSnuDL9A/Iv32deCcyT9SJ6CJsOHRP2Kh1jTvONk/QBNhw9Mr0T9eukkMAivXP77BFyZTBd8/zojS3uALwz+rz9VW7C/LP4y5awn5oNM/jgbwFkhQ0D8Sg8DKoUXWP6yt2F92T94/JlMFo5I61T+7uI0G8BbcP+QUHcnlP+I/aJHtfD81xj/mP6Tfvg7QPxueXinLENc/tMh2vp8a0z++nxov3STaPznWxW00gOE/Gw3gLZCg2D99PzVeukngP9qs+lxtxeQ/QKTfvg6cwz8YldQJaCLMP2x4eqUsQ9Q/jNtoAG+B0D8hH/RsVn3WP3ctIR/0bN4/ApoIG55e1T/TTWIQWDncPzojSnuDL+I/5IOezarPxT+vlGWIY13MPxTQRNjw9NI/6+I2GsBb0D8fhetRuB7VP78OnDOitNs/JzEIrBxa1D84Z0Rpb/DZP5yiI7n8h+A/u7iNBvAWyD9n1edqK/bPPyv2l92Th9U/cF8HzhlR0j8J+aBns+rXPxlz1xLyQd8/UkmdgCbC1j/ZPXlYqDXdPyEf9GxWfeI/vp8aL90kxj/Jdr6fGi/NPxUdyeU/pNM/UI2XbhKD0D+2hHzQs1nVP/kx5q4l5Ns/UI2XbhKD1D8UrkfhehTaPwN4CyQofuA/FvvL7snDyj96Nqs+V1vRP9CzWfW52tY/klz+Q/rt0z/f4AuTqYLZP4QNT6+UZeA/xyk6kst/2D/7OnDOiNLeP9k9eVioNeM/BhIUP8bczT8VHcnlP6TTP/wYc9cS8tk/s3vysFBr1j9d/kP67evcP+LplbIMceI/n6ut2F922z8+6Nms+lzhP9cS8kHPZuU/vJaQD3o2yz8PC7WmecfRP8oyxLEubtc/TRWMSuoE1D9vEoPAyqHZP807TtGRXOA/2PD0SlmG2D/A7J48LNTeP4JzRpT2BuM/D5wzorQ30D/D0ytlGeLUPwHeAgmKH9s/RUdy+Q/p1z8CvAUSFD/eP36MuWsJ+eI/3pOHhVrT3D+OdXEbDeDhP6Fns+pzteU/ih9j7lpC0j8CK4cW2c7XP9qs+lxtxd4/RiV1ApoI2z9eukkMAivhP0T67evAOeU//tR46SYx4D+u2F92Tx7kP2q8dJMYBOg/cRsN4C2Q0D/5oGez6nPVP8gHPZtVn9s/7zhFR3L51z80ETY8vVLeP0hQ/Bhz1+I/gLdAguLH3D+bVZ+rrdjhPzXvOEVHcuU/",
          "dtype": "f8"
         },
         "xaxis": "x",
         "y": [
          0.459,
          0.68619,
          1.2031,
          0.8152800000000001,
          1.2826499999999998,
          2.24411,
          1.2475,
          1.92413,
          3.17275,
          0.35306,
          0.6300100000000001,
          1.28484,
          0.7671399999999999,
          1.3145,
          2.45295,
          1.26126,
          2.0304900000000004,
          3.4808,
          0.32256,
          0.5478,
          1.16831,
          0.6552,
          1.07835,
          2.0915,
          1.08576,
          1.6968899999999998,
          2.97597,
          0.6519,
          0.9824999999999999,
          1.7004,
          1.1789800000000001,
          1.825,
          3.08264,
          1.7639999999999998,
          2.66684,
          4.26,
          0.57021,
          0.9643200000000001,
          1.85928,
          1.16604,
          1.9117799999999998,
          3.3987999999999996,
          1.82971,
          2.84986,
          4.697279999999999,
          0.47918,
          0.7954399999999999,
          1.6068799999999999,
          0.95645,
          1.53352,
          2.8221000000000003,
          1.5322500000000001,
          2.34304,
          3.9360600000000003,
          0.8673000000000001,
          1.3164799999999999,
          2.2296,
          1.56809,
          2.3943,
          3.92616,
          2.277,
          3.3743999999999996,
          5.2228,
          0.8266899999999999,
          1.35826,
          2.47968,
          1.6275,
          2.58298,
          4.36084,
          2.4181299999999997,
          3.6688600000000005,
          5.76708,
          0.7173200000000001,
          1.1446399999999999,
          2.1245399999999997,
          1.3459,
          2.0882,
          3.6078,
          2.02653,
          3.02124,
          4.817699999999999,
          0.5851999999999999,
          0.8261100000000001,
          1.22525,
          0.87406,
          1.17645,
          1.6551900000000002,
          1.035,
          1.3423200000000002,
          1.7873999999999999,
          0.50814,
          0.7313400000000001,
          1.0922100000000001,
          0.7341599999999999,
          0.9804599999999999,
          1.3512399999999998,
          0.8163400000000001,
          1.0319900000000002,
          1.3302300000000002,
          0.43784,
          0.62377,
          0.9376500000000001,
          0.6156,
          0.8095600000000001,
          1.1210499999999999,
          0.67744,
          0.84245,
          1.0864800000000001,
          0.72605,
          1.0124600000000001,
          1.455,
          1.0451599999999999,
          1.3795,
          1.8705599999999998,
          1.19205,
          1.5086400000000002,
          1.936,
          0.63014,
          0.8809000000000001,
          1.2597200000000002,
          0.8509999999999999,
          1.1009199999999997,
          1.4505599999999996,
          0.89204,
          1.0860200000000002,
          1.33416,
          0.5339200000000001,
          0.7392000000000001,
          1.0621800000000001,
          0.70035,
          0.89408,
          1.1823000000000001,
          0.72441,
          0.8688000000000001,
          1.06634,
          0.6696,
          0.8920800000000001,
          1.2268,
          0.84117,
          1.044,
          1.32608,
          0.82925,
          0.9655800000000001,
          1.1406,
          0.50315,
          0.6523400000000001,
          0.8649600000000002,
          0.5074499999999997,
          0.5719000000000001,
          0.6562799999999996,
          0.3463200000000001,
          0.30539999999999984,
          0.25964000000000026,
          0.41364,
          0.5275200000000001,
          0.69652,
          0.38685,
          0.4216799999999997,
          0.4754,
          0.23372999999999974,
          0.17639999999999936,
          0.11365999999999961,
          0.3408,
          0.37672,
          0.44430000000000003,
          0.20447999999999994,
          0.165,
          0.12986999999999993,
          0,
          -0.12158999999999992,
          -0.2583,
          0.07528000000000007,
          0.024970000000000134,
          -0.03363999999999988,
          -0.22896000000000022,
          -0.41107000000000016,
          -0.6349200000000004,
          -0.5689599999999999,
          -0.8671599999999997,
          -1.2133799999999997,
          0.03460000000000003,
          -0.02279999999999992,
          -0.09206999999999994,
          -0.258,
          -0.43367999999999995,
          -0.6537000000000001,
          -0.5769,
          -0.8557499999999998,
          -1.18542,
          0.31365,
          0.32544000000000006,
          0.3571,
          0.09341999999999995,
          0,
          -0.10248000000000008,
          -0.1914,
          -0.3852799999999999,
          -0.6003,
          -0.023329999999999917,
          -0.12275999999999984,
          -0.24323999999999985,
          -0.45539000000000024,
          -0.7230400000000002,
          -1.0373400000000004,
          -0.9011099999999999,
          -1.3022399999999996,
          -1.7388799999999995,
          -0.06377999999999996,
          -0.16667999999999988,
          -0.2928799999999999,
          -0.46920000000000006,
          -0.7209,
          -1.0226,
          -0.8813599999999999,
          -1.2524199999999999,
          -1.66488,
          -0.1267,
          -0.26103999999999994,
          -0.4238,
          -0.63512,
          -0.9452,
          -1.30438,
          -1.1260000000000001,
          -1.56408,
          -2.0352,
          -0.5991299999999999,
          -0.8927999999999998,
          -1.2500799999999999,
          -1.3939200000000003,
          -1.9313999999999998,
          -2.5205400000000004,
          -2.0745999999999998,
          -2.7662800000000005,
          -3.4522999999999993,
          -0.5952399999999999,
          -0.8715199999999999,
          -1.2084799999999998,
          -1.3111,
          -1.8004400000000003,
          -2.3552,
          -1.9337100000000003,
          -2.5654200000000005,
          -3.2169600000000007
         ],
         "yaxis": "y"
        }
       ],
       "layout": {
        "legend": {
         "itemsizing": "constant",
         "tracegroupgap": 0
        },
        "template": {
         "data": {
          "bar": [
           {
            "error_x": {
             "color": "#2a3f5f"
            },
            "error_y": {
             "color": "#2a3f5f"
            },
            "marker": {
             "line": {
              "color": "#E5ECF6",
              "width": 0.5
             },
             "pattern": {
              "fillmode": "overlay",
              "size": 10,
              "solidity": 0.2
             }
            },
            "type": "bar"
           }
          ],
          "barpolar": [
           {
            "marker": {
             "line": {
              "color": "#E5ECF6",
              "width": 0.5
             },
             "pattern": {
              "fillmode": "overlay",
              "size": 10,
              "solidity": 0.2
             }
            },
            "type": "barpolar"
           }
          ],
          "carpet": [
           {
            "aaxis": {
             "endlinecolor": "#2a3f5f",
             "gridcolor": "white",
             "linecolor": "white",
             "minorgridcolor": "white",
             "startlinecolor": "#2a3f5f"
            },
            "baxis": {
             "endlinecolor": "#2a3f5f",
             "gridcolor": "white",
             "linecolor": "white",
             "minorgridcolor": "white",
             "startlinecolor": "#2a3f5f"
            },
            "type": "carpet"
           }
          ],
          "choropleth": [
           {
            "colorbar": {
             "outlinewidth": 0,
             "ticks": ""
            },
            "type": "choropleth"
           }
          ],
          "contour": [
           {
            "colorbar": {
             "outlinewidth": 0,
             "ticks": ""
            },
            "colorscale": [
             [
              0,
              "#0d0887"
             ],
             [
              0.1111111111111111,
              "#46039f"
             ],
             [
              0.2222222222222222,
              "#7201a8"
             ],
             [
              0.3333333333333333,
              "#9c179e"
             ],
             [
              0.4444444444444444,
              "#bd3786"
             ],
             [
              0.5555555555555556,
              "#d8576b"
             ],
             [
              0.6666666666666666,
              "#ed7953"
             ],
             [
              0.7777777777777778,
              "#fb9f3a"
             ],
             [
              0.8888888888888888,
              "#fdca26"
             ],
             [
              1,
              "#f0f921"
             ]
            ],
            "type": "contour"
           }
          ],
          "contourcarpet": [
           {
            "colorbar": {
             "outlinewidth": 0,
             "ticks": ""
            },
            "type": "contourcarpet"
           }
          ],
          "heatmap": [
           {
            "colorbar": {
             "outlinewidth": 0,
             "ticks": ""
            },
            "colorscale": [
             [
              0,
              "#0d0887"
             ],
             [
              0.1111111111111111,
              "#46039f"
             ],
             [
              0.2222222222222222,
              "#7201a8"
             ],
             [
              0.3333333333333333,
              "#9c179e"
             ],
             [
              0.4444444444444444,
              "#bd3786"
             ],
             [
              0.5555555555555556,
              "#d8576b"
             ],
             [
              0.6666666666666666,
              "#ed7953"
             ],
             [
              0.7777777777777778,
              "#fb9f3a"
             ],
             [
              0.8888888888888888,
              "#fdca26"
             ],
             [
              1,
              "#f0f921"
             ]
            ],
            "type": "heatmap"
           }
          ],
          "histogram": [
           {
            "marker": {
             "pattern": {
              "fillmode": "overlay",
              "size": 10,
              "solidity": 0.2
             }
            },
            "type": "histogram"
           }
          ],
          "histogram2d": [
           {
            "colorbar": {
             "outlinewidth": 0,
             "ticks": ""
            },
            "colorscale": [
             [
              0,
              "#0d0887"
             ],
             [
              0.1111111111111111,
              "#46039f"
             ],
             [
              0.2222222222222222,
              "#7201a8"
             ],
             [
              0.3333333333333333,
              "#9c179e"
             ],
             [
              0.4444444444444444,
              "#bd3786"
             ],
             [
              0.5555555555555556,
              "#d8576b"
             ],
             [
              0.6666666666666666,
              "#ed7953"
             ],
             [
              0.7777777777777778,
              "#fb9f3a"
             ],
             [
              0.8888888888888888,
              "#fdca26"
             ],
             [
              1,
              "#f0f921"
             ]
            ],
            "type": "histogram2d"
           }
          ],
          "histogram2dcontour": [
           {
            "colorbar": {
             "outlinewidth": 0,
             "ticks": ""
            },
            "colorscale": [
             [
              0,
              "#0d0887"
             ],
             [
              0.1111111111111111,
              "#46039f"
             ],
             [
              0.2222222222222222,
              "#7201a8"
             ],
             [
              0.3333333333333333,
              "#9c179e"
             ],
             [
              0.4444444444444444,
              "#bd3786"
             ],
             [
              0.5555555555555556,
              "#d8576b"
             ],
             [
              0.6666666666666666,
              "#ed7953"
             ],
             [
              0.7777777777777778,
              "#fb9f3a"
             ],
             [
              0.8888888888888888,
              "#fdca26"
             ],
             [
              1,
              "#f0f921"
             ]
            ],
            "type": "histogram2dcontour"
           }
          ],
          "mesh3d": [
           {
            "colorbar": {
             "outlinewidth": 0,
             "ticks": ""
            },
            "type": "mesh3d"
           }
          ],
          "parcoords": [
           {
            "line": {
             "colorbar": {
              "outlinewidth": 0,
              "ticks": ""
             }
            },
            "type": "parcoords"
           }
          ],
          "pie": [
           {
            "automargin": true,
            "type": "pie"
           }
          ],
          "scatter": [
           {
            "fillpattern": {
             "fillmode": "overlay",
             "size": 10,
             "solidity": 0.2
            },
            "type": "scatter"
           }
          ],
          "scatter3d": [
           {
            "line": {
             "colorbar": {
              "outlinewidth": 0,
              "ticks": ""
             }
            },
            "marker": {
             "colorbar": {
              "outlinewidth": 0,
              "ticks": ""
             }
            },
            "type": "scatter3d"
           }
          ],
          "scattercarpet": [
           {
            "marker": {
             "colorbar": {
              "outlinewidth": 0,
              "ticks": ""
             }
            },
            "type": "scattercarpet"
           }
          ],
          "scattergeo": [
           {
            "marker": {
             "colorbar": {
              "outlinewidth": 0,
              "ticks": ""
             }
            },
            "type": "scattergeo"
           }
          ],
          "scattergl": [
           {
            "marker": {
             "colorbar": {
              "outlinewidth": 0,
              "ticks": ""
             }
            },
            "type": "scattergl"
           }
          ],
          "scattermap": [
           {
            "marker": {
             "colorbar": {
              "outlinewidth": 0,
              "ticks": ""
             }
            },
            "type": "scattermap"
           }
          ],
          "scattermapbox": [
           {
            "marker": {
             "colorbar": {
              "outlinewidth": 0,
              "ticks": ""
             }
            },
            "type": "scattermapbox"
           }
          ],
          "scatterpolar": [
           {
            "marker": {
             "colorbar": {
              "outlinewidth": 0,
              "ticks": ""
             }
            },
            "type": "scatterpolar"
           }
          ],
          "scatterpolargl": [
           {
            "marker": {
             "colorbar": {
              "outlinewidth": 0,
              "ticks": ""
             }
            },
            "type": "scatterpolargl"
           }
          ],
          "scatterternary": [
           {
            "marker": {
             "colorbar": {
              "outlinewidth": 0,
              "ticks": ""
             }
            },
            "type": "scatterternary"
           }
          ],
          "surface": [
           {
            "colorbar": {
             "outlinewidth": 0,
             "ticks": ""
            },
            "colorscale": [
             [
              0,
              "#0d0887"
             ],
             [
              0.1111111111111111,
              "#46039f"
             ],
             [
              0.2222222222222222,
              "#7201a8"
             ],
             [
              0.3333333333333333,
              "#9c179e"
             ],
             [
              0.4444444444444444,
              "#bd3786"
             ],
             [
              0.5555555555555556,
              "#d8576b"
             ],
             [
              0.6666666666666666,
              "#ed7953"
             ],
             [
              0.7777777777777778,
              "#fb9f3a"
             ],
             [
              0.8888888888888888,
              "#fdca26"
             ],
             [
              1,
              "#f0f921"
             ]
            ],
            "type": "surface"
           }
          ],
          "table": [
           {
            "cells": {
             "fill": {
              "color": "#EBF0F8"
             },
             "line": {
              "color": "white"
             }
            },
            "header": {
             "fill": {
              "color": "#C8D4E3"
             },
             "line": {
              "color": "white"
             }
            },
            "type": "table"
           }
          ]
         },
         "layout": {
          "annotationdefaults": {
           "arrowcolor": "#2a3f5f",
           "arrowhead": 0,
           "arrowwidth": 1
          },
          "autotypenumbers": "strict",
          "coloraxis": {
           "colorbar": {
            "outlinewidth": 0,
            "ticks": ""
           }
          },
          "colorscale": {
           "diverging": [
            [
             0,
             "#8e0152"
            ],
            [
             0.1,
             "#c51b7d"
            ],
            [
             0.2,
             "#de77ae"
            ],
            [
             0.3,
             "#f1b6da"
            ],
            [
             0.4,
             "#fde0ef"
            ],
            [
             0.5,
             "#f7f7f7"
            ],
            [
             0.6,
             "#e6f5d0"
            ],
            [
             0.7,
             "#b8e186"
            ],
            [
             0.8,
             "#7fbc41"
            ],
            [
             0.9,
             "#4d9221"
            ],
            [
             1,
             "#276419"
            ]
           ],
           "sequential": [
            [
             0,
             "#0d0887"
            ],
            [
             0.1111111111111111,
             "#46039f"
            ],
            [
             0.2222222222222222,
             "#7201a8"
            ],
            [
             0.3333333333333333,
             "#9c179e"
            ],
            [
             0.4444444444444444,
             "#bd3786"
            ],
            [
             0.5555555555555556,
             "#d8576b"
            ],
            [
             0.6666666666666666,
             "#ed7953"
            ],
            [
             0.7777777777777778,
             "#fb9f3a"
            ],
            [
             0.8888888888888888,
             "#fdca26"
            ],
            [
             1,
             "#f0f921"
            ]
           ],
           "sequentialminus": [
            [
             0,
             "#0d0887"
            ],
            [
             0.1111111111111111,
             "#46039f"
            ],
            [
             0.2222222222222222,
             "#7201a8"
            ],
            [
             0.3333333333333333,
             "#9c179e"
            ],
            [
             0.4444444444444444,
             "#bd3786"
            ],
            [
             0.5555555555555556,
             "#d8576b"
            ],
            [
             0.6666666666666666,
             "#ed7953"
            ],
            [
             0.7777777777777778,
             "#fb9f3a"
            ],
            [
             0.8888888888888888,
             "#fdca26"
            ],
            [
             1,
             "#f0f921"
            ]
           ]
          },
          "colorway": [
           "#636efa",
           "#EF553B",
           "#00cc96",
           "#ab63fa",
           "#FFA15A",
           "#19d3f3",
           "#FF6692",
           "#B6E880",
           "#FF97FF",
           "#FECB52"
          ],
          "font": {
           "color": "#2a3f5f"
          },
          "geo": {
           "bgcolor": "white",
           "lakecolor": "white",
           "landcolor": "#E5ECF6",
           "showlakes": true,
           "showland": true,
           "subunitcolor": "white"
          },
          "hoverlabel": {
           "align": "left"
          },
          "hovermode": "closest",
          "mapbox": {
           "style": "light"
          },
          "paper_bgcolor": "white",
          "plot_bgcolor": "#E5ECF6",
          "polar": {
           "angularaxis": {
            "gridcolor": "white",
            "linecolor": "white",
            "ticks": ""
           },
           "bgcolor": "#E5ECF6",
           "radialaxis": {
            "gridcolor": "white",
            "linecolor": "white",
            "ticks": ""
           }
          },
          "scene": {
           "xaxis": {
            "backgroundcolor": "#E5ECF6",
            "gridcolor": "white",
            "gridwidth": 2,
            "linecolor": "white",
            "showbackground": true,
            "ticks": "",
            "zerolinecolor": "white"
           },
           "yaxis": {
            "backgroundcolor": "#E5ECF6",
            "gridcolor": "white",
            "gridwidth": 2,
            "linecolor": "white",
            "showbackground": true,
            "ticks": "",
            "zerolinecolor": "white"
           },
           "zaxis": {
            "backgroundcolor": "#E5ECF6",
            "gridcolor": "white",
            "gridwidth": 2,
            "linecolor": "white",
            "showbackground": true,
            "ticks": "",
            "zerolinecolor": "white"
           }
          },
          "shapedefaults": {
           "line": {
            "color": "#2a3f5f"
           }
          },
          "ternary": {
           "aaxis": {
            "gridcolor": "white",
            "linecolor": "white",
            "ticks": ""
           },
           "baxis": {
            "gridcolor": "white",
            "linecolor": "white",
            "ticks": ""
           },
           "bgcolor": "#E5ECF6",
           "caxis": {
            "gridcolor": "white",
            "linecolor": "white",
            "ticks": ""
           }
          },
          "title": {
           "x": 0.05
          },
          "xaxis": {
           "automargin": true,
           "gridcolor": "white",
           "linecolor": "white",
           "ticks": "",
           "title": {
            "standoff": 15
           },
           "zerolinecolor": "white",
           "zerolinewidth": 2
          },
          "yaxis": {
           "automargin": true,
           "gridcolor": "white",
           "linecolor": "white",
           "ticks": "",
           "title": {
            "standoff": 15
           },
           "zerolinecolor": "white",
           "zerolinewidth": 2
          }
         }
        },
        "title": {
         "text": "MktShare Vs Profit"
        },
        "xaxis": {
         "anchor": "y",
         "domain": [
          0,
          1
         ],
         "title": {
          "text": "MktShare"
         }
        },
        "yaxis": {
         "anchor": "x",
         "domain": [
          0,
          1
         ],
         "title": {
          "text": "EPP"
         }
        }
       }
      }
     },
     "metadata": {},
     "output_type": "display_data"
    }
   ],
   "source": [
    "import plotly.express as px\n",
    "fig= px.scatter(LexicalDf,\n",
    "                x='MktShare',\n",
    "                y='EPP',\n",
    "                size='Revenue',\n",
    "                title='MktShare Vs Profit',\n",
    "                labels={'Revenue': 'Revenue', 'Profit': 'EPP',}\n",
    "               )\n",
    "  # Adjust label positions\n",
    "fig.update_traces(textposition='top center')\n",
    "\n",
    "# Show plot\n",
    "fig.show()              "
   ]
  },
  {
   "cell_type": "code",
   "execution_count": 58,
   "id": "ebbd7f30-004a-4144-bfd8-83a4e26ac181",
   "metadata": {},
   "outputs": [],
   "source": [
    "LexicalDf.to_csv('DiscreteOptimizationResults.csv',index=False)"
   ]
  }
 ],
 "metadata": {
  "kernelspec": {
   "display_name": "flaxenv",
   "language": "python",
   "name": "python3"
  },
  "language_info": {
   "codemirror_mode": {
    "name": "ipython",
    "version": 3
   },
   "file_extension": ".py",
   "mimetype": "text/x-python",
   "name": "python",
   "nbconvert_exporter": "python",
   "pygments_lexer": "ipython3",
   "version": "3.11.12"
  }
 },
 "nbformat": 4,
 "nbformat_minor": 5
}
